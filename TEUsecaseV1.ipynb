{
  "nbformat": 4,
  "nbformat_minor": 0,
  "metadata": {
    "colab": {
      "name": "Untitled19.ipynb",
      "provenance": [],
      "authorship_tag": "ABX9TyNYrVHAXGjLUTrQVgZWXezu",
      "include_colab_link": true
    },
    "kernelspec": {
      "name": "python3",
      "display_name": "Python 3"
    },
    "language_info": {
      "name": "python"
    },
    "accelerator": "GPU"
  },
  "cells": [
    {
      "cell_type": "markdown",
      "metadata": {
        "id": "view-in-github",
        "colab_type": "text"
      },
      "source": [
        "<a href=\"https://colab.research.google.com/github/connect2srinu/Data-Science--Cheat-Sheet/blob/master/TEUsecaseV1.ipynb\" target=\"_parent\"><img src=\"https://colab.research.google.com/assets/colab-badge.svg\" alt=\"Open In Colab\"/></a>"
      ]
    },
    {
      "cell_type": "code",
      "metadata": {
        "colab": {
          "base_uri": "https://localhost:8080/",
          "height": 17
        },
        "id": "taKJGi9V2qLa",
        "outputId": "4ceb2688-1c22-4664-ba8c-84ffcbdf4c3b"
      },
      "source": [
        "import pandas as pd \n",
        "import numpy as np\n",
        "import matplotlib\n",
        "import matplotlib.pyplot as plt\n",
        "import seaborn as sns\n",
        "%matplotlib inline \n",
        "import plotly.graph_objs as go\n",
        "import plotly.figure_factory as ff\n",
        "from plotly import tools\n",
        "from plotly.offline import download_plotlyjs, init_notebook_mode, plot, iplot\n",
        "init_notebook_mode(connected=True)\n",
        "\n",
        "\n",
        "import gc\n",
        "from datetime import datetime \n",
        "from sklearn.model_selection import train_test_split\n",
        "from sklearn.model_selection import KFold\n",
        "from sklearn.metrics import roc_auc_score\n",
        "from sklearn.ensemble import RandomForestClassifier\n",
        "from sklearn.ensemble import AdaBoostClassifier\n",
        "\n",
        "from sklearn import svm\n",
        "import lightgbm as lgb\n",
        "from lightgbm import LGBMClassifier\n",
        "import xgboost as xgb"
      ],
      "execution_count": 1,
      "outputs": [
        {
          "output_type": "display_data",
          "data": {
            "text/html": [
              "        <script type=\"text/javascript\">\n",
              "        window.PlotlyConfig = {MathJaxConfig: 'local'};\n",
              "        if (window.MathJax) {MathJax.Hub.Config({SVG: {font: \"STIX-Web\"}});}\n",
              "        if (typeof require !== 'undefined') {\n",
              "        require.undef(\"plotly\");\n",
              "        requirejs.config({\n",
              "            paths: {\n",
              "                'plotly': ['https://cdn.plot.ly/plotly-latest.min']\n",
              "            }\n",
              "        });\n",
              "        require(['plotly'], function(Plotly) {\n",
              "            window._Plotly = Plotly;\n",
              "        });\n",
              "        }\n",
              "        </script>\n",
              "        "
            ]
          },
          "metadata": {
            "tags": []
          }
        }
      ]
    },
    {
      "cell_type": "code",
      "metadata": {
        "colab": {
          "base_uri": "https://localhost:8080/"
        },
        "id": "UxEPgOPhkqMg",
        "outputId": "1575c014-cdaa-40c0-f542-9d1ca57d5ed3"
      },
      "source": [
        "!pip install imblearn --upgrade\n",
        "!pip install plotly --upgrade\n",
        "!pip install chart-studio --upgrade"
      ],
      "execution_count": 2,
      "outputs": [
        {
          "output_type": "stream",
          "text": [
            "Requirement already up-to-date: imblearn in /usr/local/lib/python3.7/dist-packages (0.0)\n",
            "Requirement already satisfied, skipping upgrade: imbalanced-learn in /usr/local/lib/python3.7/dist-packages (from imblearn) (0.4.3)\n",
            "Requirement already satisfied, skipping upgrade: numpy>=1.8.2 in /usr/local/lib/python3.7/dist-packages (from imbalanced-learn->imblearn) (1.19.5)\n",
            "Requirement already satisfied, skipping upgrade: scikit-learn>=0.20 in /usr/local/lib/python3.7/dist-packages (from imbalanced-learn->imblearn) (0.22.2.post1)\n",
            "Requirement already satisfied, skipping upgrade: scipy>=0.13.3 in /usr/local/lib/python3.7/dist-packages (from imbalanced-learn->imblearn) (1.4.1)\n",
            "Requirement already satisfied, skipping upgrade: joblib>=0.11 in /usr/local/lib/python3.7/dist-packages (from scikit-learn>=0.20->imbalanced-learn->imblearn) (1.0.1)\n",
            "Requirement already up-to-date: plotly in /usr/local/lib/python3.7/dist-packages (4.14.3)\n",
            "Requirement already satisfied, skipping upgrade: retrying>=1.3.3 in /usr/local/lib/python3.7/dist-packages (from plotly) (1.3.3)\n",
            "Requirement already satisfied, skipping upgrade: six in /usr/local/lib/python3.7/dist-packages (from plotly) (1.15.0)\n",
            "Requirement already up-to-date: chart-studio in /usr/local/lib/python3.7/dist-packages (1.1.0)\n",
            "Requirement already satisfied, skipping upgrade: retrying>=1.3.3 in /usr/local/lib/python3.7/dist-packages (from chart-studio) (1.3.3)\n",
            "Requirement already satisfied, skipping upgrade: requests in /usr/local/lib/python3.7/dist-packages (from chart-studio) (2.23.0)\n",
            "Requirement already satisfied, skipping upgrade: six in /usr/local/lib/python3.7/dist-packages (from chart-studio) (1.15.0)\n",
            "Requirement already satisfied, skipping upgrade: plotly in /usr/local/lib/python3.7/dist-packages (from chart-studio) (4.14.3)\n",
            "Requirement already satisfied, skipping upgrade: urllib3!=1.25.0,!=1.25.1,<1.26,>=1.21.1 in /usr/local/lib/python3.7/dist-packages (from requests->chart-studio) (1.24.3)\n",
            "Requirement already satisfied, skipping upgrade: certifi>=2017.4.17 in /usr/local/lib/python3.7/dist-packages (from requests->chart-studio) (2020.12.5)\n",
            "Requirement already satisfied, skipping upgrade: idna<3,>=2.5 in /usr/local/lib/python3.7/dist-packages (from requests->chart-studio) (2.10)\n",
            "Requirement already satisfied, skipping upgrade: chardet<4,>=3.0.2 in /usr/local/lib/python3.7/dist-packages (from requests->chart-studio) (3.0.4)\n"
          ],
          "name": "stdout"
        }
      ]
    },
    {
      "cell_type": "code",
      "metadata": {
        "colab": {
          "base_uri": "https://localhost:8080/"
        },
        "id": "VzU9fahdkjX-",
        "outputId": "be15c818-9977-4526-e44c-94e59cd4a0c3"
      },
      "source": [
        "import chart_studio.plotly as py\n",
        "import plotly.graph_objs as go\n",
        "import plotly as plotly\n",
        "import pandas as pd\n",
        "import numpy as np\n",
        "from imblearn.over_sampling import SMOTE\n",
        "from imblearn.over_sampling import SMOTENC\n",
        "from sklearn import metrics\n",
        "from sklearn.preprocessing import LabelEncoder\n",
        "import xgboost as xgb\n",
        "from xgboost.sklearn import XGBClassifier\n",
        "import types\n",
        "import pandas as pd\n",
        "def __iter__(self): return 0"
      ],
      "execution_count": 3,
      "outputs": [
        {
          "output_type": "stream",
          "text": [
            "/usr/local/lib/python3.7/dist-packages/sklearn/externals/six.py:31: FutureWarning:\n",
            "\n",
            "The module is deprecated in version 0.21 and will be removed in version 0.23 since we've dropped support for Python 2.7. Please rely on the official version of six (https://pypi.org/project/six/).\n",
            "\n",
            "/usr/local/lib/python3.7/dist-packages/sklearn/utils/deprecation.py:144: FutureWarning:\n",
            "\n",
            "The sklearn.neighbors.base module is  deprecated in version 0.22 and will be removed in version 0.24. The corresponding classes / functions should instead be imported from sklearn.neighbors. Anything that cannot be imported from sklearn.neighbors is now part of the private API.\n",
            "\n"
          ],
          "name": "stderr"
        }
      ]
    },
    {
      "cell_type": "code",
      "metadata": {
        "id": "oHqVDzB12_RR"
      },
      "source": [
        "from google.colab import files\n",
        "#files.upload()"
      ],
      "execution_count": 4,
      "outputs": []
    },
    {
      "cell_type": "code",
      "metadata": {
        "id": "VW6a3eFt3N3Q"
      },
      "source": [
        "data_df = pd.read_csv(\"predictive_maintainece_dataset.csv\")"
      ],
      "execution_count": 5,
      "outputs": []
    },
    {
      "cell_type": "markdown",
      "metadata": {
        "id": "bPEhozyg3PmU"
      },
      "source": [
        "# New Section"
      ]
    },
    {
      "cell_type": "code",
      "metadata": {
        "colab": {
          "base_uri": "https://localhost:8080/",
          "height": 282
        },
        "id": "qeQRcIWB3OEd",
        "outputId": "0c54f146-1f73-43bc-8ede-25979420557e"
      },
      "source": [
        "data_df.describe()"
      ],
      "execution_count": 6,
      "outputs": [
        {
          "output_type": "execute_result",
          "data": {
            "text/html": [
              "<div>\n",
              "<style scoped>\n",
              "    .dataframe tbody tr th:only-of-type {\n",
              "        vertical-align: middle;\n",
              "    }\n",
              "\n",
              "    .dataframe tbody tr th {\n",
              "        vertical-align: top;\n",
              "    }\n",
              "\n",
              "    .dataframe thead th {\n",
              "        text-align: right;\n",
              "    }\n",
              "</style>\n",
              "<table border=\"1\" class=\"dataframe\">\n",
              "  <thead>\n",
              "    <tr style=\"text-align: right;\">\n",
              "      <th></th>\n",
              "      <th>failure</th>\n",
              "      <th>metric1</th>\n",
              "      <th>metric2</th>\n",
              "      <th>metric3</th>\n",
              "      <th>metric4</th>\n",
              "      <th>metric5</th>\n",
              "      <th>metric6</th>\n",
              "      <th>metric7</th>\n",
              "      <th>metric8</th>\n",
              "      <th>metric9</th>\n",
              "    </tr>\n",
              "  </thead>\n",
              "  <tbody>\n",
              "    <tr>\n",
              "      <th>count</th>\n",
              "      <td>124494.000000</td>\n",
              "      <td>1.244940e+05</td>\n",
              "      <td>124494.000000</td>\n",
              "      <td>124494.000000</td>\n",
              "      <td>124494.000000</td>\n",
              "      <td>124494.000000</td>\n",
              "      <td>124494.000000</td>\n",
              "      <td>124494.000000</td>\n",
              "      <td>124494.000000</td>\n",
              "      <td>124494.000000</td>\n",
              "    </tr>\n",
              "    <tr>\n",
              "      <th>mean</th>\n",
              "      <td>0.000851</td>\n",
              "      <td>1.223881e+08</td>\n",
              "      <td>159.492706</td>\n",
              "      <td>9.940897</td>\n",
              "      <td>1.741120</td>\n",
              "      <td>14.222669</td>\n",
              "      <td>260172.657726</td>\n",
              "      <td>0.292528</td>\n",
              "      <td>0.292528</td>\n",
              "      <td>13.013848</td>\n",
              "    </tr>\n",
              "    <tr>\n",
              "      <th>std</th>\n",
              "      <td>0.029167</td>\n",
              "      <td>7.045933e+07</td>\n",
              "      <td>2179.677781</td>\n",
              "      <td>185.748131</td>\n",
              "      <td>22.908507</td>\n",
              "      <td>15.943028</td>\n",
              "      <td>99151.078547</td>\n",
              "      <td>7.436924</td>\n",
              "      <td>7.436924</td>\n",
              "      <td>275.661220</td>\n",
              "    </tr>\n",
              "    <tr>\n",
              "      <th>min</th>\n",
              "      <td>0.000000</td>\n",
              "      <td>0.000000e+00</td>\n",
              "      <td>0.000000</td>\n",
              "      <td>0.000000</td>\n",
              "      <td>0.000000</td>\n",
              "      <td>1.000000</td>\n",
              "      <td>8.000000</td>\n",
              "      <td>0.000000</td>\n",
              "      <td>0.000000</td>\n",
              "      <td>0.000000</td>\n",
              "    </tr>\n",
              "    <tr>\n",
              "      <th>25%</th>\n",
              "      <td>0.000000</td>\n",
              "      <td>6.128476e+07</td>\n",
              "      <td>0.000000</td>\n",
              "      <td>0.000000</td>\n",
              "      <td>0.000000</td>\n",
              "      <td>8.000000</td>\n",
              "      <td>221452.000000</td>\n",
              "      <td>0.000000</td>\n",
              "      <td>0.000000</td>\n",
              "      <td>0.000000</td>\n",
              "    </tr>\n",
              "    <tr>\n",
              "      <th>50%</th>\n",
              "      <td>0.000000</td>\n",
              "      <td>1.227974e+08</td>\n",
              "      <td>0.000000</td>\n",
              "      <td>0.000000</td>\n",
              "      <td>0.000000</td>\n",
              "      <td>10.000000</td>\n",
              "      <td>249799.500000</td>\n",
              "      <td>0.000000</td>\n",
              "      <td>0.000000</td>\n",
              "      <td>0.000000</td>\n",
              "    </tr>\n",
              "    <tr>\n",
              "      <th>75%</th>\n",
              "      <td>0.000000</td>\n",
              "      <td>1.833096e+08</td>\n",
              "      <td>0.000000</td>\n",
              "      <td>0.000000</td>\n",
              "      <td>0.000000</td>\n",
              "      <td>12.000000</td>\n",
              "      <td>310266.000000</td>\n",
              "      <td>0.000000</td>\n",
              "      <td>0.000000</td>\n",
              "      <td>0.000000</td>\n",
              "    </tr>\n",
              "    <tr>\n",
              "      <th>max</th>\n",
              "      <td>1.000000</td>\n",
              "      <td>2.441405e+08</td>\n",
              "      <td>64968.000000</td>\n",
              "      <td>24929.000000</td>\n",
              "      <td>1666.000000</td>\n",
              "      <td>98.000000</td>\n",
              "      <td>689161.000000</td>\n",
              "      <td>832.000000</td>\n",
              "      <td>832.000000</td>\n",
              "      <td>70000.000000</td>\n",
              "    </tr>\n",
              "  </tbody>\n",
              "</table>\n",
              "</div>"
            ],
            "text/plain": [
              "             failure       metric1  ...        metric8        metric9\n",
              "count  124494.000000  1.244940e+05  ...  124494.000000  124494.000000\n",
              "mean        0.000851  1.223881e+08  ...       0.292528      13.013848\n",
              "std         0.029167  7.045933e+07  ...       7.436924     275.661220\n",
              "min         0.000000  0.000000e+00  ...       0.000000       0.000000\n",
              "25%         0.000000  6.128476e+07  ...       0.000000       0.000000\n",
              "50%         0.000000  1.227974e+08  ...       0.000000       0.000000\n",
              "75%         0.000000  1.833096e+08  ...       0.000000       0.000000\n",
              "max         1.000000  2.441405e+08  ...     832.000000   70000.000000\n",
              "\n",
              "[8 rows x 10 columns]"
            ]
          },
          "metadata": {
            "tags": []
          },
          "execution_count": 6
        }
      ]
    },
    {
      "cell_type": "code",
      "metadata": {
        "colab": {
          "base_uri": "https://localhost:8080/",
          "height": 194
        },
        "id": "IT1PKqai3l3b",
        "outputId": "f658f85d-3f14-4221-e6dc-7d7f2fcb897c"
      },
      "source": [
        "data_df.head()\n"
      ],
      "execution_count": 7,
      "outputs": [
        {
          "output_type": "execute_result",
          "data": {
            "text/html": [
              "<div>\n",
              "<style scoped>\n",
              "    .dataframe tbody tr th:only-of-type {\n",
              "        vertical-align: middle;\n",
              "    }\n",
              "\n",
              "    .dataframe tbody tr th {\n",
              "        vertical-align: top;\n",
              "    }\n",
              "\n",
              "    .dataframe thead th {\n",
              "        text-align: right;\n",
              "    }\n",
              "</style>\n",
              "<table border=\"1\" class=\"dataframe\">\n",
              "  <thead>\n",
              "    <tr style=\"text-align: right;\">\n",
              "      <th></th>\n",
              "      <th>date</th>\n",
              "      <th>device</th>\n",
              "      <th>failure</th>\n",
              "      <th>metric1</th>\n",
              "      <th>metric2</th>\n",
              "      <th>metric3</th>\n",
              "      <th>metric4</th>\n",
              "      <th>metric5</th>\n",
              "      <th>metric6</th>\n",
              "      <th>metric7</th>\n",
              "      <th>metric8</th>\n",
              "      <th>metric9</th>\n",
              "    </tr>\n",
              "  </thead>\n",
              "  <tbody>\n",
              "    <tr>\n",
              "      <th>0</th>\n",
              "      <td>1/1/2015</td>\n",
              "      <td>S1F01085</td>\n",
              "      <td>0</td>\n",
              "      <td>215630672</td>\n",
              "      <td>55</td>\n",
              "      <td>0</td>\n",
              "      <td>52</td>\n",
              "      <td>6</td>\n",
              "      <td>407438</td>\n",
              "      <td>0</td>\n",
              "      <td>0</td>\n",
              "      <td>7</td>\n",
              "    </tr>\n",
              "    <tr>\n",
              "      <th>1</th>\n",
              "      <td>1/1/2015</td>\n",
              "      <td>S1F0166B</td>\n",
              "      <td>0</td>\n",
              "      <td>61370680</td>\n",
              "      <td>0</td>\n",
              "      <td>3</td>\n",
              "      <td>0</td>\n",
              "      <td>6</td>\n",
              "      <td>403174</td>\n",
              "      <td>0</td>\n",
              "      <td>0</td>\n",
              "      <td>0</td>\n",
              "    </tr>\n",
              "    <tr>\n",
              "      <th>2</th>\n",
              "      <td>1/1/2015</td>\n",
              "      <td>S1F01E6Y</td>\n",
              "      <td>0</td>\n",
              "      <td>173295968</td>\n",
              "      <td>0</td>\n",
              "      <td>0</td>\n",
              "      <td>0</td>\n",
              "      <td>12</td>\n",
              "      <td>237394</td>\n",
              "      <td>0</td>\n",
              "      <td>0</td>\n",
              "      <td>0</td>\n",
              "    </tr>\n",
              "    <tr>\n",
              "      <th>3</th>\n",
              "      <td>1/1/2015</td>\n",
              "      <td>S1F01JE0</td>\n",
              "      <td>0</td>\n",
              "      <td>79694024</td>\n",
              "      <td>0</td>\n",
              "      <td>0</td>\n",
              "      <td>0</td>\n",
              "      <td>6</td>\n",
              "      <td>410186</td>\n",
              "      <td>0</td>\n",
              "      <td>0</td>\n",
              "      <td>0</td>\n",
              "    </tr>\n",
              "    <tr>\n",
              "      <th>4</th>\n",
              "      <td>1/1/2015</td>\n",
              "      <td>S1F01R2B</td>\n",
              "      <td>0</td>\n",
              "      <td>135970480</td>\n",
              "      <td>0</td>\n",
              "      <td>0</td>\n",
              "      <td>0</td>\n",
              "      <td>15</td>\n",
              "      <td>313173</td>\n",
              "      <td>0</td>\n",
              "      <td>0</td>\n",
              "      <td>3</td>\n",
              "    </tr>\n",
              "  </tbody>\n",
              "</table>\n",
              "</div>"
            ],
            "text/plain": [
              "       date    device  failure    metric1  ...  metric6  metric7  metric8  metric9\n",
              "0  1/1/2015  S1F01085        0  215630672  ...   407438        0        0        7\n",
              "1  1/1/2015  S1F0166B        0   61370680  ...   403174        0        0        0\n",
              "2  1/1/2015  S1F01E6Y        0  173295968  ...   237394        0        0        0\n",
              "3  1/1/2015  S1F01JE0        0   79694024  ...   410186        0        0        0\n",
              "4  1/1/2015  S1F01R2B        0  135970480  ...   313173        0        0        3\n",
              "\n",
              "[5 rows x 12 columns]"
            ]
          },
          "metadata": {
            "tags": []
          },
          "execution_count": 7
        }
      ]
    },
    {
      "cell_type": "code",
      "metadata": {
        "colab": {
          "base_uri": "https://localhost:8080/"
        },
        "id": "iFgvpZM23mIH",
        "outputId": "c597ff5f-3111-418e-dcdd-1fcbd5c68b84"
      },
      "source": [
        "data_df.shape"
      ],
      "execution_count": 8,
      "outputs": [
        {
          "output_type": "execute_result",
          "data": {
            "text/plain": [
              "(124494, 12)"
            ]
          },
          "metadata": {
            "tags": []
          },
          "execution_count": 8
        }
      ]
    },
    {
      "cell_type": "code",
      "metadata": {
        "colab": {
          "base_uri": "https://localhost:8080/"
        },
        "id": "cvxaI8t93mLk",
        "outputId": "1af43ede-d7fc-4c7c-9c95-d02314d2f475"
      },
      "source": [
        "data_df_device = pd.DataFrame(data_df.groupby(['device']).agg(['count']))\n",
        "data_df_device.shape"
      ],
      "execution_count": 9,
      "outputs": [
        {
          "output_type": "execute_result",
          "data": {
            "text/plain": [
              "(1169, 11)"
            ]
          },
          "metadata": {
            "tags": []
          },
          "execution_count": 9
        }
      ]
    },
    {
      "cell_type": "code",
      "metadata": {
        "colab": {
          "base_uri": "https://localhost:8080/"
        },
        "id": "j_FmsxFC3mOT",
        "outputId": "30feb4fd-1a00-409a-d6b7-cc193d3f1d7e"
      },
      "source": [
        "data_df_date = pd.DataFrame(data_df.groupby(['date']).agg(['count']))\n",
        "data_df_date.shape"
      ],
      "execution_count": 10,
      "outputs": [
        {
          "output_type": "execute_result",
          "data": {
            "text/plain": [
              "(304, 11)"
            ]
          },
          "metadata": {
            "tags": []
          },
          "execution_count": 10
        }
      ]
    },
    {
      "cell_type": "code",
      "metadata": {
        "colab": {
          "base_uri": "https://localhost:8080/"
        },
        "id": "vImHrYGw3mRu",
        "outputId": "3299ee72-cb55-40c2-a243-2779b4a7663a"
      },
      "source": [
        "data_df.isnull().sum(axis = 0)"
      ],
      "execution_count": 11,
      "outputs": [
        {
          "output_type": "execute_result",
          "data": {
            "text/plain": [
              "date       0\n",
              "device     0\n",
              "failure    0\n",
              "metric1    0\n",
              "metric2    0\n",
              "metric3    0\n",
              "metric4    0\n",
              "metric5    0\n",
              "metric6    0\n",
              "metric7    0\n",
              "metric8    0\n",
              "metric9    0\n",
              "dtype: int64"
            ]
          },
          "metadata": {
            "tags": []
          },
          "execution_count": 11
        }
      ]
    },
    {
      "cell_type": "code",
      "metadata": {
        "colab": {
          "base_uri": "https://localhost:8080/",
          "height": 76
        },
        "id": "YoPlJxft41ca",
        "outputId": "8e139e93-c619-4d0f-a263-abf9910dd444"
      },
      "source": [
        "duplicate = data_df[data_df.duplicated(['device','date'])]\n",
        "duplicate"
      ],
      "execution_count": 12,
      "outputs": [
        {
          "output_type": "execute_result",
          "data": {
            "text/html": [
              "<div>\n",
              "<style scoped>\n",
              "    .dataframe tbody tr th:only-of-type {\n",
              "        vertical-align: middle;\n",
              "    }\n",
              "\n",
              "    .dataframe tbody tr th {\n",
              "        vertical-align: top;\n",
              "    }\n",
              "\n",
              "    .dataframe thead th {\n",
              "        text-align: right;\n",
              "    }\n",
              "</style>\n",
              "<table border=\"1\" class=\"dataframe\">\n",
              "  <thead>\n",
              "    <tr style=\"text-align: right;\">\n",
              "      <th></th>\n",
              "      <th>date</th>\n",
              "      <th>device</th>\n",
              "      <th>failure</th>\n",
              "      <th>metric1</th>\n",
              "      <th>metric2</th>\n",
              "      <th>metric3</th>\n",
              "      <th>metric4</th>\n",
              "      <th>metric5</th>\n",
              "      <th>metric6</th>\n",
              "      <th>metric7</th>\n",
              "      <th>metric8</th>\n",
              "      <th>metric9</th>\n",
              "    </tr>\n",
              "  </thead>\n",
              "  <tbody>\n",
              "    <tr>\n",
              "      <th>101335</th>\n",
              "      <td>7/10/2015</td>\n",
              "      <td>S1F0R4Q8</td>\n",
              "      <td>0</td>\n",
              "      <td>192721392</td>\n",
              "      <td>0</td>\n",
              "      <td>0</td>\n",
              "      <td>0</td>\n",
              "      <td>8</td>\n",
              "      <td>213700</td>\n",
              "      <td>0</td>\n",
              "      <td>0</td>\n",
              "      <td>0</td>\n",
              "    </tr>\n",
              "  </tbody>\n",
              "</table>\n",
              "</div>"
            ],
            "text/plain": [
              "             date    device  failure  ...  metric7  metric8  metric9\n",
              "101335  7/10/2015  S1F0R4Q8        0  ...        0        0        0\n",
              "\n",
              "[1 rows x 12 columns]"
            ]
          },
          "metadata": {
            "tags": []
          },
          "execution_count": 12
        }
      ]
    },
    {
      "cell_type": "code",
      "metadata": {
        "colab": {
          "base_uri": "https://localhost:8080/"
        },
        "id": "Jb8CHLyh41k6",
        "outputId": "fa8a61aa-42fd-41f9-df40-fbef6747d24c"
      },
      "source": [
        " data_df.duplicated(subset=['device','date'], keep='first')\n",
        "#data_df[data_df.duplicated(subset=['device','date'], keep='first')]"
      ],
      "execution_count": 13,
      "outputs": [
        {
          "output_type": "execute_result",
          "data": {
            "text/plain": [
              "0         False\n",
              "1         False\n",
              "2         False\n",
              "3         False\n",
              "4         False\n",
              "          ...  \n",
              "124489    False\n",
              "124490    False\n",
              "124491    False\n",
              "124492    False\n",
              "124493    False\n",
              "Length: 124494, dtype: bool"
            ]
          },
          "metadata": {
            "tags": []
          },
          "execution_count": 13
        }
      ]
    },
    {
      "cell_type": "code",
      "metadata": {
        "colab": {
          "base_uri": "https://localhost:8080/",
          "height": 135
        },
        "id": "rThoEQ0W41oz",
        "outputId": "a8fa83f9-4d41-45ac-e082-208135698360"
      },
      "source": [
        "data_df_class = pd.DataFrame(data_df.groupby(['failure'])['device'].agg('count'))\n",
        "data_df_class"
      ],
      "execution_count": 14,
      "outputs": [
        {
          "output_type": "execute_result",
          "data": {
            "text/html": [
              "<div>\n",
              "<style scoped>\n",
              "    .dataframe tbody tr th:only-of-type {\n",
              "        vertical-align: middle;\n",
              "    }\n",
              "\n",
              "    .dataframe tbody tr th {\n",
              "        vertical-align: top;\n",
              "    }\n",
              "\n",
              "    .dataframe thead th {\n",
              "        text-align: right;\n",
              "    }\n",
              "</style>\n",
              "<table border=\"1\" class=\"dataframe\">\n",
              "  <thead>\n",
              "    <tr style=\"text-align: right;\">\n",
              "      <th></th>\n",
              "      <th>device</th>\n",
              "    </tr>\n",
              "    <tr>\n",
              "      <th>failure</th>\n",
              "      <th></th>\n",
              "    </tr>\n",
              "  </thead>\n",
              "  <tbody>\n",
              "    <tr>\n",
              "      <th>0</th>\n",
              "      <td>124388</td>\n",
              "    </tr>\n",
              "    <tr>\n",
              "      <th>1</th>\n",
              "      <td>106</td>\n",
              "    </tr>\n",
              "  </tbody>\n",
              "</table>\n",
              "</div>"
            ],
            "text/plain": [
              "         device\n",
              "failure        \n",
              "0        124388\n",
              "1           106"
            ]
          },
          "metadata": {
            "tags": []
          },
          "execution_count": 14
        }
      ]
    },
    {
      "cell_type": "code",
      "metadata": {
        "id": "lIRWbClw41tG"
      },
      "source": [
        "data_df['date'] = pd.to_datetime(data_df['date'])"
      ],
      "execution_count": 15,
      "outputs": []
    },
    {
      "cell_type": "code",
      "metadata": {
        "colab": {
          "base_uri": "https://localhost:8080/",
          "height": 194
        },
        "id": "--76xD4e8abF",
        "outputId": "1479aecc-33e5-4eb9-9f39-326a18de5f69"
      },
      "source": [
        "data_df=data_df.sort_values(by=['device','date'], ascending=[True, True])\n",
        "data_df['flipper'] = np.where((data_df.device != data_df.device.shift(1)), 1, 0)\n",
        "data_df.head()"
      ],
      "execution_count": 16,
      "outputs": [
        {
          "output_type": "execute_result",
          "data": {
            "text/html": [
              "<div>\n",
              "<style scoped>\n",
              "    .dataframe tbody tr th:only-of-type {\n",
              "        vertical-align: middle;\n",
              "    }\n",
              "\n",
              "    .dataframe tbody tr th {\n",
              "        vertical-align: top;\n",
              "    }\n",
              "\n",
              "    .dataframe thead th {\n",
              "        text-align: right;\n",
              "    }\n",
              "</style>\n",
              "<table border=\"1\" class=\"dataframe\">\n",
              "  <thead>\n",
              "    <tr style=\"text-align: right;\">\n",
              "      <th></th>\n",
              "      <th>date</th>\n",
              "      <th>device</th>\n",
              "      <th>failure</th>\n",
              "      <th>metric1</th>\n",
              "      <th>metric2</th>\n",
              "      <th>metric3</th>\n",
              "      <th>metric4</th>\n",
              "      <th>metric5</th>\n",
              "      <th>metric6</th>\n",
              "      <th>metric7</th>\n",
              "      <th>metric8</th>\n",
              "      <th>metric9</th>\n",
              "      <th>flipper</th>\n",
              "    </tr>\n",
              "  </thead>\n",
              "  <tbody>\n",
              "    <tr>\n",
              "      <th>0</th>\n",
              "      <td>2015-01-01</td>\n",
              "      <td>S1F01085</td>\n",
              "      <td>0</td>\n",
              "      <td>215630672</td>\n",
              "      <td>55</td>\n",
              "      <td>0</td>\n",
              "      <td>52</td>\n",
              "      <td>6</td>\n",
              "      <td>407438</td>\n",
              "      <td>0</td>\n",
              "      <td>0</td>\n",
              "      <td>7</td>\n",
              "      <td>1</td>\n",
              "    </tr>\n",
              "    <tr>\n",
              "      <th>1163</th>\n",
              "      <td>2015-01-02</td>\n",
              "      <td>S1F01085</td>\n",
              "      <td>0</td>\n",
              "      <td>1650864</td>\n",
              "      <td>56</td>\n",
              "      <td>0</td>\n",
              "      <td>52</td>\n",
              "      <td>6</td>\n",
              "      <td>407438</td>\n",
              "      <td>0</td>\n",
              "      <td>0</td>\n",
              "      <td>7</td>\n",
              "      <td>0</td>\n",
              "    </tr>\n",
              "    <tr>\n",
              "      <th>2326</th>\n",
              "      <td>2015-01-03</td>\n",
              "      <td>S1F01085</td>\n",
              "      <td>0</td>\n",
              "      <td>124017368</td>\n",
              "      <td>56</td>\n",
              "      <td>0</td>\n",
              "      <td>52</td>\n",
              "      <td>6</td>\n",
              "      <td>407438</td>\n",
              "      <td>0</td>\n",
              "      <td>0</td>\n",
              "      <td>7</td>\n",
              "      <td>0</td>\n",
              "    </tr>\n",
              "    <tr>\n",
              "      <th>3489</th>\n",
              "      <td>2015-01-04</td>\n",
              "      <td>S1F01085</td>\n",
              "      <td>0</td>\n",
              "      <td>128073224</td>\n",
              "      <td>56</td>\n",
              "      <td>0</td>\n",
              "      <td>52</td>\n",
              "      <td>6</td>\n",
              "      <td>407439</td>\n",
              "      <td>0</td>\n",
              "      <td>0</td>\n",
              "      <td>7</td>\n",
              "      <td>0</td>\n",
              "    </tr>\n",
              "    <tr>\n",
              "      <th>4651</th>\n",
              "      <td>2015-01-05</td>\n",
              "      <td>S1F01085</td>\n",
              "      <td>0</td>\n",
              "      <td>97393448</td>\n",
              "      <td>56</td>\n",
              "      <td>0</td>\n",
              "      <td>52</td>\n",
              "      <td>6</td>\n",
              "      <td>408114</td>\n",
              "      <td>0</td>\n",
              "      <td>0</td>\n",
              "      <td>7</td>\n",
              "      <td>0</td>\n",
              "    </tr>\n",
              "  </tbody>\n",
              "</table>\n",
              "</div>"
            ],
            "text/plain": [
              "           date    device  failure  ...  metric8  metric9  flipper\n",
              "0    2015-01-01  S1F01085        0  ...        0        7        1\n",
              "1163 2015-01-02  S1F01085        0  ...        0        7        0\n",
              "2326 2015-01-03  S1F01085        0  ...        0        7        0\n",
              "3489 2015-01-04  S1F01085        0  ...        0        7        0\n",
              "4651 2015-01-05  S1F01085        0  ...        0        7        0\n",
              "\n",
              "[5 rows x 13 columns]"
            ]
          },
          "metadata": {
            "tags": []
          },
          "execution_count": 16
        }
      ]
    },
    {
      "cell_type": "code",
      "metadata": {
        "id": "VHI_tuiB8atw"
      },
      "source": [
        "#define your feature window. This is the window by which we will aggregate our sensor values.\n",
        "feature_window=21"
      ],
      "execution_count": 17,
      "outputs": []
    },
    {
      "cell_type": "code",
      "metadata": {
        "id": "FTFHSpPn8u4Y"
      },
      "source": [
        "dfx=data_df\n",
        "#Select the first record of each machine\n",
        "starter=dfx[dfx['flipper'] == 1]\n",
        "starter=starter[['date','device']]\n",
        "#rename date to START_DATE\n",
        "starter=starter.rename(index=str, columns={\"date\": \"START_DATE\"})\n",
        "#convert START_DATE to date\n",
        "starter['START_DATE'] = pd.to_datetime(starter['START_DATE'])\n",
        "#Merge START_DATE to the original data set\n",
        "dfx=dfx.sort_values(by=['device', 'date'], ascending=[True, True])\n",
        "starter=starter.sort_values(by=['device'], ascending=[True])\n",
        "dfx =dfx.merge(starter, on=['device'], how='left')\n",
        "# calculate the number of days since the beginning of each well. \n",
        "dfx['C'] = dfx['date'] - dfx['START_DATE']\n",
        "dfx['TIME_SINCE_START'] = dfx['C'] / np.timedelta64(1, 'D')\n",
        "dfx=dfx.drop(columns=['C'])\n",
        "dfx['too_soon'] = np.where((dfx.TIME_SINCE_START < feature_window) , 1, 0)"
      ],
      "execution_count": 18,
      "outputs": []
    },
    {
      "cell_type": "code",
      "metadata": {
        "id": "RuoBfY6P8vMC"
      },
      "source": [
        "dfx['metric1_mean'] = np.where((dfx.too_soon == 0),(dfx['metric1'].rolling(min_periods=1, window=feature_window).mean()) , dfx.metric1)\n",
        "dfx['metric1_median'] = np.where((dfx.too_soon == 0),(dfx['metric1'].rolling(min_periods=1, window=feature_window).median()) , dfx.metric1)\n",
        "dfx['metric1_max'] = np.where((dfx.too_soon == 0),(dfx['metric1'].rolling(min_periods=1, window=feature_window).max()) , dfx.metric1)\n",
        "dfx['metric1_min'] = np.where((dfx.too_soon == 0),(dfx['metric1'].rolling(min_periods=1, window=feature_window).min()) , dfx.metric1)\n",
        "dfx['metric2_mean'] = np.where((dfx.too_soon == 0),(dfx['metric2'].rolling(min_periods=1, window=feature_window).mean()) , dfx.metric2)\n",
        "dfx['metric2_median'] = np.where((dfx.too_soon == 0),(dfx['metric2'].rolling(min_periods=1, window=feature_window).median()) , dfx.metric2)\n",
        "dfx['metric2_max'] = np.where((dfx.too_soon == 0),(dfx['metric2'].rolling(min_periods=1, window=feature_window).max()) , dfx.metric2)\n",
        "dfx['metric2_min'] = np.where((dfx.too_soon == 0),(dfx['metric2'].rolling(min_periods=1, window=feature_window).min()) , dfx.metric2)\n",
        "dfx['metric3_mean'] = np.where((dfx.too_soon == 0),(dfx['metric3'].rolling(min_periods=1, window=feature_window).mean()) , dfx.metric3)\n",
        "dfx['metric3_median'] = np.where((dfx.too_soon == 0),(dfx['metric3'].rolling(min_periods=1, window=feature_window).median()) , dfx.metric3)\n",
        "dfx['metric3_max'] = np.where((dfx.too_soon == 0),(dfx['metric3'].rolling(min_periods=1, window=feature_window).max()) , dfx.metric3)\n",
        "dfx['metric3_min'] = np.where((dfx.too_soon == 0),(dfx['metric3'].rolling(min_periods=1, window=feature_window).min()) , dfx.metric3)\n",
        "dfx['metric4_mean'] = np.where((dfx.too_soon == 0),(dfx['metric4'].rolling(min_periods=1, window=feature_window).mean()) , dfx.metric4)\n",
        "dfx['metric4_median'] = np.where((dfx.too_soon == 0),(dfx['metric4'].rolling(min_periods=1, window=feature_window).median()) , dfx.metric4)\n",
        "dfx['metric4_max'] = np.where((dfx.too_soon == 0),(dfx['metric4'].rolling(min_periods=1, window=feature_window).max()) , dfx.metric4)\n",
        "dfx['metric4_min'] = np.where((dfx.too_soon == 0),(dfx['metric4'].rolling(min_periods=1, window=feature_window).min()) , dfx.metric4)\n",
        "dfx['metric5_mean'] = np.where((dfx.too_soon == 0),(dfx['metric5'].rolling(min_periods=1, window=feature_window).mean()) , dfx.metric5)\n",
        "dfx['metric5_median'] = np.where((dfx.too_soon == 0),(dfx['metric5'].rolling(min_periods=1, window=feature_window).median()) , dfx.metric5)\n",
        "dfx['metric5_max'] = np.where((dfx.too_soon == 0),(dfx['metric5'].rolling(min_periods=1, window=feature_window).max()) , dfx.metric5)\n",
        "dfx['metric5_min'] = np.where((dfx.too_soon == 0),(dfx['metric5'].rolling(min_periods=1, window=feature_window).min()) , dfx.metric5)\n",
        "dfx['metric6_mean'] = np.where((dfx.too_soon == 0),(dfx['metric6'].rolling(min_periods=1, window=feature_window).mean()) , dfx.metric6)\n",
        "dfx['metric6_median'] = np.where((dfx.too_soon == 0),(dfx['metric6'].rolling(min_periods=1, window=feature_window).median()) , dfx.metric6)\n",
        "dfx['metric6_max'] = np.where((dfx.too_soon == 0),(dfx['metric6'].rolling(min_periods=1, window=feature_window).max()) , dfx.metric6)\n",
        "dfx['metric6_min'] = np.where((dfx.too_soon == 0),(dfx['metric6'].rolling(min_periods=1, window=feature_window).min()) , dfx.metric6)\n",
        "dfx['metric7_mean'] = np.where((dfx.too_soon == 0),(dfx['metric7'].rolling(min_periods=1, window=feature_window).mean()) , dfx.metric7)\n",
        "dfx['metric7_median'] = np.where((dfx.too_soon == 0),(dfx['metric7'].rolling(min_periods=1, window=feature_window).median()) , dfx.metric7)\n",
        "dfx['metric7_max'] = np.where((dfx.too_soon == 0),(dfx['metric7'].rolling(min_periods=1, window=feature_window).max()) , dfx.metric7)\n",
        "dfx['metric7_min'] = np.where((dfx.too_soon == 0),(dfx['metric7'].rolling(min_periods=1, window=feature_window).min()) , dfx.metric7)\n",
        "dfx['metric8_mean'] = np.where((dfx.too_soon == 0),(dfx['metric8'].rolling(min_periods=1, window=feature_window).mean()) , dfx.metric8)\n",
        "dfx['metric8_median'] = np.where((dfx.too_soon == 0),(dfx['metric8'].rolling(min_periods=1, window=feature_window).median()) , dfx.metric8)\n",
        "dfx['metric8_max'] = np.where((dfx.too_soon == 0),(dfx['metric8'].rolling(min_periods=1, window=feature_window).max()) , dfx.metric8)\n",
        "dfx['metric8_min'] = np.where((dfx.too_soon == 0),(dfx['metric8'].rolling(min_periods=1, window=feature_window).min()) , dfx.metric8)\n",
        "dfx['metric9_mean'] = np.where((dfx.too_soon == 0),(dfx['metric9'].rolling(min_periods=1, window=feature_window).mean()) , dfx.metric9)\n",
        "dfx['metric9_median'] = np.where((dfx.too_soon == 0),(dfx['metric9'].rolling(min_periods=1, window=feature_window).median()) , dfx.metric9)\n",
        "dfx['metric9_max'] = np.where((dfx.too_soon == 0),(dfx['metric9'].rolling(min_periods=1, window=feature_window).max()) , dfx.metric9)\n",
        "dfx['metric9_min'] = np.where((dfx.too_soon == 0),(dfx['metric9'].rolling(min_periods=1, window=feature_window).min()) , dfx.metric9)"
      ],
      "execution_count": 19,
      "outputs": []
    },
    {
      "cell_type": "code",
      "metadata": {
        "id": "72cQRQpm_LeK"
      },
      "source": [
        "dfx['metric1_chg'] = np.where((dfx.metric1_mean == 0),0 , dfx.metric1/dfx.metric1_mean)\n",
        "dfx['metric2_chg'] = np.where((dfx.metric2_mean == 0),0 , dfx.metric2/dfx.metric2_mean)\n",
        "dfx['metric3_chg'] = np.where((dfx.metric3_mean==0),0 , dfx.metric3/dfx.metric3_mean)\n",
        "dfx['metric4_chg'] = np.where((dfx.metric4_mean == 0),0 , dfx.metric4/dfx.metric4_mean)\n",
        "dfx['metric5_chg'] = np.where((dfx.metric5_mean == 0),0 , dfx.metric5/dfx.metric5_mean)\n",
        "dfx['metric6_chg'] = np.where((dfx.metric6_mean == 0),0 , dfx.metric6/dfx.metric6_mean)\n",
        "dfx['metric7_chg'] = np.where((dfx.metric7_mean == 0),0 , dfx.metric7/dfx.metric7_mean)\n",
        "dfx['metric8_chg'] = np.where((dfx.metric8_mean == 0),0 , dfx.metric8/dfx.metric8_mean)\n",
        "dfx['metric9_chg'] = np.where((dfx.metric9_mean == 0),0 , dfx.metric9/dfx.metric9_mean)\n",
        "#copy the data set to the original name\n",
        "data_df=dfx"
      ],
      "execution_count": 20,
      "outputs": []
    },
    {
      "cell_type": "code",
      "metadata": {
        "colab": {
          "base_uri": "https://localhost:8080/",
          "height": 298
        },
        "id": "9S8pyVa__POx",
        "outputId": "247aa91a-8df7-4314-e25a-77326f2693c7"
      },
      "source": [
        "data_df.head()"
      ],
      "execution_count": 21,
      "outputs": [
        {
          "output_type": "execute_result",
          "data": {
            "text/html": [
              "<div>\n",
              "<style scoped>\n",
              "    .dataframe tbody tr th:only-of-type {\n",
              "        vertical-align: middle;\n",
              "    }\n",
              "\n",
              "    .dataframe tbody tr th {\n",
              "        vertical-align: top;\n",
              "    }\n",
              "\n",
              "    .dataframe thead th {\n",
              "        text-align: right;\n",
              "    }\n",
              "</style>\n",
              "<table border=\"1\" class=\"dataframe\">\n",
              "  <thead>\n",
              "    <tr style=\"text-align: right;\">\n",
              "      <th></th>\n",
              "      <th>date</th>\n",
              "      <th>device</th>\n",
              "      <th>failure</th>\n",
              "      <th>metric1</th>\n",
              "      <th>metric2</th>\n",
              "      <th>metric3</th>\n",
              "      <th>metric4</th>\n",
              "      <th>metric5</th>\n",
              "      <th>metric6</th>\n",
              "      <th>metric7</th>\n",
              "      <th>metric8</th>\n",
              "      <th>metric9</th>\n",
              "      <th>flipper</th>\n",
              "      <th>START_DATE</th>\n",
              "      <th>TIME_SINCE_START</th>\n",
              "      <th>too_soon</th>\n",
              "      <th>metric1_mean</th>\n",
              "      <th>metric1_median</th>\n",
              "      <th>metric1_max</th>\n",
              "      <th>metric1_min</th>\n",
              "      <th>metric2_mean</th>\n",
              "      <th>metric2_median</th>\n",
              "      <th>metric2_max</th>\n",
              "      <th>metric2_min</th>\n",
              "      <th>metric3_mean</th>\n",
              "      <th>metric3_median</th>\n",
              "      <th>metric3_max</th>\n",
              "      <th>metric3_min</th>\n",
              "      <th>metric4_mean</th>\n",
              "      <th>metric4_median</th>\n",
              "      <th>metric4_max</th>\n",
              "      <th>metric4_min</th>\n",
              "      <th>metric5_mean</th>\n",
              "      <th>metric5_median</th>\n",
              "      <th>metric5_max</th>\n",
              "      <th>metric5_min</th>\n",
              "      <th>metric6_mean</th>\n",
              "      <th>metric6_median</th>\n",
              "      <th>metric6_max</th>\n",
              "      <th>metric6_min</th>\n",
              "      <th>metric7_mean</th>\n",
              "      <th>metric7_median</th>\n",
              "      <th>metric7_max</th>\n",
              "      <th>metric7_min</th>\n",
              "      <th>metric8_mean</th>\n",
              "      <th>metric8_median</th>\n",
              "      <th>metric8_max</th>\n",
              "      <th>metric8_min</th>\n",
              "      <th>metric9_mean</th>\n",
              "      <th>metric9_median</th>\n",
              "      <th>metric9_max</th>\n",
              "      <th>metric9_min</th>\n",
              "      <th>metric1_chg</th>\n",
              "      <th>metric2_chg</th>\n",
              "      <th>metric3_chg</th>\n",
              "      <th>metric4_chg</th>\n",
              "      <th>metric5_chg</th>\n",
              "      <th>metric6_chg</th>\n",
              "      <th>metric7_chg</th>\n",
              "      <th>metric8_chg</th>\n",
              "      <th>metric9_chg</th>\n",
              "    </tr>\n",
              "  </thead>\n",
              "  <tbody>\n",
              "    <tr>\n",
              "      <th>0</th>\n",
              "      <td>2015-01-01</td>\n",
              "      <td>S1F01085</td>\n",
              "      <td>0</td>\n",
              "      <td>215630672</td>\n",
              "      <td>55</td>\n",
              "      <td>0</td>\n",
              "      <td>52</td>\n",
              "      <td>6</td>\n",
              "      <td>407438</td>\n",
              "      <td>0</td>\n",
              "      <td>0</td>\n",
              "      <td>7</td>\n",
              "      <td>1</td>\n",
              "      <td>2015-01-01</td>\n",
              "      <td>0.0</td>\n",
              "      <td>1</td>\n",
              "      <td>215630672.0</td>\n",
              "      <td>215630672.0</td>\n",
              "      <td>215630672.0</td>\n",
              "      <td>215630672.0</td>\n",
              "      <td>55.0</td>\n",
              "      <td>55.0</td>\n",
              "      <td>55.0</td>\n",
              "      <td>55.0</td>\n",
              "      <td>0.0</td>\n",
              "      <td>0.0</td>\n",
              "      <td>0.0</td>\n",
              "      <td>0.0</td>\n",
              "      <td>52.0</td>\n",
              "      <td>52.0</td>\n",
              "      <td>52.0</td>\n",
              "      <td>52.0</td>\n",
              "      <td>6.0</td>\n",
              "      <td>6.0</td>\n",
              "      <td>6.0</td>\n",
              "      <td>6.0</td>\n",
              "      <td>407438.0</td>\n",
              "      <td>407438.0</td>\n",
              "      <td>407438.0</td>\n",
              "      <td>407438.0</td>\n",
              "      <td>0.0</td>\n",
              "      <td>0.0</td>\n",
              "      <td>0.0</td>\n",
              "      <td>0.0</td>\n",
              "      <td>0.0</td>\n",
              "      <td>0.0</td>\n",
              "      <td>0.0</td>\n",
              "      <td>0.0</td>\n",
              "      <td>7.0</td>\n",
              "      <td>7.0</td>\n",
              "      <td>7.0</td>\n",
              "      <td>7.0</td>\n",
              "      <td>1.0</td>\n",
              "      <td>1.0</td>\n",
              "      <td>0.0</td>\n",
              "      <td>1.0</td>\n",
              "      <td>1.0</td>\n",
              "      <td>1.0</td>\n",
              "      <td>0.0</td>\n",
              "      <td>0.0</td>\n",
              "      <td>1.0</td>\n",
              "    </tr>\n",
              "    <tr>\n",
              "      <th>1</th>\n",
              "      <td>2015-01-02</td>\n",
              "      <td>S1F01085</td>\n",
              "      <td>0</td>\n",
              "      <td>1650864</td>\n",
              "      <td>56</td>\n",
              "      <td>0</td>\n",
              "      <td>52</td>\n",
              "      <td>6</td>\n",
              "      <td>407438</td>\n",
              "      <td>0</td>\n",
              "      <td>0</td>\n",
              "      <td>7</td>\n",
              "      <td>0</td>\n",
              "      <td>2015-01-01</td>\n",
              "      <td>1.0</td>\n",
              "      <td>1</td>\n",
              "      <td>1650864.0</td>\n",
              "      <td>1650864.0</td>\n",
              "      <td>1650864.0</td>\n",
              "      <td>1650864.0</td>\n",
              "      <td>56.0</td>\n",
              "      <td>56.0</td>\n",
              "      <td>56.0</td>\n",
              "      <td>56.0</td>\n",
              "      <td>0.0</td>\n",
              "      <td>0.0</td>\n",
              "      <td>0.0</td>\n",
              "      <td>0.0</td>\n",
              "      <td>52.0</td>\n",
              "      <td>52.0</td>\n",
              "      <td>52.0</td>\n",
              "      <td>52.0</td>\n",
              "      <td>6.0</td>\n",
              "      <td>6.0</td>\n",
              "      <td>6.0</td>\n",
              "      <td>6.0</td>\n",
              "      <td>407438.0</td>\n",
              "      <td>407438.0</td>\n",
              "      <td>407438.0</td>\n",
              "      <td>407438.0</td>\n",
              "      <td>0.0</td>\n",
              "      <td>0.0</td>\n",
              "      <td>0.0</td>\n",
              "      <td>0.0</td>\n",
              "      <td>0.0</td>\n",
              "      <td>0.0</td>\n",
              "      <td>0.0</td>\n",
              "      <td>0.0</td>\n",
              "      <td>7.0</td>\n",
              "      <td>7.0</td>\n",
              "      <td>7.0</td>\n",
              "      <td>7.0</td>\n",
              "      <td>1.0</td>\n",
              "      <td>1.0</td>\n",
              "      <td>0.0</td>\n",
              "      <td>1.0</td>\n",
              "      <td>1.0</td>\n",
              "      <td>1.0</td>\n",
              "      <td>0.0</td>\n",
              "      <td>0.0</td>\n",
              "      <td>1.0</td>\n",
              "    </tr>\n",
              "    <tr>\n",
              "      <th>2</th>\n",
              "      <td>2015-01-03</td>\n",
              "      <td>S1F01085</td>\n",
              "      <td>0</td>\n",
              "      <td>124017368</td>\n",
              "      <td>56</td>\n",
              "      <td>0</td>\n",
              "      <td>52</td>\n",
              "      <td>6</td>\n",
              "      <td>407438</td>\n",
              "      <td>0</td>\n",
              "      <td>0</td>\n",
              "      <td>7</td>\n",
              "      <td>0</td>\n",
              "      <td>2015-01-01</td>\n",
              "      <td>2.0</td>\n",
              "      <td>1</td>\n",
              "      <td>124017368.0</td>\n",
              "      <td>124017368.0</td>\n",
              "      <td>124017368.0</td>\n",
              "      <td>124017368.0</td>\n",
              "      <td>56.0</td>\n",
              "      <td>56.0</td>\n",
              "      <td>56.0</td>\n",
              "      <td>56.0</td>\n",
              "      <td>0.0</td>\n",
              "      <td>0.0</td>\n",
              "      <td>0.0</td>\n",
              "      <td>0.0</td>\n",
              "      <td>52.0</td>\n",
              "      <td>52.0</td>\n",
              "      <td>52.0</td>\n",
              "      <td>52.0</td>\n",
              "      <td>6.0</td>\n",
              "      <td>6.0</td>\n",
              "      <td>6.0</td>\n",
              "      <td>6.0</td>\n",
              "      <td>407438.0</td>\n",
              "      <td>407438.0</td>\n",
              "      <td>407438.0</td>\n",
              "      <td>407438.0</td>\n",
              "      <td>0.0</td>\n",
              "      <td>0.0</td>\n",
              "      <td>0.0</td>\n",
              "      <td>0.0</td>\n",
              "      <td>0.0</td>\n",
              "      <td>0.0</td>\n",
              "      <td>0.0</td>\n",
              "      <td>0.0</td>\n",
              "      <td>7.0</td>\n",
              "      <td>7.0</td>\n",
              "      <td>7.0</td>\n",
              "      <td>7.0</td>\n",
              "      <td>1.0</td>\n",
              "      <td>1.0</td>\n",
              "      <td>0.0</td>\n",
              "      <td>1.0</td>\n",
              "      <td>1.0</td>\n",
              "      <td>1.0</td>\n",
              "      <td>0.0</td>\n",
              "      <td>0.0</td>\n",
              "      <td>1.0</td>\n",
              "    </tr>\n",
              "    <tr>\n",
              "      <th>3</th>\n",
              "      <td>2015-01-04</td>\n",
              "      <td>S1F01085</td>\n",
              "      <td>0</td>\n",
              "      <td>128073224</td>\n",
              "      <td>56</td>\n",
              "      <td>0</td>\n",
              "      <td>52</td>\n",
              "      <td>6</td>\n",
              "      <td>407439</td>\n",
              "      <td>0</td>\n",
              "      <td>0</td>\n",
              "      <td>7</td>\n",
              "      <td>0</td>\n",
              "      <td>2015-01-01</td>\n",
              "      <td>3.0</td>\n",
              "      <td>1</td>\n",
              "      <td>128073224.0</td>\n",
              "      <td>128073224.0</td>\n",
              "      <td>128073224.0</td>\n",
              "      <td>128073224.0</td>\n",
              "      <td>56.0</td>\n",
              "      <td>56.0</td>\n",
              "      <td>56.0</td>\n",
              "      <td>56.0</td>\n",
              "      <td>0.0</td>\n",
              "      <td>0.0</td>\n",
              "      <td>0.0</td>\n",
              "      <td>0.0</td>\n",
              "      <td>52.0</td>\n",
              "      <td>52.0</td>\n",
              "      <td>52.0</td>\n",
              "      <td>52.0</td>\n",
              "      <td>6.0</td>\n",
              "      <td>6.0</td>\n",
              "      <td>6.0</td>\n",
              "      <td>6.0</td>\n",
              "      <td>407439.0</td>\n",
              "      <td>407439.0</td>\n",
              "      <td>407439.0</td>\n",
              "      <td>407439.0</td>\n",
              "      <td>0.0</td>\n",
              "      <td>0.0</td>\n",
              "      <td>0.0</td>\n",
              "      <td>0.0</td>\n",
              "      <td>0.0</td>\n",
              "      <td>0.0</td>\n",
              "      <td>0.0</td>\n",
              "      <td>0.0</td>\n",
              "      <td>7.0</td>\n",
              "      <td>7.0</td>\n",
              "      <td>7.0</td>\n",
              "      <td>7.0</td>\n",
              "      <td>1.0</td>\n",
              "      <td>1.0</td>\n",
              "      <td>0.0</td>\n",
              "      <td>1.0</td>\n",
              "      <td>1.0</td>\n",
              "      <td>1.0</td>\n",
              "      <td>0.0</td>\n",
              "      <td>0.0</td>\n",
              "      <td>1.0</td>\n",
              "    </tr>\n",
              "    <tr>\n",
              "      <th>4</th>\n",
              "      <td>2015-01-05</td>\n",
              "      <td>S1F01085</td>\n",
              "      <td>0</td>\n",
              "      <td>97393448</td>\n",
              "      <td>56</td>\n",
              "      <td>0</td>\n",
              "      <td>52</td>\n",
              "      <td>6</td>\n",
              "      <td>408114</td>\n",
              "      <td>0</td>\n",
              "      <td>0</td>\n",
              "      <td>7</td>\n",
              "      <td>0</td>\n",
              "      <td>2015-01-01</td>\n",
              "      <td>4.0</td>\n",
              "      <td>1</td>\n",
              "      <td>97393448.0</td>\n",
              "      <td>97393448.0</td>\n",
              "      <td>97393448.0</td>\n",
              "      <td>97393448.0</td>\n",
              "      <td>56.0</td>\n",
              "      <td>56.0</td>\n",
              "      <td>56.0</td>\n",
              "      <td>56.0</td>\n",
              "      <td>0.0</td>\n",
              "      <td>0.0</td>\n",
              "      <td>0.0</td>\n",
              "      <td>0.0</td>\n",
              "      <td>52.0</td>\n",
              "      <td>52.0</td>\n",
              "      <td>52.0</td>\n",
              "      <td>52.0</td>\n",
              "      <td>6.0</td>\n",
              "      <td>6.0</td>\n",
              "      <td>6.0</td>\n",
              "      <td>6.0</td>\n",
              "      <td>408114.0</td>\n",
              "      <td>408114.0</td>\n",
              "      <td>408114.0</td>\n",
              "      <td>408114.0</td>\n",
              "      <td>0.0</td>\n",
              "      <td>0.0</td>\n",
              "      <td>0.0</td>\n",
              "      <td>0.0</td>\n",
              "      <td>0.0</td>\n",
              "      <td>0.0</td>\n",
              "      <td>0.0</td>\n",
              "      <td>0.0</td>\n",
              "      <td>7.0</td>\n",
              "      <td>7.0</td>\n",
              "      <td>7.0</td>\n",
              "      <td>7.0</td>\n",
              "      <td>1.0</td>\n",
              "      <td>1.0</td>\n",
              "      <td>0.0</td>\n",
              "      <td>1.0</td>\n",
              "      <td>1.0</td>\n",
              "      <td>1.0</td>\n",
              "      <td>0.0</td>\n",
              "      <td>0.0</td>\n",
              "      <td>1.0</td>\n",
              "    </tr>\n",
              "  </tbody>\n",
              "</table>\n",
              "</div>"
            ],
            "text/plain": [
              "        date    device  failure  ...  metric7_chg  metric8_chg  metric9_chg\n",
              "0 2015-01-01  S1F01085        0  ...          0.0          0.0          1.0\n",
              "1 2015-01-02  S1F01085        0  ...          0.0          0.0          1.0\n",
              "2 2015-01-03  S1F01085        0  ...          0.0          0.0          1.0\n",
              "3 2015-01-04  S1F01085        0  ...          0.0          0.0          1.0\n",
              "4 2015-01-05  S1F01085        0  ...          0.0          0.0          1.0\n",
              "\n",
              "[5 rows x 61 columns]"
            ]
          },
          "metadata": {
            "tags": []
          },
          "execution_count": 21
        }
      ]
    },
    {
      "cell_type": "code",
      "metadata": {
        "colab": {
          "base_uri": "https://localhost:8080/",
          "height": 298
        },
        "id": "QimPgV8QMugy",
        "outputId": "98af5ac9-b244-4ffe-9964-b9a5e3573811"
      },
      "source": [
        "data_df.head()"
      ],
      "execution_count": 22,
      "outputs": [
        {
          "output_type": "execute_result",
          "data": {
            "text/html": [
              "<div>\n",
              "<style scoped>\n",
              "    .dataframe tbody tr th:only-of-type {\n",
              "        vertical-align: middle;\n",
              "    }\n",
              "\n",
              "    .dataframe tbody tr th {\n",
              "        vertical-align: top;\n",
              "    }\n",
              "\n",
              "    .dataframe thead th {\n",
              "        text-align: right;\n",
              "    }\n",
              "</style>\n",
              "<table border=\"1\" class=\"dataframe\">\n",
              "  <thead>\n",
              "    <tr style=\"text-align: right;\">\n",
              "      <th></th>\n",
              "      <th>date</th>\n",
              "      <th>device</th>\n",
              "      <th>failure</th>\n",
              "      <th>metric1</th>\n",
              "      <th>metric2</th>\n",
              "      <th>metric3</th>\n",
              "      <th>metric4</th>\n",
              "      <th>metric5</th>\n",
              "      <th>metric6</th>\n",
              "      <th>metric7</th>\n",
              "      <th>metric8</th>\n",
              "      <th>metric9</th>\n",
              "      <th>flipper</th>\n",
              "      <th>START_DATE</th>\n",
              "      <th>TIME_SINCE_START</th>\n",
              "      <th>too_soon</th>\n",
              "      <th>metric1_mean</th>\n",
              "      <th>metric1_median</th>\n",
              "      <th>metric1_max</th>\n",
              "      <th>metric1_min</th>\n",
              "      <th>metric2_mean</th>\n",
              "      <th>metric2_median</th>\n",
              "      <th>metric2_max</th>\n",
              "      <th>metric2_min</th>\n",
              "      <th>metric3_mean</th>\n",
              "      <th>metric3_median</th>\n",
              "      <th>metric3_max</th>\n",
              "      <th>metric3_min</th>\n",
              "      <th>metric4_mean</th>\n",
              "      <th>metric4_median</th>\n",
              "      <th>metric4_max</th>\n",
              "      <th>metric4_min</th>\n",
              "      <th>metric5_mean</th>\n",
              "      <th>metric5_median</th>\n",
              "      <th>metric5_max</th>\n",
              "      <th>metric5_min</th>\n",
              "      <th>metric6_mean</th>\n",
              "      <th>metric6_median</th>\n",
              "      <th>metric6_max</th>\n",
              "      <th>metric6_min</th>\n",
              "      <th>metric7_mean</th>\n",
              "      <th>metric7_median</th>\n",
              "      <th>metric7_max</th>\n",
              "      <th>metric7_min</th>\n",
              "      <th>metric8_mean</th>\n",
              "      <th>metric8_median</th>\n",
              "      <th>metric8_max</th>\n",
              "      <th>metric8_min</th>\n",
              "      <th>metric9_mean</th>\n",
              "      <th>metric9_median</th>\n",
              "      <th>metric9_max</th>\n",
              "      <th>metric9_min</th>\n",
              "      <th>metric1_chg</th>\n",
              "      <th>metric2_chg</th>\n",
              "      <th>metric3_chg</th>\n",
              "      <th>metric4_chg</th>\n",
              "      <th>metric5_chg</th>\n",
              "      <th>metric6_chg</th>\n",
              "      <th>metric7_chg</th>\n",
              "      <th>metric8_chg</th>\n",
              "      <th>metric9_chg</th>\n",
              "    </tr>\n",
              "  </thead>\n",
              "  <tbody>\n",
              "    <tr>\n",
              "      <th>0</th>\n",
              "      <td>2015-01-01</td>\n",
              "      <td>S1F01085</td>\n",
              "      <td>0</td>\n",
              "      <td>215630672</td>\n",
              "      <td>55</td>\n",
              "      <td>0</td>\n",
              "      <td>52</td>\n",
              "      <td>6</td>\n",
              "      <td>407438</td>\n",
              "      <td>0</td>\n",
              "      <td>0</td>\n",
              "      <td>7</td>\n",
              "      <td>1</td>\n",
              "      <td>2015-01-01</td>\n",
              "      <td>0.0</td>\n",
              "      <td>1</td>\n",
              "      <td>215630672.0</td>\n",
              "      <td>215630672.0</td>\n",
              "      <td>215630672.0</td>\n",
              "      <td>215630672.0</td>\n",
              "      <td>55.0</td>\n",
              "      <td>55.0</td>\n",
              "      <td>55.0</td>\n",
              "      <td>55.0</td>\n",
              "      <td>0.0</td>\n",
              "      <td>0.0</td>\n",
              "      <td>0.0</td>\n",
              "      <td>0.0</td>\n",
              "      <td>52.0</td>\n",
              "      <td>52.0</td>\n",
              "      <td>52.0</td>\n",
              "      <td>52.0</td>\n",
              "      <td>6.0</td>\n",
              "      <td>6.0</td>\n",
              "      <td>6.0</td>\n",
              "      <td>6.0</td>\n",
              "      <td>407438.0</td>\n",
              "      <td>407438.0</td>\n",
              "      <td>407438.0</td>\n",
              "      <td>407438.0</td>\n",
              "      <td>0.0</td>\n",
              "      <td>0.0</td>\n",
              "      <td>0.0</td>\n",
              "      <td>0.0</td>\n",
              "      <td>0.0</td>\n",
              "      <td>0.0</td>\n",
              "      <td>0.0</td>\n",
              "      <td>0.0</td>\n",
              "      <td>7.0</td>\n",
              "      <td>7.0</td>\n",
              "      <td>7.0</td>\n",
              "      <td>7.0</td>\n",
              "      <td>1.0</td>\n",
              "      <td>1.0</td>\n",
              "      <td>0.0</td>\n",
              "      <td>1.0</td>\n",
              "      <td>1.0</td>\n",
              "      <td>1.0</td>\n",
              "      <td>0.0</td>\n",
              "      <td>0.0</td>\n",
              "      <td>1.0</td>\n",
              "    </tr>\n",
              "    <tr>\n",
              "      <th>1</th>\n",
              "      <td>2015-01-02</td>\n",
              "      <td>S1F01085</td>\n",
              "      <td>0</td>\n",
              "      <td>1650864</td>\n",
              "      <td>56</td>\n",
              "      <td>0</td>\n",
              "      <td>52</td>\n",
              "      <td>6</td>\n",
              "      <td>407438</td>\n",
              "      <td>0</td>\n",
              "      <td>0</td>\n",
              "      <td>7</td>\n",
              "      <td>0</td>\n",
              "      <td>2015-01-01</td>\n",
              "      <td>1.0</td>\n",
              "      <td>1</td>\n",
              "      <td>1650864.0</td>\n",
              "      <td>1650864.0</td>\n",
              "      <td>1650864.0</td>\n",
              "      <td>1650864.0</td>\n",
              "      <td>56.0</td>\n",
              "      <td>56.0</td>\n",
              "      <td>56.0</td>\n",
              "      <td>56.0</td>\n",
              "      <td>0.0</td>\n",
              "      <td>0.0</td>\n",
              "      <td>0.0</td>\n",
              "      <td>0.0</td>\n",
              "      <td>52.0</td>\n",
              "      <td>52.0</td>\n",
              "      <td>52.0</td>\n",
              "      <td>52.0</td>\n",
              "      <td>6.0</td>\n",
              "      <td>6.0</td>\n",
              "      <td>6.0</td>\n",
              "      <td>6.0</td>\n",
              "      <td>407438.0</td>\n",
              "      <td>407438.0</td>\n",
              "      <td>407438.0</td>\n",
              "      <td>407438.0</td>\n",
              "      <td>0.0</td>\n",
              "      <td>0.0</td>\n",
              "      <td>0.0</td>\n",
              "      <td>0.0</td>\n",
              "      <td>0.0</td>\n",
              "      <td>0.0</td>\n",
              "      <td>0.0</td>\n",
              "      <td>0.0</td>\n",
              "      <td>7.0</td>\n",
              "      <td>7.0</td>\n",
              "      <td>7.0</td>\n",
              "      <td>7.0</td>\n",
              "      <td>1.0</td>\n",
              "      <td>1.0</td>\n",
              "      <td>0.0</td>\n",
              "      <td>1.0</td>\n",
              "      <td>1.0</td>\n",
              "      <td>1.0</td>\n",
              "      <td>0.0</td>\n",
              "      <td>0.0</td>\n",
              "      <td>1.0</td>\n",
              "    </tr>\n",
              "    <tr>\n",
              "      <th>2</th>\n",
              "      <td>2015-01-03</td>\n",
              "      <td>S1F01085</td>\n",
              "      <td>0</td>\n",
              "      <td>124017368</td>\n",
              "      <td>56</td>\n",
              "      <td>0</td>\n",
              "      <td>52</td>\n",
              "      <td>6</td>\n",
              "      <td>407438</td>\n",
              "      <td>0</td>\n",
              "      <td>0</td>\n",
              "      <td>7</td>\n",
              "      <td>0</td>\n",
              "      <td>2015-01-01</td>\n",
              "      <td>2.0</td>\n",
              "      <td>1</td>\n",
              "      <td>124017368.0</td>\n",
              "      <td>124017368.0</td>\n",
              "      <td>124017368.0</td>\n",
              "      <td>124017368.0</td>\n",
              "      <td>56.0</td>\n",
              "      <td>56.0</td>\n",
              "      <td>56.0</td>\n",
              "      <td>56.0</td>\n",
              "      <td>0.0</td>\n",
              "      <td>0.0</td>\n",
              "      <td>0.0</td>\n",
              "      <td>0.0</td>\n",
              "      <td>52.0</td>\n",
              "      <td>52.0</td>\n",
              "      <td>52.0</td>\n",
              "      <td>52.0</td>\n",
              "      <td>6.0</td>\n",
              "      <td>6.0</td>\n",
              "      <td>6.0</td>\n",
              "      <td>6.0</td>\n",
              "      <td>407438.0</td>\n",
              "      <td>407438.0</td>\n",
              "      <td>407438.0</td>\n",
              "      <td>407438.0</td>\n",
              "      <td>0.0</td>\n",
              "      <td>0.0</td>\n",
              "      <td>0.0</td>\n",
              "      <td>0.0</td>\n",
              "      <td>0.0</td>\n",
              "      <td>0.0</td>\n",
              "      <td>0.0</td>\n",
              "      <td>0.0</td>\n",
              "      <td>7.0</td>\n",
              "      <td>7.0</td>\n",
              "      <td>7.0</td>\n",
              "      <td>7.0</td>\n",
              "      <td>1.0</td>\n",
              "      <td>1.0</td>\n",
              "      <td>0.0</td>\n",
              "      <td>1.0</td>\n",
              "      <td>1.0</td>\n",
              "      <td>1.0</td>\n",
              "      <td>0.0</td>\n",
              "      <td>0.0</td>\n",
              "      <td>1.0</td>\n",
              "    </tr>\n",
              "    <tr>\n",
              "      <th>3</th>\n",
              "      <td>2015-01-04</td>\n",
              "      <td>S1F01085</td>\n",
              "      <td>0</td>\n",
              "      <td>128073224</td>\n",
              "      <td>56</td>\n",
              "      <td>0</td>\n",
              "      <td>52</td>\n",
              "      <td>6</td>\n",
              "      <td>407439</td>\n",
              "      <td>0</td>\n",
              "      <td>0</td>\n",
              "      <td>7</td>\n",
              "      <td>0</td>\n",
              "      <td>2015-01-01</td>\n",
              "      <td>3.0</td>\n",
              "      <td>1</td>\n",
              "      <td>128073224.0</td>\n",
              "      <td>128073224.0</td>\n",
              "      <td>128073224.0</td>\n",
              "      <td>128073224.0</td>\n",
              "      <td>56.0</td>\n",
              "      <td>56.0</td>\n",
              "      <td>56.0</td>\n",
              "      <td>56.0</td>\n",
              "      <td>0.0</td>\n",
              "      <td>0.0</td>\n",
              "      <td>0.0</td>\n",
              "      <td>0.0</td>\n",
              "      <td>52.0</td>\n",
              "      <td>52.0</td>\n",
              "      <td>52.0</td>\n",
              "      <td>52.0</td>\n",
              "      <td>6.0</td>\n",
              "      <td>6.0</td>\n",
              "      <td>6.0</td>\n",
              "      <td>6.0</td>\n",
              "      <td>407439.0</td>\n",
              "      <td>407439.0</td>\n",
              "      <td>407439.0</td>\n",
              "      <td>407439.0</td>\n",
              "      <td>0.0</td>\n",
              "      <td>0.0</td>\n",
              "      <td>0.0</td>\n",
              "      <td>0.0</td>\n",
              "      <td>0.0</td>\n",
              "      <td>0.0</td>\n",
              "      <td>0.0</td>\n",
              "      <td>0.0</td>\n",
              "      <td>7.0</td>\n",
              "      <td>7.0</td>\n",
              "      <td>7.0</td>\n",
              "      <td>7.0</td>\n",
              "      <td>1.0</td>\n",
              "      <td>1.0</td>\n",
              "      <td>0.0</td>\n",
              "      <td>1.0</td>\n",
              "      <td>1.0</td>\n",
              "      <td>1.0</td>\n",
              "      <td>0.0</td>\n",
              "      <td>0.0</td>\n",
              "      <td>1.0</td>\n",
              "    </tr>\n",
              "    <tr>\n",
              "      <th>4</th>\n",
              "      <td>2015-01-05</td>\n",
              "      <td>S1F01085</td>\n",
              "      <td>0</td>\n",
              "      <td>97393448</td>\n",
              "      <td>56</td>\n",
              "      <td>0</td>\n",
              "      <td>52</td>\n",
              "      <td>6</td>\n",
              "      <td>408114</td>\n",
              "      <td>0</td>\n",
              "      <td>0</td>\n",
              "      <td>7</td>\n",
              "      <td>0</td>\n",
              "      <td>2015-01-01</td>\n",
              "      <td>4.0</td>\n",
              "      <td>1</td>\n",
              "      <td>97393448.0</td>\n",
              "      <td>97393448.0</td>\n",
              "      <td>97393448.0</td>\n",
              "      <td>97393448.0</td>\n",
              "      <td>56.0</td>\n",
              "      <td>56.0</td>\n",
              "      <td>56.0</td>\n",
              "      <td>56.0</td>\n",
              "      <td>0.0</td>\n",
              "      <td>0.0</td>\n",
              "      <td>0.0</td>\n",
              "      <td>0.0</td>\n",
              "      <td>52.0</td>\n",
              "      <td>52.0</td>\n",
              "      <td>52.0</td>\n",
              "      <td>52.0</td>\n",
              "      <td>6.0</td>\n",
              "      <td>6.0</td>\n",
              "      <td>6.0</td>\n",
              "      <td>6.0</td>\n",
              "      <td>408114.0</td>\n",
              "      <td>408114.0</td>\n",
              "      <td>408114.0</td>\n",
              "      <td>408114.0</td>\n",
              "      <td>0.0</td>\n",
              "      <td>0.0</td>\n",
              "      <td>0.0</td>\n",
              "      <td>0.0</td>\n",
              "      <td>0.0</td>\n",
              "      <td>0.0</td>\n",
              "      <td>0.0</td>\n",
              "      <td>0.0</td>\n",
              "      <td>7.0</td>\n",
              "      <td>7.0</td>\n",
              "      <td>7.0</td>\n",
              "      <td>7.0</td>\n",
              "      <td>1.0</td>\n",
              "      <td>1.0</td>\n",
              "      <td>0.0</td>\n",
              "      <td>1.0</td>\n",
              "      <td>1.0</td>\n",
              "      <td>1.0</td>\n",
              "      <td>0.0</td>\n",
              "      <td>0.0</td>\n",
              "      <td>1.0</td>\n",
              "    </tr>\n",
              "  </tbody>\n",
              "</table>\n",
              "</div>"
            ],
            "text/plain": [
              "        date    device  failure  ...  metric7_chg  metric8_chg  metric9_chg\n",
              "0 2015-01-01  S1F01085        0  ...          0.0          0.0          1.0\n",
              "1 2015-01-02  S1F01085        0  ...          0.0          0.0          1.0\n",
              "2 2015-01-03  S1F01085        0  ...          0.0          0.0          1.0\n",
              "3 2015-01-04  S1F01085        0  ...          0.0          0.0          1.0\n",
              "4 2015-01-05  S1F01085        0  ...          0.0          0.0          1.0\n",
              "\n",
              "[5 rows x 61 columns]"
            ]
          },
          "metadata": {
            "tags": []
          },
          "execution_count": 22
        }
      ]
    },
    {
      "cell_type": "code",
      "metadata": {
        "id": "FBHHT8R3M_sR"
      },
      "source": [
        "target_window=28\n"
      ],
      "execution_count": 23,
      "outputs": []
    },
    {
      "cell_type": "code",
      "metadata": {
        "id": "hL12Zi_eM_og"
      },
      "source": [
        "data_df=data_df.sort_values(by=['device', 'date'], ascending=[True, True])\n",
        "data_df.reset_index(level=0, inplace=True)"
      ],
      "execution_count": 24,
      "outputs": []
    },
    {
      "cell_type": "code",
      "metadata": {
        "colab": {
          "base_uri": "https://localhost:8080/",
          "height": 298
        },
        "id": "s3VFhu8QM_lM",
        "outputId": "e597fa36-15bf-4d4b-f4ac-37a1351af540"
      },
      "source": [
        "data_df.head()"
      ],
      "execution_count": 25,
      "outputs": [
        {
          "output_type": "execute_result",
          "data": {
            "text/html": [
              "<div>\n",
              "<style scoped>\n",
              "    .dataframe tbody tr th:only-of-type {\n",
              "        vertical-align: middle;\n",
              "    }\n",
              "\n",
              "    .dataframe tbody tr th {\n",
              "        vertical-align: top;\n",
              "    }\n",
              "\n",
              "    .dataframe thead th {\n",
              "        text-align: right;\n",
              "    }\n",
              "</style>\n",
              "<table border=\"1\" class=\"dataframe\">\n",
              "  <thead>\n",
              "    <tr style=\"text-align: right;\">\n",
              "      <th></th>\n",
              "      <th>index</th>\n",
              "      <th>date</th>\n",
              "      <th>device</th>\n",
              "      <th>failure</th>\n",
              "      <th>metric1</th>\n",
              "      <th>metric2</th>\n",
              "      <th>metric3</th>\n",
              "      <th>metric4</th>\n",
              "      <th>metric5</th>\n",
              "      <th>metric6</th>\n",
              "      <th>metric7</th>\n",
              "      <th>metric8</th>\n",
              "      <th>metric9</th>\n",
              "      <th>flipper</th>\n",
              "      <th>START_DATE</th>\n",
              "      <th>TIME_SINCE_START</th>\n",
              "      <th>too_soon</th>\n",
              "      <th>metric1_mean</th>\n",
              "      <th>metric1_median</th>\n",
              "      <th>metric1_max</th>\n",
              "      <th>metric1_min</th>\n",
              "      <th>metric2_mean</th>\n",
              "      <th>metric2_median</th>\n",
              "      <th>metric2_max</th>\n",
              "      <th>metric2_min</th>\n",
              "      <th>metric3_mean</th>\n",
              "      <th>metric3_median</th>\n",
              "      <th>metric3_max</th>\n",
              "      <th>metric3_min</th>\n",
              "      <th>metric4_mean</th>\n",
              "      <th>metric4_median</th>\n",
              "      <th>metric4_max</th>\n",
              "      <th>metric4_min</th>\n",
              "      <th>metric5_mean</th>\n",
              "      <th>metric5_median</th>\n",
              "      <th>metric5_max</th>\n",
              "      <th>metric5_min</th>\n",
              "      <th>metric6_mean</th>\n",
              "      <th>metric6_median</th>\n",
              "      <th>metric6_max</th>\n",
              "      <th>metric6_min</th>\n",
              "      <th>metric7_mean</th>\n",
              "      <th>metric7_median</th>\n",
              "      <th>metric7_max</th>\n",
              "      <th>metric7_min</th>\n",
              "      <th>metric8_mean</th>\n",
              "      <th>metric8_median</th>\n",
              "      <th>metric8_max</th>\n",
              "      <th>metric8_min</th>\n",
              "      <th>metric9_mean</th>\n",
              "      <th>metric9_median</th>\n",
              "      <th>metric9_max</th>\n",
              "      <th>metric9_min</th>\n",
              "      <th>metric1_chg</th>\n",
              "      <th>metric2_chg</th>\n",
              "      <th>metric3_chg</th>\n",
              "      <th>metric4_chg</th>\n",
              "      <th>metric5_chg</th>\n",
              "      <th>metric6_chg</th>\n",
              "      <th>metric7_chg</th>\n",
              "      <th>metric8_chg</th>\n",
              "      <th>metric9_chg</th>\n",
              "    </tr>\n",
              "  </thead>\n",
              "  <tbody>\n",
              "    <tr>\n",
              "      <th>0</th>\n",
              "      <td>0</td>\n",
              "      <td>2015-01-01</td>\n",
              "      <td>S1F01085</td>\n",
              "      <td>0</td>\n",
              "      <td>215630672</td>\n",
              "      <td>55</td>\n",
              "      <td>0</td>\n",
              "      <td>52</td>\n",
              "      <td>6</td>\n",
              "      <td>407438</td>\n",
              "      <td>0</td>\n",
              "      <td>0</td>\n",
              "      <td>7</td>\n",
              "      <td>1</td>\n",
              "      <td>2015-01-01</td>\n",
              "      <td>0.0</td>\n",
              "      <td>1</td>\n",
              "      <td>215630672.0</td>\n",
              "      <td>215630672.0</td>\n",
              "      <td>215630672.0</td>\n",
              "      <td>215630672.0</td>\n",
              "      <td>55.0</td>\n",
              "      <td>55.0</td>\n",
              "      <td>55.0</td>\n",
              "      <td>55.0</td>\n",
              "      <td>0.0</td>\n",
              "      <td>0.0</td>\n",
              "      <td>0.0</td>\n",
              "      <td>0.0</td>\n",
              "      <td>52.0</td>\n",
              "      <td>52.0</td>\n",
              "      <td>52.0</td>\n",
              "      <td>52.0</td>\n",
              "      <td>6.0</td>\n",
              "      <td>6.0</td>\n",
              "      <td>6.0</td>\n",
              "      <td>6.0</td>\n",
              "      <td>407438.0</td>\n",
              "      <td>407438.0</td>\n",
              "      <td>407438.0</td>\n",
              "      <td>407438.0</td>\n",
              "      <td>0.0</td>\n",
              "      <td>0.0</td>\n",
              "      <td>0.0</td>\n",
              "      <td>0.0</td>\n",
              "      <td>0.0</td>\n",
              "      <td>0.0</td>\n",
              "      <td>0.0</td>\n",
              "      <td>0.0</td>\n",
              "      <td>7.0</td>\n",
              "      <td>7.0</td>\n",
              "      <td>7.0</td>\n",
              "      <td>7.0</td>\n",
              "      <td>1.0</td>\n",
              "      <td>1.0</td>\n",
              "      <td>0.0</td>\n",
              "      <td>1.0</td>\n",
              "      <td>1.0</td>\n",
              "      <td>1.0</td>\n",
              "      <td>0.0</td>\n",
              "      <td>0.0</td>\n",
              "      <td>1.0</td>\n",
              "    </tr>\n",
              "    <tr>\n",
              "      <th>1</th>\n",
              "      <td>1</td>\n",
              "      <td>2015-01-02</td>\n",
              "      <td>S1F01085</td>\n",
              "      <td>0</td>\n",
              "      <td>1650864</td>\n",
              "      <td>56</td>\n",
              "      <td>0</td>\n",
              "      <td>52</td>\n",
              "      <td>6</td>\n",
              "      <td>407438</td>\n",
              "      <td>0</td>\n",
              "      <td>0</td>\n",
              "      <td>7</td>\n",
              "      <td>0</td>\n",
              "      <td>2015-01-01</td>\n",
              "      <td>1.0</td>\n",
              "      <td>1</td>\n",
              "      <td>1650864.0</td>\n",
              "      <td>1650864.0</td>\n",
              "      <td>1650864.0</td>\n",
              "      <td>1650864.0</td>\n",
              "      <td>56.0</td>\n",
              "      <td>56.0</td>\n",
              "      <td>56.0</td>\n",
              "      <td>56.0</td>\n",
              "      <td>0.0</td>\n",
              "      <td>0.0</td>\n",
              "      <td>0.0</td>\n",
              "      <td>0.0</td>\n",
              "      <td>52.0</td>\n",
              "      <td>52.0</td>\n",
              "      <td>52.0</td>\n",
              "      <td>52.0</td>\n",
              "      <td>6.0</td>\n",
              "      <td>6.0</td>\n",
              "      <td>6.0</td>\n",
              "      <td>6.0</td>\n",
              "      <td>407438.0</td>\n",
              "      <td>407438.0</td>\n",
              "      <td>407438.0</td>\n",
              "      <td>407438.0</td>\n",
              "      <td>0.0</td>\n",
              "      <td>0.0</td>\n",
              "      <td>0.0</td>\n",
              "      <td>0.0</td>\n",
              "      <td>0.0</td>\n",
              "      <td>0.0</td>\n",
              "      <td>0.0</td>\n",
              "      <td>0.0</td>\n",
              "      <td>7.0</td>\n",
              "      <td>7.0</td>\n",
              "      <td>7.0</td>\n",
              "      <td>7.0</td>\n",
              "      <td>1.0</td>\n",
              "      <td>1.0</td>\n",
              "      <td>0.0</td>\n",
              "      <td>1.0</td>\n",
              "      <td>1.0</td>\n",
              "      <td>1.0</td>\n",
              "      <td>0.0</td>\n",
              "      <td>0.0</td>\n",
              "      <td>1.0</td>\n",
              "    </tr>\n",
              "    <tr>\n",
              "      <th>2</th>\n",
              "      <td>2</td>\n",
              "      <td>2015-01-03</td>\n",
              "      <td>S1F01085</td>\n",
              "      <td>0</td>\n",
              "      <td>124017368</td>\n",
              "      <td>56</td>\n",
              "      <td>0</td>\n",
              "      <td>52</td>\n",
              "      <td>6</td>\n",
              "      <td>407438</td>\n",
              "      <td>0</td>\n",
              "      <td>0</td>\n",
              "      <td>7</td>\n",
              "      <td>0</td>\n",
              "      <td>2015-01-01</td>\n",
              "      <td>2.0</td>\n",
              "      <td>1</td>\n",
              "      <td>124017368.0</td>\n",
              "      <td>124017368.0</td>\n",
              "      <td>124017368.0</td>\n",
              "      <td>124017368.0</td>\n",
              "      <td>56.0</td>\n",
              "      <td>56.0</td>\n",
              "      <td>56.0</td>\n",
              "      <td>56.0</td>\n",
              "      <td>0.0</td>\n",
              "      <td>0.0</td>\n",
              "      <td>0.0</td>\n",
              "      <td>0.0</td>\n",
              "      <td>52.0</td>\n",
              "      <td>52.0</td>\n",
              "      <td>52.0</td>\n",
              "      <td>52.0</td>\n",
              "      <td>6.0</td>\n",
              "      <td>6.0</td>\n",
              "      <td>6.0</td>\n",
              "      <td>6.0</td>\n",
              "      <td>407438.0</td>\n",
              "      <td>407438.0</td>\n",
              "      <td>407438.0</td>\n",
              "      <td>407438.0</td>\n",
              "      <td>0.0</td>\n",
              "      <td>0.0</td>\n",
              "      <td>0.0</td>\n",
              "      <td>0.0</td>\n",
              "      <td>0.0</td>\n",
              "      <td>0.0</td>\n",
              "      <td>0.0</td>\n",
              "      <td>0.0</td>\n",
              "      <td>7.0</td>\n",
              "      <td>7.0</td>\n",
              "      <td>7.0</td>\n",
              "      <td>7.0</td>\n",
              "      <td>1.0</td>\n",
              "      <td>1.0</td>\n",
              "      <td>0.0</td>\n",
              "      <td>1.0</td>\n",
              "      <td>1.0</td>\n",
              "      <td>1.0</td>\n",
              "      <td>0.0</td>\n",
              "      <td>0.0</td>\n",
              "      <td>1.0</td>\n",
              "    </tr>\n",
              "    <tr>\n",
              "      <th>3</th>\n",
              "      <td>3</td>\n",
              "      <td>2015-01-04</td>\n",
              "      <td>S1F01085</td>\n",
              "      <td>0</td>\n",
              "      <td>128073224</td>\n",
              "      <td>56</td>\n",
              "      <td>0</td>\n",
              "      <td>52</td>\n",
              "      <td>6</td>\n",
              "      <td>407439</td>\n",
              "      <td>0</td>\n",
              "      <td>0</td>\n",
              "      <td>7</td>\n",
              "      <td>0</td>\n",
              "      <td>2015-01-01</td>\n",
              "      <td>3.0</td>\n",
              "      <td>1</td>\n",
              "      <td>128073224.0</td>\n",
              "      <td>128073224.0</td>\n",
              "      <td>128073224.0</td>\n",
              "      <td>128073224.0</td>\n",
              "      <td>56.0</td>\n",
              "      <td>56.0</td>\n",
              "      <td>56.0</td>\n",
              "      <td>56.0</td>\n",
              "      <td>0.0</td>\n",
              "      <td>0.0</td>\n",
              "      <td>0.0</td>\n",
              "      <td>0.0</td>\n",
              "      <td>52.0</td>\n",
              "      <td>52.0</td>\n",
              "      <td>52.0</td>\n",
              "      <td>52.0</td>\n",
              "      <td>6.0</td>\n",
              "      <td>6.0</td>\n",
              "      <td>6.0</td>\n",
              "      <td>6.0</td>\n",
              "      <td>407439.0</td>\n",
              "      <td>407439.0</td>\n",
              "      <td>407439.0</td>\n",
              "      <td>407439.0</td>\n",
              "      <td>0.0</td>\n",
              "      <td>0.0</td>\n",
              "      <td>0.0</td>\n",
              "      <td>0.0</td>\n",
              "      <td>0.0</td>\n",
              "      <td>0.0</td>\n",
              "      <td>0.0</td>\n",
              "      <td>0.0</td>\n",
              "      <td>7.0</td>\n",
              "      <td>7.0</td>\n",
              "      <td>7.0</td>\n",
              "      <td>7.0</td>\n",
              "      <td>1.0</td>\n",
              "      <td>1.0</td>\n",
              "      <td>0.0</td>\n",
              "      <td>1.0</td>\n",
              "      <td>1.0</td>\n",
              "      <td>1.0</td>\n",
              "      <td>0.0</td>\n",
              "      <td>0.0</td>\n",
              "      <td>1.0</td>\n",
              "    </tr>\n",
              "    <tr>\n",
              "      <th>4</th>\n",
              "      <td>4</td>\n",
              "      <td>2015-01-05</td>\n",
              "      <td>S1F01085</td>\n",
              "      <td>0</td>\n",
              "      <td>97393448</td>\n",
              "      <td>56</td>\n",
              "      <td>0</td>\n",
              "      <td>52</td>\n",
              "      <td>6</td>\n",
              "      <td>408114</td>\n",
              "      <td>0</td>\n",
              "      <td>0</td>\n",
              "      <td>7</td>\n",
              "      <td>0</td>\n",
              "      <td>2015-01-01</td>\n",
              "      <td>4.0</td>\n",
              "      <td>1</td>\n",
              "      <td>97393448.0</td>\n",
              "      <td>97393448.0</td>\n",
              "      <td>97393448.0</td>\n",
              "      <td>97393448.0</td>\n",
              "      <td>56.0</td>\n",
              "      <td>56.0</td>\n",
              "      <td>56.0</td>\n",
              "      <td>56.0</td>\n",
              "      <td>0.0</td>\n",
              "      <td>0.0</td>\n",
              "      <td>0.0</td>\n",
              "      <td>0.0</td>\n",
              "      <td>52.0</td>\n",
              "      <td>52.0</td>\n",
              "      <td>52.0</td>\n",
              "      <td>52.0</td>\n",
              "      <td>6.0</td>\n",
              "      <td>6.0</td>\n",
              "      <td>6.0</td>\n",
              "      <td>6.0</td>\n",
              "      <td>408114.0</td>\n",
              "      <td>408114.0</td>\n",
              "      <td>408114.0</td>\n",
              "      <td>408114.0</td>\n",
              "      <td>0.0</td>\n",
              "      <td>0.0</td>\n",
              "      <td>0.0</td>\n",
              "      <td>0.0</td>\n",
              "      <td>0.0</td>\n",
              "      <td>0.0</td>\n",
              "      <td>0.0</td>\n",
              "      <td>0.0</td>\n",
              "      <td>7.0</td>\n",
              "      <td>7.0</td>\n",
              "      <td>7.0</td>\n",
              "      <td>7.0</td>\n",
              "      <td>1.0</td>\n",
              "      <td>1.0</td>\n",
              "      <td>0.0</td>\n",
              "      <td>1.0</td>\n",
              "      <td>1.0</td>\n",
              "      <td>1.0</td>\n",
              "      <td>0.0</td>\n",
              "      <td>0.0</td>\n",
              "      <td>1.0</td>\n",
              "    </tr>\n",
              "  </tbody>\n",
              "</table>\n",
              "</div>"
            ],
            "text/plain": [
              "   index       date    device  ...  metric7_chg  metric8_chg  metric9_chg\n",
              "0      0 2015-01-01  S1F01085  ...          0.0          0.0          1.0\n",
              "1      1 2015-01-02  S1F01085  ...          0.0          0.0          1.0\n",
              "2      2 2015-01-03  S1F01085  ...          0.0          0.0          1.0\n",
              "3      3 2015-01-04  S1F01085  ...          0.0          0.0          1.0\n",
              "4      4 2015-01-05  S1F01085  ...          0.0          0.0          1.0\n",
              "\n",
              "[5 rows x 62 columns]"
            ]
          },
          "metadata": {
            "tags": []
          },
          "execution_count": 25
        }
      ]
    },
    {
      "cell_type": "code",
      "metadata": {
        "id": "309VLL-iM_fh"
      },
      "source": [
        "df_failure_thingy=data_df[data_df['failure'] == 1]\n",
        "df_failure_thingy=df_failure_thingy[['date','device']]\n",
        "df_failure_thingy=df_failure_thingy.rename(index=str, columns={\"date\": \"FAILURE_DATE\"})\n",
        "data_df=data_df.sort_values(by=['device'], ascending=[True])\n",
        "df_failure_thingy=df_failure_thingy.sort_values(by=['device'], ascending=[True])"
      ],
      "execution_count": 26,
      "outputs": []
    },
    {
      "cell_type": "code",
      "metadata": {
        "id": "MeB6Nd_cM_TB"
      },
      "source": [
        "data_df =data_df.merge(df_failure_thingy, on=['device'], how='left')"
      ],
      "execution_count": 27,
      "outputs": []
    },
    {
      "cell_type": "code",
      "metadata": {
        "colab": {
          "base_uri": "https://localhost:8080/",
          "height": 298
        },
        "id": "MN4Mdr3SOa-g",
        "outputId": "c419a5c2-60f4-4b95-f59c-7e578667ec5c"
      },
      "source": [
        "data_df.head()"
      ],
      "execution_count": 28,
      "outputs": [
        {
          "output_type": "execute_result",
          "data": {
            "text/html": [
              "<div>\n",
              "<style scoped>\n",
              "    .dataframe tbody tr th:only-of-type {\n",
              "        vertical-align: middle;\n",
              "    }\n",
              "\n",
              "    .dataframe tbody tr th {\n",
              "        vertical-align: top;\n",
              "    }\n",
              "\n",
              "    .dataframe thead th {\n",
              "        text-align: right;\n",
              "    }\n",
              "</style>\n",
              "<table border=\"1\" class=\"dataframe\">\n",
              "  <thead>\n",
              "    <tr style=\"text-align: right;\">\n",
              "      <th></th>\n",
              "      <th>index</th>\n",
              "      <th>date</th>\n",
              "      <th>device</th>\n",
              "      <th>failure</th>\n",
              "      <th>metric1</th>\n",
              "      <th>metric2</th>\n",
              "      <th>metric3</th>\n",
              "      <th>metric4</th>\n",
              "      <th>metric5</th>\n",
              "      <th>metric6</th>\n",
              "      <th>metric7</th>\n",
              "      <th>metric8</th>\n",
              "      <th>metric9</th>\n",
              "      <th>flipper</th>\n",
              "      <th>START_DATE</th>\n",
              "      <th>TIME_SINCE_START</th>\n",
              "      <th>too_soon</th>\n",
              "      <th>metric1_mean</th>\n",
              "      <th>metric1_median</th>\n",
              "      <th>metric1_max</th>\n",
              "      <th>metric1_min</th>\n",
              "      <th>metric2_mean</th>\n",
              "      <th>metric2_median</th>\n",
              "      <th>metric2_max</th>\n",
              "      <th>metric2_min</th>\n",
              "      <th>metric3_mean</th>\n",
              "      <th>metric3_median</th>\n",
              "      <th>metric3_max</th>\n",
              "      <th>metric3_min</th>\n",
              "      <th>metric4_mean</th>\n",
              "      <th>metric4_median</th>\n",
              "      <th>metric4_max</th>\n",
              "      <th>metric4_min</th>\n",
              "      <th>metric5_mean</th>\n",
              "      <th>metric5_median</th>\n",
              "      <th>metric5_max</th>\n",
              "      <th>metric5_min</th>\n",
              "      <th>metric6_mean</th>\n",
              "      <th>metric6_median</th>\n",
              "      <th>metric6_max</th>\n",
              "      <th>metric6_min</th>\n",
              "      <th>metric7_mean</th>\n",
              "      <th>metric7_median</th>\n",
              "      <th>metric7_max</th>\n",
              "      <th>metric7_min</th>\n",
              "      <th>metric8_mean</th>\n",
              "      <th>metric8_median</th>\n",
              "      <th>metric8_max</th>\n",
              "      <th>metric8_min</th>\n",
              "      <th>metric9_mean</th>\n",
              "      <th>metric9_median</th>\n",
              "      <th>metric9_max</th>\n",
              "      <th>metric9_min</th>\n",
              "      <th>metric1_chg</th>\n",
              "      <th>metric2_chg</th>\n",
              "      <th>metric3_chg</th>\n",
              "      <th>metric4_chg</th>\n",
              "      <th>metric5_chg</th>\n",
              "      <th>metric6_chg</th>\n",
              "      <th>metric7_chg</th>\n",
              "      <th>metric8_chg</th>\n",
              "      <th>metric9_chg</th>\n",
              "      <th>FAILURE_DATE</th>\n",
              "    </tr>\n",
              "  </thead>\n",
              "  <tbody>\n",
              "    <tr>\n",
              "      <th>0</th>\n",
              "      <td>0</td>\n",
              "      <td>2015-01-01</td>\n",
              "      <td>S1F01085</td>\n",
              "      <td>0</td>\n",
              "      <td>215630672</td>\n",
              "      <td>55</td>\n",
              "      <td>0</td>\n",
              "      <td>52</td>\n",
              "      <td>6</td>\n",
              "      <td>407438</td>\n",
              "      <td>0</td>\n",
              "      <td>0</td>\n",
              "      <td>7</td>\n",
              "      <td>1</td>\n",
              "      <td>2015-01-01</td>\n",
              "      <td>0.0</td>\n",
              "      <td>1</td>\n",
              "      <td>215630672.0</td>\n",
              "      <td>215630672.0</td>\n",
              "      <td>215630672.0</td>\n",
              "      <td>215630672.0</td>\n",
              "      <td>55.0</td>\n",
              "      <td>55.0</td>\n",
              "      <td>55.0</td>\n",
              "      <td>55.0</td>\n",
              "      <td>0.0</td>\n",
              "      <td>0.0</td>\n",
              "      <td>0.0</td>\n",
              "      <td>0.0</td>\n",
              "      <td>52.0</td>\n",
              "      <td>52.0</td>\n",
              "      <td>52.0</td>\n",
              "      <td>52.0</td>\n",
              "      <td>6.0</td>\n",
              "      <td>6.0</td>\n",
              "      <td>6.0</td>\n",
              "      <td>6.0</td>\n",
              "      <td>407438.0</td>\n",
              "      <td>407438.0</td>\n",
              "      <td>407438.0</td>\n",
              "      <td>407438.0</td>\n",
              "      <td>0.0</td>\n",
              "      <td>0.0</td>\n",
              "      <td>0.0</td>\n",
              "      <td>0.0</td>\n",
              "      <td>0.0</td>\n",
              "      <td>0.0</td>\n",
              "      <td>0.0</td>\n",
              "      <td>0.0</td>\n",
              "      <td>7.0</td>\n",
              "      <td>7.0</td>\n",
              "      <td>7.0</td>\n",
              "      <td>7.0</td>\n",
              "      <td>1.0</td>\n",
              "      <td>1.0</td>\n",
              "      <td>0.0</td>\n",
              "      <td>1.0</td>\n",
              "      <td>1.0</td>\n",
              "      <td>1.0</td>\n",
              "      <td>0.0</td>\n",
              "      <td>0.0</td>\n",
              "      <td>1.0</td>\n",
              "      <td>NaT</td>\n",
              "    </tr>\n",
              "    <tr>\n",
              "      <th>1</th>\n",
              "      <td>1</td>\n",
              "      <td>2015-01-02</td>\n",
              "      <td>S1F01085</td>\n",
              "      <td>0</td>\n",
              "      <td>1650864</td>\n",
              "      <td>56</td>\n",
              "      <td>0</td>\n",
              "      <td>52</td>\n",
              "      <td>6</td>\n",
              "      <td>407438</td>\n",
              "      <td>0</td>\n",
              "      <td>0</td>\n",
              "      <td>7</td>\n",
              "      <td>0</td>\n",
              "      <td>2015-01-01</td>\n",
              "      <td>1.0</td>\n",
              "      <td>1</td>\n",
              "      <td>1650864.0</td>\n",
              "      <td>1650864.0</td>\n",
              "      <td>1650864.0</td>\n",
              "      <td>1650864.0</td>\n",
              "      <td>56.0</td>\n",
              "      <td>56.0</td>\n",
              "      <td>56.0</td>\n",
              "      <td>56.0</td>\n",
              "      <td>0.0</td>\n",
              "      <td>0.0</td>\n",
              "      <td>0.0</td>\n",
              "      <td>0.0</td>\n",
              "      <td>52.0</td>\n",
              "      <td>52.0</td>\n",
              "      <td>52.0</td>\n",
              "      <td>52.0</td>\n",
              "      <td>6.0</td>\n",
              "      <td>6.0</td>\n",
              "      <td>6.0</td>\n",
              "      <td>6.0</td>\n",
              "      <td>407438.0</td>\n",
              "      <td>407438.0</td>\n",
              "      <td>407438.0</td>\n",
              "      <td>407438.0</td>\n",
              "      <td>0.0</td>\n",
              "      <td>0.0</td>\n",
              "      <td>0.0</td>\n",
              "      <td>0.0</td>\n",
              "      <td>0.0</td>\n",
              "      <td>0.0</td>\n",
              "      <td>0.0</td>\n",
              "      <td>0.0</td>\n",
              "      <td>7.0</td>\n",
              "      <td>7.0</td>\n",
              "      <td>7.0</td>\n",
              "      <td>7.0</td>\n",
              "      <td>1.0</td>\n",
              "      <td>1.0</td>\n",
              "      <td>0.0</td>\n",
              "      <td>1.0</td>\n",
              "      <td>1.0</td>\n",
              "      <td>1.0</td>\n",
              "      <td>0.0</td>\n",
              "      <td>0.0</td>\n",
              "      <td>1.0</td>\n",
              "      <td>NaT</td>\n",
              "    </tr>\n",
              "    <tr>\n",
              "      <th>2</th>\n",
              "      <td>2</td>\n",
              "      <td>2015-01-03</td>\n",
              "      <td>S1F01085</td>\n",
              "      <td>0</td>\n",
              "      <td>124017368</td>\n",
              "      <td>56</td>\n",
              "      <td>0</td>\n",
              "      <td>52</td>\n",
              "      <td>6</td>\n",
              "      <td>407438</td>\n",
              "      <td>0</td>\n",
              "      <td>0</td>\n",
              "      <td>7</td>\n",
              "      <td>0</td>\n",
              "      <td>2015-01-01</td>\n",
              "      <td>2.0</td>\n",
              "      <td>1</td>\n",
              "      <td>124017368.0</td>\n",
              "      <td>124017368.0</td>\n",
              "      <td>124017368.0</td>\n",
              "      <td>124017368.0</td>\n",
              "      <td>56.0</td>\n",
              "      <td>56.0</td>\n",
              "      <td>56.0</td>\n",
              "      <td>56.0</td>\n",
              "      <td>0.0</td>\n",
              "      <td>0.0</td>\n",
              "      <td>0.0</td>\n",
              "      <td>0.0</td>\n",
              "      <td>52.0</td>\n",
              "      <td>52.0</td>\n",
              "      <td>52.0</td>\n",
              "      <td>52.0</td>\n",
              "      <td>6.0</td>\n",
              "      <td>6.0</td>\n",
              "      <td>6.0</td>\n",
              "      <td>6.0</td>\n",
              "      <td>407438.0</td>\n",
              "      <td>407438.0</td>\n",
              "      <td>407438.0</td>\n",
              "      <td>407438.0</td>\n",
              "      <td>0.0</td>\n",
              "      <td>0.0</td>\n",
              "      <td>0.0</td>\n",
              "      <td>0.0</td>\n",
              "      <td>0.0</td>\n",
              "      <td>0.0</td>\n",
              "      <td>0.0</td>\n",
              "      <td>0.0</td>\n",
              "      <td>7.0</td>\n",
              "      <td>7.0</td>\n",
              "      <td>7.0</td>\n",
              "      <td>7.0</td>\n",
              "      <td>1.0</td>\n",
              "      <td>1.0</td>\n",
              "      <td>0.0</td>\n",
              "      <td>1.0</td>\n",
              "      <td>1.0</td>\n",
              "      <td>1.0</td>\n",
              "      <td>0.0</td>\n",
              "      <td>0.0</td>\n",
              "      <td>1.0</td>\n",
              "      <td>NaT</td>\n",
              "    </tr>\n",
              "    <tr>\n",
              "      <th>3</th>\n",
              "      <td>3</td>\n",
              "      <td>2015-01-04</td>\n",
              "      <td>S1F01085</td>\n",
              "      <td>0</td>\n",
              "      <td>128073224</td>\n",
              "      <td>56</td>\n",
              "      <td>0</td>\n",
              "      <td>52</td>\n",
              "      <td>6</td>\n",
              "      <td>407439</td>\n",
              "      <td>0</td>\n",
              "      <td>0</td>\n",
              "      <td>7</td>\n",
              "      <td>0</td>\n",
              "      <td>2015-01-01</td>\n",
              "      <td>3.0</td>\n",
              "      <td>1</td>\n",
              "      <td>128073224.0</td>\n",
              "      <td>128073224.0</td>\n",
              "      <td>128073224.0</td>\n",
              "      <td>128073224.0</td>\n",
              "      <td>56.0</td>\n",
              "      <td>56.0</td>\n",
              "      <td>56.0</td>\n",
              "      <td>56.0</td>\n",
              "      <td>0.0</td>\n",
              "      <td>0.0</td>\n",
              "      <td>0.0</td>\n",
              "      <td>0.0</td>\n",
              "      <td>52.0</td>\n",
              "      <td>52.0</td>\n",
              "      <td>52.0</td>\n",
              "      <td>52.0</td>\n",
              "      <td>6.0</td>\n",
              "      <td>6.0</td>\n",
              "      <td>6.0</td>\n",
              "      <td>6.0</td>\n",
              "      <td>407439.0</td>\n",
              "      <td>407439.0</td>\n",
              "      <td>407439.0</td>\n",
              "      <td>407439.0</td>\n",
              "      <td>0.0</td>\n",
              "      <td>0.0</td>\n",
              "      <td>0.0</td>\n",
              "      <td>0.0</td>\n",
              "      <td>0.0</td>\n",
              "      <td>0.0</td>\n",
              "      <td>0.0</td>\n",
              "      <td>0.0</td>\n",
              "      <td>7.0</td>\n",
              "      <td>7.0</td>\n",
              "      <td>7.0</td>\n",
              "      <td>7.0</td>\n",
              "      <td>1.0</td>\n",
              "      <td>1.0</td>\n",
              "      <td>0.0</td>\n",
              "      <td>1.0</td>\n",
              "      <td>1.0</td>\n",
              "      <td>1.0</td>\n",
              "      <td>0.0</td>\n",
              "      <td>0.0</td>\n",
              "      <td>1.0</td>\n",
              "      <td>NaT</td>\n",
              "    </tr>\n",
              "    <tr>\n",
              "      <th>4</th>\n",
              "      <td>4</td>\n",
              "      <td>2015-01-05</td>\n",
              "      <td>S1F01085</td>\n",
              "      <td>0</td>\n",
              "      <td>97393448</td>\n",
              "      <td>56</td>\n",
              "      <td>0</td>\n",
              "      <td>52</td>\n",
              "      <td>6</td>\n",
              "      <td>408114</td>\n",
              "      <td>0</td>\n",
              "      <td>0</td>\n",
              "      <td>7</td>\n",
              "      <td>0</td>\n",
              "      <td>2015-01-01</td>\n",
              "      <td>4.0</td>\n",
              "      <td>1</td>\n",
              "      <td>97393448.0</td>\n",
              "      <td>97393448.0</td>\n",
              "      <td>97393448.0</td>\n",
              "      <td>97393448.0</td>\n",
              "      <td>56.0</td>\n",
              "      <td>56.0</td>\n",
              "      <td>56.0</td>\n",
              "      <td>56.0</td>\n",
              "      <td>0.0</td>\n",
              "      <td>0.0</td>\n",
              "      <td>0.0</td>\n",
              "      <td>0.0</td>\n",
              "      <td>52.0</td>\n",
              "      <td>52.0</td>\n",
              "      <td>52.0</td>\n",
              "      <td>52.0</td>\n",
              "      <td>6.0</td>\n",
              "      <td>6.0</td>\n",
              "      <td>6.0</td>\n",
              "      <td>6.0</td>\n",
              "      <td>408114.0</td>\n",
              "      <td>408114.0</td>\n",
              "      <td>408114.0</td>\n",
              "      <td>408114.0</td>\n",
              "      <td>0.0</td>\n",
              "      <td>0.0</td>\n",
              "      <td>0.0</td>\n",
              "      <td>0.0</td>\n",
              "      <td>0.0</td>\n",
              "      <td>0.0</td>\n",
              "      <td>0.0</td>\n",
              "      <td>0.0</td>\n",
              "      <td>7.0</td>\n",
              "      <td>7.0</td>\n",
              "      <td>7.0</td>\n",
              "      <td>7.0</td>\n",
              "      <td>1.0</td>\n",
              "      <td>1.0</td>\n",
              "      <td>0.0</td>\n",
              "      <td>1.0</td>\n",
              "      <td>1.0</td>\n",
              "      <td>1.0</td>\n",
              "      <td>0.0</td>\n",
              "      <td>0.0</td>\n",
              "      <td>1.0</td>\n",
              "      <td>NaT</td>\n",
              "    </tr>\n",
              "  </tbody>\n",
              "</table>\n",
              "</div>"
            ],
            "text/plain": [
              "   index       date    device  ...  metric8_chg  metric9_chg  FAILURE_DATE\n",
              "0      0 2015-01-01  S1F01085  ...          0.0          1.0           NaT\n",
              "1      1 2015-01-02  S1F01085  ...          0.0          1.0           NaT\n",
              "2      2 2015-01-03  S1F01085  ...          0.0          1.0           NaT\n",
              "3      3 2015-01-04  S1F01085  ...          0.0          1.0           NaT\n",
              "4      4 2015-01-05  S1F01085  ...          0.0          1.0           NaT\n",
              "\n",
              "[5 rows x 63 columns]"
            ]
          },
          "metadata": {
            "tags": []
          },
          "execution_count": 28
        }
      ]
    },
    {
      "cell_type": "code",
      "metadata": {
        "id": "TCfTHgAdNuZC"
      },
      "source": [
        "data_df=data_df.sort_values(by=['device','date'], ascending=[True, True])\n",
        "data_df['FAILURE_DATE'] = pd.to_datetime(data_df['FAILURE_DATE'])\n",
        "data_df['date'] = pd.to_datetime(data_df['date'])\n",
        "data_df['C'] = data_df['FAILURE_DATE'] - data_df['date']\n",
        "data_df['TIME_TO_FAILURE'] = data_df['C'] / np.timedelta64(1, 'D')"
      ],
      "execution_count": 29,
      "outputs": []
    },
    {
      "cell_type": "code",
      "metadata": {
        "id": "J8zStWyNNuWa"
      },
      "source": [
        "data_df.head()\n",
        "pd_data=data_df"
      ],
      "execution_count": 30,
      "outputs": []
    },
    {
      "cell_type": "code",
      "metadata": {
        "id": "sfmWmOXMNuTY"
      },
      "source": [
        "pd_data=pd_data.drop(columns=['index'])\n",
        "pd_data=pd_data.sort_values(by=['device', 'date'], ascending=[True, True])\n",
        "pd_data.reset_index(inplace=True)"
      ],
      "execution_count": 31,
      "outputs": []
    },
    {
      "cell_type": "code",
      "metadata": {
        "colab": {
          "base_uri": "https://localhost:8080/"
        },
        "id": "fd1-2smhNuOj",
        "outputId": "5c082ce5-285c-40bd-ddfc-4b6ef9274a61"
      },
      "source": [
        "pd_data['FAILURE_TARGET'] = np.where(((pd_data.TIME_TO_FAILURE < target_window) & ((pd_data.TIME_TO_FAILURE>=0))), 1, 0)\n",
        "tips_summed = pd_data.groupby(['FAILURE_TARGET'])['metric1'].count()\n",
        "tips_summed"
      ],
      "execution_count": 32,
      "outputs": [
        {
          "output_type": "execute_result",
          "data": {
            "text/plain": [
              "FAILURE_TARGET\n",
              "0    121912\n",
              "1      2582\n",
              "Name: metric1, dtype: int64"
            ]
          },
          "metadata": {
            "tags": []
          },
          "execution_count": 32
        }
      ]
    },
    {
      "cell_type": "code",
      "metadata": {
        "colab": {
          "base_uri": "https://localhost:8080/"
        },
        "id": "deXRQ6HHNuLp",
        "outputId": "1fc55548-d819-4fd4-c184-638d06bb6119"
      },
      "source": [
        "pd_data['FAILURE_TARGET'].mean()"
      ],
      "execution_count": 33,
      "outputs": [
        {
          "output_type": "execute_result",
          "data": {
            "text/plain": [
              "0.020739955339213134"
            ]
          },
          "metadata": {
            "tags": []
          },
          "execution_count": 33
        }
      ]
    },
    {
      "cell_type": "code",
      "metadata": {
        "colab": {
          "base_uri": "https://localhost:8080/"
        },
        "id": "1-tcfotcNuIg",
        "outputId": "41aa6fd3-522d-41bd-c5c1-6e285c793aa9"
      },
      "source": [
        "#Get a Unique List of All IDs\n",
        "aa=pd_data\n",
        "pd_id=aa.drop_duplicates(subset='device')\n",
        "pd_id=pd_id[['device']]\n",
        "pd_id.shape"
      ],
      "execution_count": 34,
      "outputs": [
        {
          "output_type": "execute_result",
          "data": {
            "text/plain": [
              "(1169, 1)"
            ]
          },
          "metadata": {
            "tags": []
          },
          "execution_count": 34
        }
      ]
    },
    {
      "cell_type": "code",
      "metadata": {
        "id": "gVGYLAwTNt_D"
      },
      "source": [
        "np.random.seed(42)\n",
        "pd_id['wookie'] = (np.random.randint(0, 10000, pd_id.shape[0]))/10000\n",
        "pd_id=pd_id[['device', 'wookie']]"
      ],
      "execution_count": 35,
      "outputs": []
    },
    {
      "cell_type": "code",
      "metadata": {
        "id": "r3GhjAaGQH3X"
      },
      "source": [
        "pd_id['MODELING_GROUP'] = np.where(((pd_id.wookie <= 0.80)), 'TRAINING', np.where(((pd_id.wookie <= 0.90)), 'VALIDATION', 'TESTING'))"
      ],
      "execution_count": 36,
      "outputs": []
    },
    {
      "cell_type": "code",
      "metadata": {
        "colab": {
          "base_uri": "https://localhost:8080/"
        },
        "id": "_e_zYGfUQHyA",
        "outputId": "0934ad1d-0bac-4ccc-dd7e-8d45036176a7"
      },
      "source": [
        "tips_summed = pd_id.groupby(['MODELING_GROUP'])['wookie'].count()\n",
        "tips_summed"
      ],
      "execution_count": 37,
      "outputs": [
        {
          "output_type": "execute_result",
          "data": {
            "text/plain": [
              "MODELING_GROUP\n",
              "TESTING        99\n",
              "TRAINING      966\n",
              "VALIDATION    104\n",
              "Name: wookie, dtype: int64"
            ]
          },
          "metadata": {
            "tags": []
          },
          "execution_count": 37
        }
      ]
    },
    {
      "cell_type": "code",
      "metadata": {
        "id": "zpX6WzOIQHuW"
      },
      "source": [
        "pd_data=pd_data.sort_values(by=['device'], ascending=[True])\n",
        "pd_id=pd_id.sort_values(by=['device'], ascending=[True])\n",
        "pd_data =pd_data.merge(pd_id, on=['device'], how='inner')"
      ],
      "execution_count": 38,
      "outputs": []
    },
    {
      "cell_type": "code",
      "metadata": {
        "colab": {
          "base_uri": "https://localhost:8080/"
        },
        "id": "cB-myfECQHsN",
        "outputId": "792a3396-3cd0-47a3-cb64-4fad3353b45a"
      },
      "source": [
        "tips_summed = pd_data.groupby(['MODELING_GROUP'])['wookie'].count()\n",
        "tips_summed"
      ],
      "execution_count": 39,
      "outputs": [
        {
          "output_type": "execute_result",
          "data": {
            "text/plain": [
              "MODELING_GROUP\n",
              "TESTING        11738\n",
              "TRAINING      101231\n",
              "VALIDATION     11525\n",
              "Name: wookie, dtype: int64"
            ]
          },
          "metadata": {
            "tags": []
          },
          "execution_count": 39
        }
      ]
    },
    {
      "cell_type": "code",
      "metadata": {
        "colab": {
          "base_uri": "https://localhost:8080/"
        },
        "id": "umZN9V2tQHpz",
        "outputId": "b0a549f7-d18a-425f-9cc4-0439b476e7a1"
      },
      "source": [
        "tips_summed = pd_data.groupby(['MODELING_GROUP'])['FAILURE_TARGET'].sum()\n",
        "tips_summed"
      ],
      "execution_count": 40,
      "outputs": [
        {
          "output_type": "execute_result",
          "data": {
            "text/plain": [
              "MODELING_GROUP\n",
              "TESTING        181\n",
              "TRAINING      2188\n",
              "VALIDATION     213\n",
              "Name: FAILURE_TARGET, dtype: int64"
            ]
          },
          "metadata": {
            "tags": []
          },
          "execution_count": 40
        }
      ]
    },
    {
      "cell_type": "code",
      "metadata": {
        "colab": {
          "base_uri": "https://localhost:8080/"
        },
        "id": "vSEOckZTQHnX",
        "outputId": "bf4f3857-560a-41e6-9d8f-d6811d612c3d"
      },
      "source": [
        "df_training=pd_data[pd_data['MODELING_GROUP'] == 'TRAINING']\n",
        "df_training=df_training.drop(columns=['MODELING_GROUP','C','wookie','TIME_TO_FAILURE','flipper','START_DATE'])\n",
        "df_training.shape"
      ],
      "execution_count": 41,
      "outputs": [
        {
          "output_type": "execute_result",
          "data": {
            "text/plain": [
              "(101231, 62)"
            ]
          },
          "metadata": {
            "tags": []
          },
          "execution_count": 41
        }
      ]
    },
    {
      "cell_type": "code",
      "metadata": {
        "colab": {
          "base_uri": "https://localhost:8080/"
        },
        "id": "hmN7tu1pQHlP",
        "outputId": "ed3879d1-53cd-49e6-81ee-64a83a4cccdf"
      },
      "source": [
        "df_train_test=pd_data[pd_data['MODELING_GROUP'] != 'VALIDATION']\n",
        "df_train_test=df_train_test.drop(columns=['wookie','TIME_TO_FAILURE','flipper','START_DATE'])\n",
        "df_train_test.shape"
      ],
      "execution_count": 42,
      "outputs": [
        {
          "output_type": "execute_result",
          "data": {
            "text/plain": [
              "(112969, 64)"
            ]
          },
          "metadata": {
            "tags": []
          },
          "execution_count": 42
        }
      ]
    },
    {
      "cell_type": "code",
      "metadata": {
        "id": "du9wyvprQHi9"
      },
      "source": [
        "df_total=pd_data.drop(columns=['C','wookie','TIME_TO_FAILURE','flipper','START_DATE'])"
      ],
      "execution_count": 43,
      "outputs": []
    },
    {
      "cell_type": "code",
      "metadata": {
        "colab": {
          "base_uri": "https://localhost:8080/"
        },
        "id": "rVgTxQH3QHgb",
        "outputId": "e0caa417-7288-4101-d98d-ae9bd9ba4381"
      },
      "source": [
        "df_total.columns\n"
      ],
      "execution_count": 44,
      "outputs": [
        {
          "output_type": "execute_result",
          "data": {
            "text/plain": [
              "Index(['index', 'date', 'device', 'failure', 'metric1', 'metric2', 'metric3',\n",
              "       'metric4', 'metric5', 'metric6', 'metric7', 'metric8', 'metric9',\n",
              "       'TIME_SINCE_START', 'too_soon', 'metric1_mean', 'metric1_median',\n",
              "       'metric1_max', 'metric1_min', 'metric2_mean', 'metric2_median',\n",
              "       'metric2_max', 'metric2_min', 'metric3_mean', 'metric3_median',\n",
              "       'metric3_max', 'metric3_min', 'metric4_mean', 'metric4_median',\n",
              "       'metric4_max', 'metric4_min', 'metric5_mean', 'metric5_median',\n",
              "       'metric5_max', 'metric5_min', 'metric6_mean', 'metric6_median',\n",
              "       'metric6_max', 'metric6_min', 'metric7_mean', 'metric7_median',\n",
              "       'metric7_max', 'metric7_min', 'metric8_mean', 'metric8_median',\n",
              "       'metric8_max', 'metric8_min', 'metric9_mean', 'metric9_median',\n",
              "       'metric9_max', 'metric9_min', 'metric1_chg', 'metric2_chg',\n",
              "       'metric3_chg', 'metric4_chg', 'metric5_chg', 'metric6_chg',\n",
              "       'metric7_chg', 'metric8_chg', 'metric9_chg', 'FAILURE_DATE',\n",
              "       'FAILURE_TARGET', 'MODELING_GROUP'],\n",
              "      dtype='object')"
            ]
          },
          "metadata": {
            "tags": []
          },
          "execution_count": 44
        }
      ]
    },
    {
      "cell_type": "code",
      "metadata": {
        "id": "ONTz7MWtQHeE"
      },
      "source": [
        "# training_features=df_training[['index', 'date', 'device', 'failure', 'metric1', 'metric2', 'metric3',\n",
        "#        'metric4', 'metric5', 'metric6', 'metric7', 'metric8', 'metric9',\n",
        "#        'metric1_mean', 'metric1_median',\n",
        "#        'metric1_max', 'metric1_min', 'metric2_mean', 'metric2_median',\n",
        "#        'metric2_max', 'metric2_min', 'metric3_mean', 'metric3_median',\n",
        "#        'metric3_max', 'metric3_min', 'metric4_mean', 'metric4_median',\n",
        "#        'metric4_max', 'metric4_min', 'metric5_mean', 'metric5_median',\n",
        "#        'metric5_max', 'metric5_min', 'metric6_mean', 'metric6_median',\n",
        "#        'metric6_max', 'metric6_min', 'metric7_mean', 'metric7_median',\n",
        "#        'metric7_max', 'metric7_min', 'metric8_mean', 'metric8_median',\n",
        "#        'metric8_max', 'metric8_min', 'metric9_mean', 'metric9_median',\n",
        "#        'metric9_max', 'metric9_min', 'metric1_chg', 'metric2_chg',\n",
        "#        'metric3_chg', 'metric4_chg', 'metric5_chg', 'metric6_chg',\n",
        "#        'metric7_chg', 'metric8_chg', 'metric9_chg']]\n",
        "# training_target=df_training[['FAILURE_TARGET']]\n",
        "\n",
        "training_features=df_training[[  'metric1', 'metric2', 'metric3',\n",
        "       'metric4', 'metric5', 'metric6', 'metric7', 'metric8', 'metric9',\n",
        "       'metric1_mean', 'metric1_median',\n",
        "       'metric1_max', 'metric1_min', 'metric2_mean', 'metric2_median',\n",
        "       'metric2_max', 'metric2_min', 'metric3_mean', 'metric3_median',\n",
        "       'metric3_max', 'metric3_min', 'metric4_mean', 'metric4_median',\n",
        "       'metric4_max', 'metric4_min', 'metric5_mean', 'metric5_median',\n",
        "       'metric5_max', 'metric5_min', 'metric6_mean', 'metric6_median',\n",
        "       'metric6_max', 'metric6_min', 'metric7_mean', 'metric7_median',\n",
        "       'metric7_max', 'metric7_min', 'metric8_mean', 'metric8_median',\n",
        "       'metric8_max', 'metric8_min', 'metric9_mean', 'metric9_median',\n",
        "       'metric9_max', 'metric9_min', 'metric1_chg', 'metric2_chg',\n",
        "       'metric3_chg', 'metric4_chg', 'metric5_chg', 'metric6_chg',\n",
        "       'metric7_chg', 'metric8_chg', 'metric9_chg']]\n",
        "training_target=df_training[['FAILURE_TARGET']]\n"
      ],
      "execution_count": 45,
      "outputs": []
    },
    {
      "cell_type": "code",
      "metadata": {
        "colab": {
          "base_uri": "https://localhost:8080/"
        },
        "id": "6o3EzMrVtpBl",
        "outputId": "122a4433-c030-44e8-878f-67b0c86bc913"
      },
      "source": [
        "training_target.value_counts()"
      ],
      "execution_count": 46,
      "outputs": [
        {
          "output_type": "execute_result",
          "data": {
            "text/plain": [
              "FAILURE_TARGET\n",
              "0                 99043\n",
              "1                  2188\n",
              "dtype: int64"
            ]
          },
          "metadata": {
            "tags": []
          },
          "execution_count": 46
        }
      ]
    },
    {
      "cell_type": "code",
      "metadata": {
        "id": "N3RarI4Ayp2f"
      },
      "source": [
        "df_testing=pd_data[pd_data['MODELING_GROUP'] == 'TESTING']\n",
        "df_testing=df_testing.drop(columns=['MODELING_GROUP','C','wookie','TIME_TO_FAILURE','flipper','START_DATE'])\n",
        "df_testing.shape\n",
        "testing_features=df_testing[[  'metric1', 'metric2', 'metric3',\n",
        "       'metric4', 'metric5', 'metric6', 'metric7', 'metric8', 'metric9',\n",
        "       'metric1_mean', 'metric1_median',\n",
        "       'metric1_max', 'metric1_min', 'metric2_mean', 'metric2_median',\n",
        "       'metric2_max', 'metric2_min', 'metric3_mean', 'metric3_median',\n",
        "       'metric3_max', 'metric3_min', 'metric4_mean', 'metric4_median',\n",
        "       'metric4_max', 'metric4_min', 'metric5_mean', 'metric5_median',\n",
        "       'metric5_max', 'metric5_min', 'metric6_mean', 'metric6_median',\n",
        "       'metric6_max', 'metric6_min', 'metric7_mean', 'metric7_median',\n",
        "       'metric7_max', 'metric7_min', 'metric8_mean', 'metric8_median',\n",
        "       'metric8_max', 'metric8_min', 'metric9_mean', 'metric9_median',\n",
        "       'metric9_max', 'metric9_min', 'metric1_chg', 'metric2_chg',\n",
        "       'metric3_chg', 'metric4_chg', 'metric5_chg', 'metric6_chg',\n",
        "       'metric7_chg', 'metric8_chg', 'metric9_chg']]\n",
        "testing_target=df_testing[['FAILURE_TARGET']]"
      ],
      "execution_count": 47,
      "outputs": []
    },
    {
      "cell_type": "code",
      "metadata": {
        "colab": {
          "base_uri": "https://localhost:8080/"
        },
        "id": "B2-6jN_4u204",
        "outputId": "d8a217e8-343d-442d-f45c-0e24aad9faa1"
      },
      "source": [
        "##Step1\n",
        "import tensorflow as tf\n",
        "from tensorflow.keras.layers import Dense\n",
        "from tensorflow.keras.models import Sequential\n",
        "from sklearn.preprocessing import MinMaxScaler\n",
        "print(len(training_features.columns))\n",
        "n_inputs=55"
      ],
      "execution_count": 48,
      "outputs": [
        {
          "output_type": "stream",
          "text": [
            "54\n"
          ],
          "name": "stdout"
        }
      ]
    },
    {
      "cell_type": "code",
      "metadata": {
        "id": "3ycu5CE8dgPV"
      },
      "source": [
        "import numpy as np\n",
        "import matplotlib.pyplot as plt\n",
        "import tensorflow as tf\n",
        "import tensorflow.keras as keras\n",
        "import numpy as np\n",
        "import matplotlib.pyplot as plt\n",
        "import matplotlib.pylab as plt\n",
        "import tensorflow as tf\n",
        "import tensorflow_hub as hub\n",
        "import tensorflow_datasets as tfds\n",
        "import tensorflow.keras as keras\n",
        "import os"
      ],
      "execution_count": 49,
      "outputs": []
    },
    {
      "cell_type": "code",
      "metadata": {
        "id": "DkWlzAVedgF8"
      },
      "source": [
        "# def seq2seq_window_dataset(series, window_size, batch_size=32,\n",
        "#                            shuffle_buffer=1000):\n",
        "#     series = tf.expand_dims(series, axis=-1)\n",
        "#     ds = tf.data.Dataset.from_tensor_slices(series)\n",
        "#     ds = ds.window(window_size + 1, shift=1, drop_remainder=True)\n",
        "#     ds = ds.flat_map(lambda w: w.batch(window_size + 1))\n",
        "#     ds = ds.shuffle(shuffle_buffer)\n",
        "#     ds = ds.map(lambda w: (w[:-1], w[1:]))\n",
        "#     return ds.batch(batch_size).prefetch(1)\n",
        "\n",
        "# def model_cnn_full():\n",
        "#     model = keras.models.Sequential()\n",
        "#     model.add(keras.layers.InputLayer(input_shape=[None, 1]))\n",
        "#     for dilation_rate in (1, 2, 4, 8, 16, 32):\n",
        "#         model.add(\n",
        "#             keras.layers.Conv1D(filters=32,\n",
        "#                                 kernel_size=2,\n",
        "#                                 strides=1,\n",
        "#                                 dilation_rate=dilation_rate,\n",
        "#                                 padding=\"causal\",\n",
        "#                                 activation=\"relu\")\n",
        "#         )\n",
        "#         return model\n",
        "\n",
        "# def model_forecast(model, series, window_size):\n",
        "#     ds = tf.data.Dataset.from_tensor_slices(series)\n",
        "#     ds = ds.window(window_size, shift=1, drop_remainder=True)\n",
        "#     ds = ds.flat_map(lambda w: w.batch(window_size))\n",
        "#     ds = ds.batch(32).prefetch(1)\n",
        "#     forecast = model.predict(ds)\n",
        "#     return forecast\n",
        "\n",
        "\n",
        "\n",
        "# keras.backend.clear_session()\n",
        "# tf.random.set_seed(42)\n",
        "# np.random.seed(42)\n",
        "\n",
        "# # Scale each feature to 0-1\n",
        "# scaler = MinMaxScaler(feature_range = (0, 1))\n",
        "# # Repeat with the scaler\n",
        "# scaler.fit(training_features)\n",
        "# training_features = scaler.transform(training_features)\n",
        "# testing_features = scaler.transform(testing_features)\n",
        "\n",
        "# print('Training data shape: ', training_features.shape)\n",
        "# print('Testing data shape: ', testing_features.shape)\n",
        "\n",
        "# window_size = 64\n",
        "# train_set = seq2seq_window_dataset(training_features, window_size,\n",
        "#                                    batch_size=128)\n",
        "# valid_set = seq2seq_window_dataset(testing_features, window_size,\n",
        "#                                    batch_size=128)\n",
        "\n",
        "\n",
        "\n",
        "# class F1Score(tf.keras.metrics.Metric):\n",
        "#   def __init__(self, name='F1Score', **kwargs):\n",
        "#     super(F1Score, self).__init__(name=name, **kwargs)\n",
        "#     self.f1score = self.add_weight(name='F1Score', initializer='zeros')\n",
        "#     self.count = self.add_weight(name='F1ScoreCount', initializer='zeros')\n",
        "\n",
        "#   def update_state(self, y_true, y_pred, sample_weight=None):\n",
        "#     y_true = tf.cast(y_true, tf.bool)\n",
        "#     y_pred = tf.cast(y_pred, tf.bool)\n",
        "\n",
        "#     true_positives = tf.logical_and(tf.equal(y_true, True), tf.equal(y_pred, True))\n",
        "#     true_positives = tf.cast(true_positives, self.dtype)\n",
        "#     count_true_positives = tf.reduce_sum(true_positives)\n",
        "\n",
        "#     possible_positives = tf.cast(y_true, self.dtype)\n",
        "#     count_possible_positives = tf.reduce_sum(possible_positives)\n",
        "\n",
        "#     predicted_positives = tf.cast(y_pred, self.dtype)\n",
        "#     count_predicted_positives = tf.reduce_sum(predicted_positives)\n",
        "\n",
        "#     precision = count_true_positives / (count_predicted_positives + tf.keras.backend.epsilon())\n",
        "#     recall = count_true_positives / (count_possible_positives + tf.keras.backend.epsilon())\n",
        "#     f1_cal = 2*(precision*recall)/(precision + recall + tf.keras.backend.epsilon())\n",
        "\n",
        "#     self.count.assign_add(1)\n",
        "#     a = 1.0 / self.count\n",
        "#     b = 1.0 - a\n",
        "#     self.f1score.assign(a*f1_cal+b*self.f1score)\n",
        "\n",
        "#   def result(self):\n",
        "#     return self.f1score\n"
      ],
      "execution_count": 50,
      "outputs": []
    },
    {
      "cell_type": "code",
      "metadata": {
        "id": "OG7zRS_2h4Gm"
      },
      "source": [
        "# testing_features=df_testing[[  'metric1', 'metric2', 'metric3',\n",
        "#        'metric4', 'metric5', 'metric6', 'metric7', 'metric8', 'metric9',\n",
        "#        'metric1_mean', 'metric1_median',\n",
        "#        'metric1_max', 'metric1_min', 'metric2_mean', 'metric2_median',\n",
        "#        'metric2_max', 'metric2_min', 'metric3_mean', 'metric3_median',\n",
        "#        'metric3_max', 'metric3_min', 'metric4_mean', 'metric4_median',\n",
        "#        'metric4_max', 'metric4_min', 'metric5_mean', 'metric5_median',\n",
        "#        'metric5_max', 'metric5_min', 'metric6_mean', 'metric6_median',\n",
        "#        'metric6_max', 'metric6_min', 'metric7_mean', 'metric7_median',\n",
        "#        'metric7_max', 'metric7_min', 'metric8_mean', 'metric8_median',\n",
        "#        'metric8_max', 'metric8_min', 'metric9_mean', 'metric9_median',\n",
        "#        'metric9_max', 'metric9_min', 'metric1_chg', 'metric2_chg',\n",
        "#        'metric3_chg', 'metric4_chg', 'metric5_chg', 'metric6_chg',\n",
        "#        'metric7_chg', 'metric8_chg', 'metric9_chg']]\n",
        "# testing_target=df_testing[['FAILURE_TARGET']]\n",
        "features_col_name=['metric1', 'metric2', 'metric3',\n",
        "       'metric4', 'metric5', 'metric6', 'metric7', 'metric8', 'metric9',\n",
        "       'metric1_mean', 'metric1_median',\n",
        "       'metric1_max', 'metric1_min', 'metric2_mean', 'metric2_median',\n",
        "       'metric2_max', 'metric2_min', 'metric3_mean', 'metric3_median',\n",
        "       'metric3_max', 'metric3_min', 'metric4_mean', 'metric4_median',\n",
        "       'metric4_max', 'metric4_min', 'metric5_mean', 'metric5_median',\n",
        "       'metric5_max', 'metric5_min', 'metric6_mean', 'metric6_median',\n",
        "       'metric6_max', 'metric6_min', 'metric7_mean', 'metric7_median',\n",
        "       'metric7_max', 'metric7_min', 'metric8_mean', 'metric8_median',\n",
        "       'metric8_max', 'metric8_min', 'metric9_mean', 'metric9_median',\n",
        "       'metric9_max', 'metric9_min', 'metric1_chg', 'metric2_chg',\n",
        "       'metric3_chg', 'metric4_chg', 'metric5_chg', 'metric6_chg',\n",
        "       'metric7_chg', 'metric8_chg', 'metric9_chg']\n",
        "target_col_name='FAILURE_TARGET'\n"
      ],
      "execution_count": 51,
      "outputs": []
    },
    {
      "cell_type": "code",
      "metadata": {
        "colab": {
          "base_uri": "https://localhost:8080/"
        },
        "id": "fzDxqb6UiZkn",
        "outputId": "94645169-790f-44b6-d862-e7e3bbda9ded"
      },
      "source": [
        "sc=MinMaxScaler()\n",
        "df_training[features_col_name]=sc.fit_transform(df_training[features_col_name])\n",
        "df_testing[features_col_name]=sc.transform(df_testing[features_col_name])\n",
        "print(df_training.shape)\n",
        "print(df_testing.shape)"
      ],
      "execution_count": 52,
      "outputs": [
        {
          "output_type": "stream",
          "text": [
            "(101231, 62)\n",
            "(11738, 62)\n"
          ],
          "name": "stdout"
        }
      ]
    },
    {
      "cell_type": "code",
      "metadata": {
        "id": "3l8tMhdFiqxp"
      },
      "source": [
        "def gen_sequence(id_df, seq_length, seq_cols):\n",
        "    df_zeros=pd.DataFrame(np.zeros((seq_length-1,id_df.shape[1])),columns=id_df.columns)\n",
        "    id_df=df_zeros.append(id_df,ignore_index=True)\n",
        "    data_array = id_df[seq_cols].values\n",
        "    num_elements = data_array.shape[0]\n",
        "    lstm_array=[]\n",
        "    print(data_array['device'])\n",
        "    for start, stop in zip(range(0, num_elements-seq_length), range(seq_length, num_elements)):\n",
        "        lstm_array.append(data_array[start:stop, :])\n",
        "    return np.array(lstm_array)\n",
        "\n",
        "# function to generate labels\n",
        "def gen_label(id_df, seq_length, seq_cols,label):\n",
        "    df_zeros=pd.DataFrame(np.zeros((seq_length-1,id_df.shape[1])),columns=id_df.columns)\n",
        "    id_df=df_zeros.append(id_df,ignore_index=True)\n",
        "    data_array = id_df[seq_cols].values\n",
        "    num_elements = data_array.shape[0]\n",
        "    y_label=[]\n",
        "    for start, stop in zip(range(0, num_elements-seq_length), range(seq_length, num_elements)):\n",
        "        y_label.append(id_df[label][stop])\n",
        "    return np.array(y_label)"
      ],
      "execution_count": 66,
      "outputs": []
    },
    {
      "cell_type": "code",
      "metadata": {
        "colab": {
          "base_uri": "https://localhost:8080/"
        },
        "id": "6Ti-9GlCreFi",
        "outputId": "b95433fe-69d2-4dc7-bb5d-fb5195e16b29"
      },
      "source": [
        "len(df_training['device'].unique())"
      ],
      "execution_count": 61,
      "outputs": [
        {
          "output_type": "execute_result",
          "data": {
            "text/plain": [
              "966"
            ]
          },
          "metadata": {
            "tags": []
          },
          "execution_count": 61
        }
      ]
    },
    {
      "cell_type": "code",
      "metadata": {
        "colab": {
          "base_uri": "https://localhost:8080/",
          "height": 292
        },
        "id": "7zIqRmZ8iw_f",
        "outputId": "e524d9a0-8a66-40b0-a4ae-30c46a31be1c"
      },
      "source": [
        "# timestamp or window size\n",
        "seq_length=50\n",
        "seq_cols=features_col_name\n",
        "X_train=np.concatenate(list(list(gen_sequence(df_training[df_training['device']==device], seq_length, seq_cols)) for device in df_training['device'].unique()))\n",
        "print(X_train.shape)\n",
        "# generate y_train\n",
        "y_train=np.concatenate(list(list(gen_label(df_training[df_training['device']==device], 50, seq_cols,'FAILURE_TARGET')) for device in df_training['device'].unique()))\n",
        "print(y_train.shape)"
      ],
      "execution_count": 67,
      "outputs": [
        {
          "output_type": "error",
          "ename": "ValueError",
          "evalue": "ignored",
          "traceback": [
            "\u001b[0;31m---------------------------------------------------------------------------\u001b[0m",
            "\u001b[0;31mValueError\u001b[0m                                Traceback (most recent call last)",
            "\u001b[0;32m<ipython-input-67-36fa9b995986>\u001b[0m in \u001b[0;36m<module>\u001b[0;34m()\u001b[0m\n\u001b[1;32m      2\u001b[0m \u001b[0mseq_length\u001b[0m\u001b[0;34m=\u001b[0m\u001b[0;36m50\u001b[0m\u001b[0;34m\u001b[0m\u001b[0;34m\u001b[0m\u001b[0m\n\u001b[1;32m      3\u001b[0m \u001b[0mseq_cols\u001b[0m\u001b[0;34m=\u001b[0m\u001b[0mfeatures_col_name\u001b[0m\u001b[0;34m\u001b[0m\u001b[0;34m\u001b[0m\u001b[0m\n\u001b[0;32m----> 4\u001b[0;31m \u001b[0mX_train\u001b[0m\u001b[0;34m=\u001b[0m\u001b[0mnp\u001b[0m\u001b[0;34m.\u001b[0m\u001b[0mconcatenate\u001b[0m\u001b[0;34m(\u001b[0m\u001b[0mlist\u001b[0m\u001b[0;34m(\u001b[0m\u001b[0mlist\u001b[0m\u001b[0;34m(\u001b[0m\u001b[0mgen_sequence\u001b[0m\u001b[0;34m(\u001b[0m\u001b[0mdf_training\u001b[0m\u001b[0;34m[\u001b[0m\u001b[0mdf_training\u001b[0m\u001b[0;34m[\u001b[0m\u001b[0;34m'device'\u001b[0m\u001b[0;34m]\u001b[0m\u001b[0;34m==\u001b[0m\u001b[0mdevice\u001b[0m\u001b[0;34m]\u001b[0m\u001b[0;34m,\u001b[0m \u001b[0mseq_length\u001b[0m\u001b[0;34m,\u001b[0m \u001b[0mseq_cols\u001b[0m\u001b[0;34m)\u001b[0m\u001b[0;34m)\u001b[0m \u001b[0;32mfor\u001b[0m \u001b[0mdevice\u001b[0m \u001b[0;32min\u001b[0m \u001b[0mdf_training\u001b[0m\u001b[0;34m[\u001b[0m\u001b[0;34m'device'\u001b[0m\u001b[0;34m]\u001b[0m\u001b[0;34m.\u001b[0m\u001b[0munique\u001b[0m\u001b[0;34m(\u001b[0m\u001b[0;34m)\u001b[0m\u001b[0;34m)\u001b[0m\u001b[0;34m)\u001b[0m\u001b[0;34m\u001b[0m\u001b[0;34m\u001b[0m\u001b[0m\n\u001b[0m\u001b[1;32m      5\u001b[0m \u001b[0mprint\u001b[0m\u001b[0;34m(\u001b[0m\u001b[0mX_train\u001b[0m\u001b[0;34m.\u001b[0m\u001b[0mshape\u001b[0m\u001b[0;34m)\u001b[0m\u001b[0;34m\u001b[0m\u001b[0;34m\u001b[0m\u001b[0m\n\u001b[1;32m      6\u001b[0m \u001b[0;31m# generate y_train\u001b[0m\u001b[0;34m\u001b[0m\u001b[0;34m\u001b[0m\u001b[0;34m\u001b[0m\u001b[0m\n",
            "\u001b[0;32m<__array_function__ internals>\u001b[0m in \u001b[0;36mconcatenate\u001b[0;34m(*args, **kwargs)\u001b[0m\n",
            "\u001b[0;31mValueError\u001b[0m: all the input arrays must have same number of dimensions, but the array at index 0 has 3 dimension(s) and the array at index 759 has 1 dimension(s)"
          ]
        }
      ]
    },
    {
      "cell_type": "code",
      "metadata": {
        "id": "ZhHqO5K7iwqw"
      },
      "source": [
        ""
      ],
      "execution_count": null,
      "outputs": []
    },
    {
      "cell_type": "code",
      "metadata": {
        "id": "begH7tPAiqk6"
      },
      "source": [
        ""
      ],
      "execution_count": null,
      "outputs": []
    },
    {
      "cell_type": "code",
      "metadata": {
        "id": "Ury36RFHf86x"
      },
      "source": [
        "model = keras.models.Sequential()\n",
        "model.add(keras.layers.InputLayer(input_shape=[None, 1]))\n",
        "for dilation_rate in (1, 2, 4, 8, 16, 32):\n",
        "    model.add(\n",
        "      keras.layers.Conv1D(filters=32,\n",
        "                          kernel_size=2,\n",
        "                          strides=1,\n",
        "                          dilation_rate=dilation_rate,\n",
        "                          padding=\"causal\",\n",
        "                          activation=\"relu\")\n",
        "    )\n",
        "#model.add(keras.layers.Conv1D(filters=1, kernel_size=1))\n",
        "model.add(keras.layers.Dense(1, activation='sigmoid'))\n",
        "\n",
        "lr_schedule = keras.callbacks.LearningRateScheduler(\n",
        "    lambda epoch: 1e-4 * 10**(epoch / 30))\n",
        "optimizer = keras.optimizers.Adam(lr=1e-4)\n",
        "model.compile(loss='binary_crossentropy',\n",
        "              optimizer=optimizer,\n",
        "              metrics=['accuracy',  F1Score()])\n",
        "model.summary()\n",
        "history = model.fit(train_set, epochs=100, callbacks=[lr_schedule])\n",
        "\n",
        "  # define loss and optimizer\n",
        "model.compile(loss='binary_crossentropy', optimizer='adam', metrics=['accuracy',  F1Score()])\n",
        "model.summary()\n",
        "model.fit(training_features,training_target,epochs=10, verbose=1,batch_size=512)"
      ],
      "execution_count": null,
      "outputs": []
    },
    {
      "cell_type": "code",
      "metadata": {
        "id": "dVBP3pzNf82I"
      },
      "source": [
        ""
      ],
      "execution_count": null,
      "outputs": []
    },
    {
      "cell_type": "code",
      "metadata": {
        "id": "DpzLK8Off8xS"
      },
      "source": [
        ""
      ],
      "execution_count": null,
      "outputs": []
    },
    {
      "cell_type": "code",
      "metadata": {
        "id": "7bvOI7RXdf7d"
      },
      "source": [
        ""
      ],
      "execution_count": null,
      "outputs": []
    },
    {
      "cell_type": "code",
      "metadata": {
        "colab": {
          "base_uri": "https://localhost:8080/"
        },
        "id": "TjJlcyyuyXVv",
        "outputId": "9e0cc2fd-0c0f-4ec4-b21f-9c0eb0f74d53"
      },
      "source": [
        "# prepro = MinMaxScaler()\n",
        "# prepro.fit(training_features)\n",
        "# prepro_test = MinMaxScaler()\n",
        "# prepro_test.fit(testing_features)\n",
        "training_features=df_training[[ 'metric1', 'metric2', 'metric3',\n",
        "       'metric4', 'metric5', 'metric6', 'metric7', 'metric8', 'metric9']]\n",
        "training_target=df_training[['FAILURE_TARGET']]\n",
        "testing_features=df_testing[[  'metric1', 'metric2', 'metric3',\n",
        "       'metric4', 'metric5', 'metric6', 'metric7', 'metric8', 'metric9']]\n",
        "testing_target=df_testing[['FAILURE_TARGET']]\n",
        "\n",
        "# Scale each feature to 0-1\n",
        "scaler = MinMaxScaler(feature_range = (0, 1))\n",
        "# Repeat with the scaler\n",
        "scaler.fit(training_features)\n",
        "training_features = scaler.transform(training_features)\n",
        "testing_features = scaler.transform(testing_features)\n",
        "\n",
        "print('Training data shape: ', training_features.shape)\n",
        "print('Testing data shape: ', testing_features.shape)"
      ],
      "execution_count": 75,
      "outputs": [
        {
          "output_type": "stream",
          "text": [
            "Training data shape:  (101231, 9)\n",
            "Testing data shape:  (11738, 9)\n"
          ],
          "name": "stdout"
        }
      ]
    },
    {
      "cell_type": "code",
      "metadata": {
        "colab": {
          "base_uri": "https://localhost:8080/",
          "height": 300
        },
        "id": "fk0wDANUyXJ6",
        "outputId": "d4532ff8-ce58-4abe-81da-8a5ab77d426b"
      },
      "source": [
        "print(training_features.shape)\n",
        "training_features_df = pd.DataFrame(training_features)\n",
        "training_features_df.describe()"
      ],
      "execution_count": 70,
      "outputs": [
        {
          "output_type": "stream",
          "text": [
            "(101231, 9)\n"
          ],
          "name": "stdout"
        },
        {
          "output_type": "execute_result",
          "data": {
            "text/html": [
              "<div>\n",
              "<style scoped>\n",
              "    .dataframe tbody tr th:only-of-type {\n",
              "        vertical-align: middle;\n",
              "    }\n",
              "\n",
              "    .dataframe tbody tr th {\n",
              "        vertical-align: top;\n",
              "    }\n",
              "\n",
              "    .dataframe thead th {\n",
              "        text-align: right;\n",
              "    }\n",
              "</style>\n",
              "<table border=\"1\" class=\"dataframe\">\n",
              "  <thead>\n",
              "    <tr style=\"text-align: right;\">\n",
              "      <th></th>\n",
              "      <th>0</th>\n",
              "      <th>1</th>\n",
              "      <th>2</th>\n",
              "      <th>3</th>\n",
              "      <th>4</th>\n",
              "      <th>5</th>\n",
              "      <th>6</th>\n",
              "      <th>7</th>\n",
              "      <th>8</th>\n",
              "    </tr>\n",
              "  </thead>\n",
              "  <tbody>\n",
              "    <tr>\n",
              "      <th>count</th>\n",
              "      <td>101231.000000</td>\n",
              "      <td>101231.000000</td>\n",
              "      <td>101231.000000</td>\n",
              "      <td>101231.000000</td>\n",
              "      <td>101231.000000</td>\n",
              "      <td>101231.000000</td>\n",
              "      <td>101231.000000</td>\n",
              "      <td>101231.000000</td>\n",
              "      <td>101231.000000</td>\n",
              "    </tr>\n",
              "    <tr>\n",
              "      <th>mean</th>\n",
              "      <td>0.501020</td>\n",
              "      <td>0.002599</td>\n",
              "      <td>0.000339</td>\n",
              "      <td>0.001218</td>\n",
              "      <td>0.142590</td>\n",
              "      <td>0.377937</td>\n",
              "      <td>0.000440</td>\n",
              "      <td>0.000440</td>\n",
              "      <td>0.000775</td>\n",
              "    </tr>\n",
              "    <tr>\n",
              "      <th>std</th>\n",
              "      <td>0.288779</td>\n",
              "      <td>0.034319</td>\n",
              "      <td>0.007836</td>\n",
              "      <td>0.015231</td>\n",
              "      <td>0.173484</td>\n",
              "      <td>0.144497</td>\n",
              "      <td>0.009878</td>\n",
              "      <td>0.009878</td>\n",
              "      <td>0.011341</td>\n",
              "    </tr>\n",
              "    <tr>\n",
              "      <th>min</th>\n",
              "      <td>0.000000</td>\n",
              "      <td>0.000000</td>\n",
              "      <td>0.000000</td>\n",
              "      <td>0.000000</td>\n",
              "      <td>0.000000</td>\n",
              "      <td>0.000000</td>\n",
              "      <td>0.000000</td>\n",
              "      <td>0.000000</td>\n",
              "      <td>0.000000</td>\n",
              "    </tr>\n",
              "    <tr>\n",
              "      <th>25%</th>\n",
              "      <td>0.250530</td>\n",
              "      <td>0.000000</td>\n",
              "      <td>0.000000</td>\n",
              "      <td>0.000000</td>\n",
              "      <td>0.074468</td>\n",
              "      <td>0.321222</td>\n",
              "      <td>0.000000</td>\n",
              "      <td>0.000000</td>\n",
              "      <td>0.000000</td>\n",
              "    </tr>\n",
              "    <tr>\n",
              "      <th>50%</th>\n",
              "      <td>0.502497</td>\n",
              "      <td>0.000000</td>\n",
              "      <td>0.000000</td>\n",
              "      <td>0.000000</td>\n",
              "      <td>0.095745</td>\n",
              "      <td>0.362522</td>\n",
              "      <td>0.000000</td>\n",
              "      <td>0.000000</td>\n",
              "      <td>0.000000</td>\n",
              "    </tr>\n",
              "    <tr>\n",
              "      <th>75%</th>\n",
              "      <td>0.750920</td>\n",
              "      <td>0.000000</td>\n",
              "      <td>0.000000</td>\n",
              "      <td>0.000000</td>\n",
              "      <td>0.117021</td>\n",
              "      <td>0.450142</td>\n",
              "      <td>0.000000</td>\n",
              "      <td>0.000000</td>\n",
              "      <td>0.000000</td>\n",
              "    </tr>\n",
              "    <tr>\n",
              "      <th>max</th>\n",
              "      <td>1.000000</td>\n",
              "      <td>1.000000</td>\n",
              "      <td>1.000000</td>\n",
              "      <td>1.000000</td>\n",
              "      <td>1.000000</td>\n",
              "      <td>1.000000</td>\n",
              "      <td>1.000000</td>\n",
              "      <td>1.000000</td>\n",
              "      <td>1.000000</td>\n",
              "    </tr>\n",
              "  </tbody>\n",
              "</table>\n",
              "</div>"
            ],
            "text/plain": [
              "                   0              1  ...              7              8\n",
              "count  101231.000000  101231.000000  ...  101231.000000  101231.000000\n",
              "mean        0.501020       0.002599  ...       0.000440       0.000775\n",
              "std         0.288779       0.034319  ...       0.009878       0.011341\n",
              "min         0.000000       0.000000  ...       0.000000       0.000000\n",
              "25%         0.250530       0.000000  ...       0.000000       0.000000\n",
              "50%         0.502497       0.000000  ...       0.000000       0.000000\n",
              "75%         0.750920       0.000000  ...       0.000000       0.000000\n",
              "max         1.000000       1.000000  ...       1.000000       1.000000\n",
              "\n",
              "[8 rows x 9 columns]"
            ]
          },
          "metadata": {
            "tags": []
          },
          "execution_count": 70
        }
      ]
    },
    {
      "cell_type": "code",
      "metadata": {
        "id": "D89D0WIL7J_X"
      },
      "source": [
        "from tensorflow.keras.models import Model, Sequential\n",
        "from tensorflow.keras.layers import Dense\n",
        "from tensorflow.keras.optimizers import Adam\n",
        "from tensorflow.keras.losses import binary_crossentropy\n",
        "from tensorflow.keras.metrics import Accuracy, BinaryAccuracy\n",
        "from sklearn.metrics import accuracy_score\n",
        "import numpy as np\n",
        "import tensorflow as tf\n",
        "\n",
        "class F1Score(tf.keras.metrics.Metric):\n",
        "  def __init__(self, name='F1Score', **kwargs):\n",
        "    super(F1Score, self).__init__(name=name, **kwargs)\n",
        "    self.f1score = self.add_weight(name='F1Score', initializer='zeros')\n",
        "    self.count = self.add_weight(name='F1ScoreCount', initializer='zeros')\n",
        "\n",
        "  def update_state(self, y_true, y_pred, sample_weight=None):\n",
        "    y_true = tf.cast(y_true, tf.bool)\n",
        "    y_pred = tf.cast(y_pred, tf.bool)\n",
        "\n",
        "    true_positives = tf.logical_and(tf.equal(y_true, True), tf.equal(y_pred, True))\n",
        "    true_positives = tf.cast(true_positives, self.dtype)\n",
        "    count_true_positives = tf.reduce_sum(true_positives)\n",
        "\n",
        "    possible_positives = tf.cast(y_true, self.dtype)\n",
        "    count_possible_positives = tf.reduce_sum(possible_positives)\n",
        "\n",
        "    predicted_positives = tf.cast(y_pred, self.dtype)\n",
        "    count_predicted_positives = tf.reduce_sum(predicted_positives)\n",
        "\n",
        "    precision = count_true_positives / (count_predicted_positives + tf.keras.backend.epsilon())\n",
        "    recall = count_true_positives / (count_possible_positives + tf.keras.backend.epsilon())\n",
        "    f1_cal = 2*(precision*recall)/(precision + recall + tf.keras.backend.epsilon())\n",
        "\n",
        "    self.count.assign_add(1)\n",
        "    a = 1.0 / self.count\n",
        "    b = 1.0 - a\n",
        "    self.f1score.assign(a*f1_cal+b*self.f1score)\n",
        "\n",
        "  def result(self):\n",
        "    return self.f1score"
      ],
      "execution_count": 71,
      "outputs": []
    },
    {
      "cell_type": "code",
      "metadata": {
        "colab": {
          "base_uri": "https://localhost:8080/"
        },
        "id": "ySbNG1TvB8n0",
        "outputId": "71662c34-7c2b-4e9d-b43c-fc84746d0d69"
      },
      "source": [
        "training_features.shape[1]"
      ],
      "execution_count": 61,
      "outputs": [
        {
          "output_type": "execute_result",
          "data": {
            "text/plain": [
              "54"
            ]
          },
          "metadata": {
            "tags": []
          },
          "execution_count": 61
        }
      ]
    },
    {
      "cell_type": "code",
      "metadata": {
        "colab": {
          "base_uri": "https://localhost:8080/"
        },
        "id": "crIq0q9L5XgY",
        "outputId": "c1b1c81a-48e1-4e69-afd7-c608b862ec68"
      },
      "source": [
        "n_inputs=training_features.shape[1]\n",
        "model = tf.keras.models.Sequential([\n",
        "  tf.keras.layers.Flatten(input_dim=n_inputs),\n",
        "  tf.keras.layers.Dense(128, activation='relu'),  \n",
        "  tf.keras.layers.Dense(256, activation='relu'),\n",
        "  tf.keras.layers.Dense(1, activation='sigmoid')\n",
        "])\n",
        "  # define loss and optimizer\n",
        "model.compile(loss='binary_crossentropy', optimizer='adam', metrics=['accuracy',  F1Score()])\n",
        "model.summary()\n",
        "model.fit(training_features,training_target,epochs=10, verbose=1,batch_size=512)"
      ],
      "execution_count": 80,
      "outputs": [
        {
          "output_type": "stream",
          "text": [
            "Model: \"sequential_7\"\n",
            "_________________________________________________________________\n",
            "Layer (type)                 Output Shape              Param #   \n",
            "=================================================================\n",
            "flatten_7 (Flatten)          (None, 9)                 0         \n",
            "_________________________________________________________________\n",
            "dense_19 (Dense)             (None, 128)               1280      \n",
            "_________________________________________________________________\n",
            "dense_20 (Dense)             (None, 256)               33024     \n",
            "_________________________________________________________________\n",
            "dense_21 (Dense)             (None, 1)                 257       \n",
            "=================================================================\n",
            "Total params: 34,561\n",
            "Trainable params: 34,561\n",
            "Non-trainable params: 0\n",
            "_________________________________________________________________\n",
            "Epoch 1/10\n",
            "198/198 [==============================] - 2s 6ms/step - loss: 0.2268 - accuracy: 0.9782 - F1Score: 0.0418\n",
            "Epoch 2/10\n",
            "198/198 [==============================] - 1s 6ms/step - loss: 0.0995 - accuracy: 0.9783 - F1Score: 0.0422\n",
            "Epoch 3/10\n",
            "198/198 [==============================] - 1s 6ms/step - loss: 0.0986 - accuracy: 0.9775 - F1Score: 0.0435\n",
            "Epoch 4/10\n",
            "198/198 [==============================] - 1s 6ms/step - loss: 0.0936 - accuracy: 0.9784 - F1Score: 0.0424\n",
            "Epoch 5/10\n",
            "198/198 [==============================] - 1s 6ms/step - loss: 0.0925 - accuracy: 0.9788 - F1Score: 0.0419\n",
            "Epoch 6/10\n",
            "198/198 [==============================] - 1s 6ms/step - loss: 0.0891 - accuracy: 0.9794 - F1Score: 0.0412\n",
            "Epoch 7/10\n",
            "198/198 [==============================] - 1s 6ms/step - loss: 0.0915 - accuracy: 0.9784 - F1Score: 0.0425\n",
            "Epoch 8/10\n",
            "198/198 [==============================] - 1s 6ms/step - loss: 0.0863 - accuracy: 0.9795 - F1Score: 0.0407\n",
            "Epoch 9/10\n",
            "198/198 [==============================] - 1s 6ms/step - loss: 0.0870 - accuracy: 0.9796 - F1Score: 0.0412\n",
            "Epoch 10/10\n",
            "198/198 [==============================] - 1s 6ms/step - loss: 0.0880 - accuracy: 0.9793 - F1Score: 0.0419\n"
          ],
          "name": "stdout"
        },
        {
          "output_type": "execute_result",
          "data": {
            "text/plain": [
              "<tensorflow.python.keras.callbacks.History at 0x7fb9f8d66c50>"
            ]
          },
          "metadata": {
            "tags": []
          },
          "execution_count": 80
        }
      ]
    },
    {
      "cell_type": "code",
      "metadata": {
        "colab": {
          "base_uri": "https://localhost:8080/"
        },
        "id": "FRDyqJzS6N66",
        "outputId": "6b0331b3-3451-4279-af65-fc630cf249c9"
      },
      "source": [
        "from sklearn.metrics import roc_auc_score\n",
        "y_pred1=model.predict(testing_features)\n",
        "\n",
        "print(roc_auc_score(testing_target,y_pred1))"
      ],
      "execution_count": 79,
      "outputs": [
        {
          "output_type": "stream",
          "text": [
            "0.4775477491577896\n"
          ],
          "name": "stdout"
        }
      ]
    },
    {
      "cell_type": "code",
      "metadata": {
        "colab": {
          "base_uri": "https://localhost:8080/"
        },
        "id": "YITpsFm0u2yc",
        "outputId": "9ca655e5-adbf-4cf4-9af1-b543578aa89e"
      },
      "source": [
        "# define model\n",
        "model = Sequential()\n",
        "# define first hidden layer and visible layer\n",
        "model.add(Dense(128, input_dim=n_inputs, activation='relu'))\n",
        "model.add(Dense(256,  activation='relu'))\n",
        "# define output layer\n",
        "model.add(Dense(1, activation='sigmoid'))\n",
        "# define loss and optimizer\n",
        "model.compile(loss='binary_crossentropy', optimizer='adam')\n",
        "model.summary()\n",
        "model.fit(training_features,training_target,epochs=10,batch_size=256)\n"
      ],
      "execution_count": 101,
      "outputs": [
        {
          "output_type": "stream",
          "text": [
            "Model: \"sequential_15\"\n",
            "_________________________________________________________________\n",
            "Layer (type)                 Output Shape              Param #   \n",
            "=================================================================\n",
            "dense_34 (Dense)             (None, 128)               7168      \n",
            "_________________________________________________________________\n",
            "dense_35 (Dense)             (None, 256)               33024     \n",
            "_________________________________________________________________\n",
            "dense_36 (Dense)             (None, 1)                 257       \n",
            "=================================================================\n",
            "Total params: 40,449\n",
            "Trainable params: 40,449\n",
            "Non-trainable params: 0\n",
            "_________________________________________________________________\n",
            "Epoch 1/10\n",
            "396/396 [==============================] - 2s 4ms/step - loss: 0.1567\n",
            "Epoch 2/10\n",
            "396/396 [==============================] - 2s 4ms/step - loss: 0.0827\n",
            "Epoch 3/10\n",
            "396/396 [==============================] - 2s 4ms/step - loss: 0.0827\n",
            "Epoch 4/10\n",
            "396/396 [==============================] - 2s 4ms/step - loss: 0.0815\n",
            "Epoch 5/10\n",
            "396/396 [==============================] - 2s 4ms/step - loss: 0.0783\n",
            "Epoch 6/10\n",
            "396/396 [==============================] - 2s 4ms/step - loss: 0.0792\n",
            "Epoch 7/10\n",
            "396/396 [==============================] - 2s 5ms/step - loss: 0.0739\n",
            "Epoch 8/10\n",
            "396/396 [==============================] - 2s 4ms/step - loss: 0.0743\n",
            "Epoch 9/10\n",
            "396/396 [==============================] - 2s 5ms/step - loss: 0.0719\n",
            "Epoch 10/10\n",
            "396/396 [==============================] - 2s 5ms/step - loss: 0.0713\n"
          ],
          "name": "stdout"
        },
        {
          "output_type": "execute_result",
          "data": {
            "text/plain": [
              "<tensorflow.python.keras.callbacks.History at 0x7fdbfa0baad0>"
            ]
          },
          "metadata": {
            "tags": []
          },
          "execution_count": 101
        }
      ]
    },
    {
      "cell_type": "code",
      "metadata": {
        "id": "s7Srf2blv7Nh"
      },
      "source": [
        ""
      ],
      "execution_count": 51,
      "outputs": []
    },
    {
      "cell_type": "code",
      "metadata": {
        "colab": {
          "base_uri": "https://localhost:8080/",
          "height": 352
        },
        "id": "AryV4c4bu2u1",
        "outputId": "6096eba9-66d7-4630-9ab6-5ee229e280db"
      },
      "source": [
        "from sklearn.metrics import roc_auc_score\n",
        "#testing_target = pd.DataFrame(testing_target)\n",
        "y_pred1=model.predict(testing_features)\n",
        "print(y_pred1.shape)\n",
        "print(testing_target.shape)\n",
        "print(roc_auc_score(testing_target,y_pred1))\n",
        "\n",
        "# Evaluating confusion matric\n",
        "res = tf.math.confusion_matrix(testing_target,y_pred1,num_classes=2, dtype=tf.dtypes.int32,)\n",
        "  \n",
        "# Printing the result\n",
        "print('Confusion_matrix: ',res)"
      ],
      "execution_count": 102,
      "outputs": [
        {
          "output_type": "stream",
          "text": [
            "(11738, 1)\n",
            "(11738, 1)\n",
            "0.5\n"
          ],
          "name": "stdout"
        },
        {
          "output_type": "error",
          "ename": "InvalidArgumentError",
          "evalue": "ignored",
          "traceback": [
            "\u001b[0;31m---------------------------------------------------------------------------\u001b[0m",
            "\u001b[0;31mInvalidArgumentError\u001b[0m                      Traceback (most recent call last)",
            "\u001b[0;32m<ipython-input-102-d60b8cfc87e5>\u001b[0m in \u001b[0;36m<module>\u001b[0;34m()\u001b[0m\n\u001b[1;32m      7\u001b[0m \u001b[0;34m\u001b[0m\u001b[0m\n\u001b[1;32m      8\u001b[0m \u001b[0;31m# Evaluating confusion matric\u001b[0m\u001b[0;34m\u001b[0m\u001b[0;34m\u001b[0m\u001b[0;34m\u001b[0m\u001b[0m\n\u001b[0;32m----> 9\u001b[0;31m \u001b[0mres\u001b[0m \u001b[0;34m=\u001b[0m \u001b[0mtf\u001b[0m\u001b[0;34m.\u001b[0m\u001b[0mmath\u001b[0m\u001b[0;34m.\u001b[0m\u001b[0mconfusion_matrix\u001b[0m\u001b[0;34m(\u001b[0m\u001b[0mtesting_target\u001b[0m\u001b[0;34m,\u001b[0m\u001b[0my_pred1\u001b[0m\u001b[0;34m,\u001b[0m\u001b[0mnum_classes\u001b[0m\u001b[0;34m=\u001b[0m\u001b[0;36m2\u001b[0m\u001b[0;34m,\u001b[0m \u001b[0mdtype\u001b[0m\u001b[0;34m=\u001b[0m\u001b[0mtf\u001b[0m\u001b[0;34m.\u001b[0m\u001b[0mdtypes\u001b[0m\u001b[0;34m.\u001b[0m\u001b[0mint32\u001b[0m\u001b[0;34m,\u001b[0m\u001b[0;34m)\u001b[0m\u001b[0;34m\u001b[0m\u001b[0;34m\u001b[0m\u001b[0m\n\u001b[0m\u001b[1;32m     10\u001b[0m \u001b[0;34m\u001b[0m\u001b[0m\n\u001b[1;32m     11\u001b[0m \u001b[0;31m# Printing the result\u001b[0m\u001b[0;34m\u001b[0m\u001b[0;34m\u001b[0m\u001b[0;34m\u001b[0m\u001b[0m\n",
            "\u001b[0;32m/usr/local/lib/python3.7/dist-packages/tensorflow/python/util/dispatch.py\u001b[0m in \u001b[0;36mwrapper\u001b[0;34m(*args, **kwargs)\u001b[0m\n\u001b[1;32m    199\u001b[0m     \u001b[0;34m\"\"\"Call target, and fall back on dispatchers if there is a TypeError.\"\"\"\u001b[0m\u001b[0;34m\u001b[0m\u001b[0;34m\u001b[0m\u001b[0m\n\u001b[1;32m    200\u001b[0m     \u001b[0;32mtry\u001b[0m\u001b[0;34m:\u001b[0m\u001b[0;34m\u001b[0m\u001b[0;34m\u001b[0m\u001b[0m\n\u001b[0;32m--> 201\u001b[0;31m       \u001b[0;32mreturn\u001b[0m \u001b[0mtarget\u001b[0m\u001b[0;34m(\u001b[0m\u001b[0;34m*\u001b[0m\u001b[0margs\u001b[0m\u001b[0;34m,\u001b[0m \u001b[0;34m**\u001b[0m\u001b[0mkwargs\u001b[0m\u001b[0;34m)\u001b[0m\u001b[0;34m\u001b[0m\u001b[0;34m\u001b[0m\u001b[0m\n\u001b[0m\u001b[1;32m    202\u001b[0m     \u001b[0;32mexcept\u001b[0m \u001b[0;34m(\u001b[0m\u001b[0mTypeError\u001b[0m\u001b[0;34m,\u001b[0m \u001b[0mValueError\u001b[0m\u001b[0;34m)\u001b[0m\u001b[0;34m:\u001b[0m\u001b[0;34m\u001b[0m\u001b[0;34m\u001b[0m\u001b[0m\n\u001b[1;32m    203\u001b[0m       \u001b[0;31m# Note: convert_to_eager_tensor currently raises a ValueError, not a\u001b[0m\u001b[0;34m\u001b[0m\u001b[0;34m\u001b[0m\u001b[0;34m\u001b[0m\u001b[0m\n",
            "\u001b[0;32m/usr/local/lib/python3.7/dist-packages/tensorflow/python/ops/confusion_matrix.py\u001b[0m in \u001b[0;36mconfusion_matrix\u001b[0;34m(labels, predictions, num_classes, weights, dtype, name)\u001b[0m\n\u001b[1;32m    196\u001b[0m         \u001b[0mindices\u001b[0m\u001b[0;34m=\u001b[0m\u001b[0mindices\u001b[0m\u001b[0;34m,\u001b[0m\u001b[0;34m\u001b[0m\u001b[0;34m\u001b[0m\u001b[0m\n\u001b[1;32m    197\u001b[0m         \u001b[0mupdates\u001b[0m\u001b[0;34m=\u001b[0m\u001b[0mvalues\u001b[0m\u001b[0;34m,\u001b[0m\u001b[0;34m\u001b[0m\u001b[0;34m\u001b[0m\u001b[0m\n\u001b[0;32m--> 198\u001b[0;31m         shape=math_ops.cast(shape, dtypes.int64))\n\u001b[0m\u001b[1;32m    199\u001b[0m \u001b[0;34m\u001b[0m\u001b[0m\n\u001b[1;32m    200\u001b[0m \u001b[0;34m\u001b[0m\u001b[0m\n",
            "\u001b[0;32m/usr/local/lib/python3.7/dist-packages/tensorflow/python/ops/gen_array_ops.py\u001b[0m in \u001b[0;36mscatter_nd\u001b[0;34m(indices, updates, shape, name)\u001b[0m\n\u001b[1;32m   8975\u001b[0m       \u001b[0;32mreturn\u001b[0m \u001b[0m_result\u001b[0m\u001b[0;34m\u001b[0m\u001b[0;34m\u001b[0m\u001b[0m\n\u001b[1;32m   8976\u001b[0m     \u001b[0;32mexcept\u001b[0m \u001b[0m_core\u001b[0m\u001b[0;34m.\u001b[0m\u001b[0m_NotOkStatusException\u001b[0m \u001b[0;32mas\u001b[0m \u001b[0me\u001b[0m\u001b[0;34m:\u001b[0m\u001b[0;34m\u001b[0m\u001b[0;34m\u001b[0m\u001b[0m\n\u001b[0;32m-> 8977\u001b[0;31m       \u001b[0m_ops\u001b[0m\u001b[0;34m.\u001b[0m\u001b[0mraise_from_not_ok_status\u001b[0m\u001b[0;34m(\u001b[0m\u001b[0me\u001b[0m\u001b[0;34m,\u001b[0m \u001b[0mname\u001b[0m\u001b[0;34m)\u001b[0m\u001b[0;34m\u001b[0m\u001b[0;34m\u001b[0m\u001b[0m\n\u001b[0m\u001b[1;32m   8978\u001b[0m     \u001b[0;32mexcept\u001b[0m \u001b[0m_core\u001b[0m\u001b[0;34m.\u001b[0m\u001b[0m_FallbackException\u001b[0m\u001b[0;34m:\u001b[0m\u001b[0;34m\u001b[0m\u001b[0;34m\u001b[0m\u001b[0m\n\u001b[1;32m   8979\u001b[0m       \u001b[0;32mpass\u001b[0m\u001b[0;34m\u001b[0m\u001b[0;34m\u001b[0m\u001b[0m\n",
            "\u001b[0;32m/usr/local/lib/python3.7/dist-packages/tensorflow/python/framework/ops.py\u001b[0m in \u001b[0;36mraise_from_not_ok_status\u001b[0;34m(e, name)\u001b[0m\n\u001b[1;32m   6860\u001b[0m   \u001b[0mmessage\u001b[0m \u001b[0;34m=\u001b[0m \u001b[0me\u001b[0m\u001b[0;34m.\u001b[0m\u001b[0mmessage\u001b[0m \u001b[0;34m+\u001b[0m \u001b[0;34m(\u001b[0m\u001b[0;34m\" name: \"\u001b[0m \u001b[0;34m+\u001b[0m \u001b[0mname\u001b[0m \u001b[0;32mif\u001b[0m \u001b[0mname\u001b[0m \u001b[0;32mis\u001b[0m \u001b[0;32mnot\u001b[0m \u001b[0;32mNone\u001b[0m \u001b[0;32melse\u001b[0m \u001b[0;34m\"\"\u001b[0m\u001b[0;34m)\u001b[0m\u001b[0;34m\u001b[0m\u001b[0;34m\u001b[0m\u001b[0m\n\u001b[1;32m   6861\u001b[0m   \u001b[0;31m# pylint: disable=protected-access\u001b[0m\u001b[0;34m\u001b[0m\u001b[0;34m\u001b[0m\u001b[0;34m\u001b[0m\u001b[0m\n\u001b[0;32m-> 6862\u001b[0;31m   \u001b[0msix\u001b[0m\u001b[0;34m.\u001b[0m\u001b[0mraise_from\u001b[0m\u001b[0;34m(\u001b[0m\u001b[0mcore\u001b[0m\u001b[0;34m.\u001b[0m\u001b[0m_status_to_exception\u001b[0m\u001b[0;34m(\u001b[0m\u001b[0me\u001b[0m\u001b[0;34m.\u001b[0m\u001b[0mcode\u001b[0m\u001b[0;34m,\u001b[0m \u001b[0mmessage\u001b[0m\u001b[0;34m)\u001b[0m\u001b[0;34m,\u001b[0m \u001b[0;32mNone\u001b[0m\u001b[0;34m)\u001b[0m\u001b[0;34m\u001b[0m\u001b[0;34m\u001b[0m\u001b[0m\n\u001b[0m\u001b[1;32m   6863\u001b[0m   \u001b[0;31m# pylint: enable=protected-access\u001b[0m\u001b[0;34m\u001b[0m\u001b[0;34m\u001b[0m\u001b[0;34m\u001b[0m\u001b[0m\n\u001b[1;32m   6864\u001b[0m \u001b[0;34m\u001b[0m\u001b[0m\n",
            "\u001b[0;32m/usr/local/lib/python3.7/dist-packages/six.py\u001b[0m in \u001b[0;36mraise_from\u001b[0;34m(value, from_value)\u001b[0m\n",
            "\u001b[0;31mInvalidArgumentError\u001b[0m: Dimensions [0,2) of indices[shape=[11738,2,1]] must match dimensions [0,2) of updates[shape=[11738,1]] [Op:ScatterNd]"
          ]
        }
      ]
    },
    {
      "cell_type": "code",
      "metadata": {
        "id": "SjTLICrEu2sJ"
      },
      "source": [
        "weights_assigned={0:1,1:45}"
      ],
      "execution_count": 53,
      "outputs": []
    },
    {
      "cell_type": "code",
      "metadata": {
        "colab": {
          "base_uri": "https://localhost:8080/"
        },
        "id": "qTS6f7qUu2oW",
        "outputId": "224ce54e-39ec-4372-8b78-855850e01109"
      },
      "source": [
        "# define model\n",
        "model = Sequential()\n",
        "# define first hidden layer and visible layer\n",
        "model.add(Dense(100, input_dim=n_inputs, activation='relu', kernel_initializer='he_uniform'))\n",
        "# define output layer\n",
        "model.add(Dense(1, activation='sigmoid'))\n",
        "# define loss and optimizer\n",
        "model.compile(loss='binary_crossentropy', optimizer='adam', metrics=['accuracy',  F1Score()])\n",
        "model.fit(training_features,training_target,class_weight=weights_assigned,epochs=10, verbose=1,batch_size=512)"
      ],
      "execution_count": 87,
      "outputs": [
        {
          "output_type": "stream",
          "text": [
            "Epoch 1/10\n",
            "198/198 [==============================] - 1s 3ms/step - loss: 1.3435 - accuracy: 0.4786 - F1Score: 0.0441\n",
            "Epoch 2/10\n",
            "198/198 [==============================] - 1s 3ms/step - loss: 1.1908 - accuracy: 0.8020 - F1Score: 0.0416\n",
            "Epoch 3/10\n",
            "198/198 [==============================] - 1s 3ms/step - loss: 1.1368 - accuracy: 0.8596 - F1Score: 0.0430\n",
            "Epoch 4/10\n",
            "198/198 [==============================] - 1s 3ms/step - loss: 1.0892 - accuracy: 0.8799 - F1Score: 0.0420\n",
            "Epoch 5/10\n",
            "198/198 [==============================] - 1s 3ms/step - loss: 1.0691 - accuracy: 0.8720 - F1Score: 0.0423\n",
            "Epoch 6/10\n",
            "198/198 [==============================] - 1s 3ms/step - loss: 1.0685 - accuracy: 0.8752 - F1Score: 0.0433\n",
            "Epoch 7/10\n",
            "198/198 [==============================] - 1s 3ms/step - loss: 1.0516 - accuracy: 0.8764 - F1Score: 0.0429\n",
            "Epoch 8/10\n",
            "198/198 [==============================] - 1s 3ms/step - loss: 1.0416 - accuracy: 0.8741 - F1Score: 0.0428\n",
            "Epoch 9/10\n",
            "198/198 [==============================] - 1s 3ms/step - loss: 1.0479 - accuracy: 0.8596 - F1Score: 0.0429\n",
            "Epoch 10/10\n",
            "198/198 [==============================] - 1s 3ms/step - loss: 1.0119 - accuracy: 0.8767 - F1Score: 0.0408\n"
          ],
          "name": "stdout"
        },
        {
          "output_type": "execute_result",
          "data": {
            "text/plain": [
              "<tensorflow.python.keras.callbacks.History at 0x7fdbf3563450>"
            ]
          },
          "metadata": {
            "tags": []
          },
          "execution_count": 87
        }
      ]
    },
    {
      "cell_type": "code",
      "metadata": {
        "colab": {
          "base_uri": "https://localhost:8080/"
        },
        "id": "Hz39mZtxu2kZ",
        "outputId": "48ef2305-bb3b-4f84-bf0f-79cfac094ba7"
      },
      "source": [
        "from sklearn.metrics import roc_auc_score\n",
        "y_pred1=model.predict(testing_features)\n",
        "\n",
        "print(roc_auc_score(testing_target,y_pred1))"
      ],
      "execution_count": 88,
      "outputs": [
        {
          "output_type": "stream",
          "text": [
            "0.7867141341713926\n"
          ],
          "name": "stdout"
        }
      ]
    },
    {
      "cell_type": "code",
      "metadata": {
        "colab": {
          "base_uri": "https://localhost:8080/",
          "height": 298
        },
        "id": "MuDE1JghZfZ3",
        "outputId": "94fbe227-6b50-48b3-94ec-11e6d6351b67"
      },
      "source": [
        "df_training.head()"
      ],
      "execution_count": 58,
      "outputs": [
        {
          "output_type": "execute_result",
          "data": {
            "text/html": [
              "<div>\n",
              "<style scoped>\n",
              "    .dataframe tbody tr th:only-of-type {\n",
              "        vertical-align: middle;\n",
              "    }\n",
              "\n",
              "    .dataframe tbody tr th {\n",
              "        vertical-align: top;\n",
              "    }\n",
              "\n",
              "    .dataframe thead th {\n",
              "        text-align: right;\n",
              "    }\n",
              "</style>\n",
              "<table border=\"1\" class=\"dataframe\">\n",
              "  <thead>\n",
              "    <tr style=\"text-align: right;\">\n",
              "      <th></th>\n",
              "      <th>index</th>\n",
              "      <th>date</th>\n",
              "      <th>device</th>\n",
              "      <th>failure</th>\n",
              "      <th>metric1</th>\n",
              "      <th>metric2</th>\n",
              "      <th>metric3</th>\n",
              "      <th>metric4</th>\n",
              "      <th>metric5</th>\n",
              "      <th>metric6</th>\n",
              "      <th>metric7</th>\n",
              "      <th>metric8</th>\n",
              "      <th>metric9</th>\n",
              "      <th>TIME_SINCE_START</th>\n",
              "      <th>too_soon</th>\n",
              "      <th>metric1_mean</th>\n",
              "      <th>metric1_median</th>\n",
              "      <th>metric1_max</th>\n",
              "      <th>metric1_min</th>\n",
              "      <th>metric2_mean</th>\n",
              "      <th>metric2_median</th>\n",
              "      <th>metric2_max</th>\n",
              "      <th>metric2_min</th>\n",
              "      <th>metric3_mean</th>\n",
              "      <th>metric3_median</th>\n",
              "      <th>metric3_max</th>\n",
              "      <th>metric3_min</th>\n",
              "      <th>metric4_mean</th>\n",
              "      <th>metric4_median</th>\n",
              "      <th>metric4_max</th>\n",
              "      <th>metric4_min</th>\n",
              "      <th>metric5_mean</th>\n",
              "      <th>metric5_median</th>\n",
              "      <th>metric5_max</th>\n",
              "      <th>metric5_min</th>\n",
              "      <th>metric6_mean</th>\n",
              "      <th>metric6_median</th>\n",
              "      <th>metric6_max</th>\n",
              "      <th>metric6_min</th>\n",
              "      <th>metric7_mean</th>\n",
              "      <th>metric7_median</th>\n",
              "      <th>metric7_max</th>\n",
              "      <th>metric7_min</th>\n",
              "      <th>metric8_mean</th>\n",
              "      <th>metric8_median</th>\n",
              "      <th>metric8_max</th>\n",
              "      <th>metric8_min</th>\n",
              "      <th>metric9_mean</th>\n",
              "      <th>metric9_median</th>\n",
              "      <th>metric9_max</th>\n",
              "      <th>metric9_min</th>\n",
              "      <th>metric1_chg</th>\n",
              "      <th>metric2_chg</th>\n",
              "      <th>metric3_chg</th>\n",
              "      <th>metric4_chg</th>\n",
              "      <th>metric5_chg</th>\n",
              "      <th>metric6_chg</th>\n",
              "      <th>metric7_chg</th>\n",
              "      <th>metric8_chg</th>\n",
              "      <th>metric9_chg</th>\n",
              "      <th>FAILURE_DATE</th>\n",
              "      <th>FAILURE_TARGET</th>\n",
              "    </tr>\n",
              "  </thead>\n",
              "  <tbody>\n",
              "    <tr>\n",
              "      <th>0</th>\n",
              "      <td>0</td>\n",
              "      <td>2015-01-01</td>\n",
              "      <td>S1F01085</td>\n",
              "      <td>0</td>\n",
              "      <td>215630672</td>\n",
              "      <td>55</td>\n",
              "      <td>0</td>\n",
              "      <td>52</td>\n",
              "      <td>6</td>\n",
              "      <td>407438</td>\n",
              "      <td>0</td>\n",
              "      <td>0</td>\n",
              "      <td>7</td>\n",
              "      <td>0.0</td>\n",
              "      <td>1</td>\n",
              "      <td>215630672.0</td>\n",
              "      <td>215630672.0</td>\n",
              "      <td>215630672.0</td>\n",
              "      <td>215630672.0</td>\n",
              "      <td>55.0</td>\n",
              "      <td>55.0</td>\n",
              "      <td>55.0</td>\n",
              "      <td>55.0</td>\n",
              "      <td>0.0</td>\n",
              "      <td>0.0</td>\n",
              "      <td>0.0</td>\n",
              "      <td>0.0</td>\n",
              "      <td>52.0</td>\n",
              "      <td>52.0</td>\n",
              "      <td>52.0</td>\n",
              "      <td>52.0</td>\n",
              "      <td>6.0</td>\n",
              "      <td>6.0</td>\n",
              "      <td>6.0</td>\n",
              "      <td>6.0</td>\n",
              "      <td>407438.0</td>\n",
              "      <td>407438.0</td>\n",
              "      <td>407438.0</td>\n",
              "      <td>407438.0</td>\n",
              "      <td>0.0</td>\n",
              "      <td>0.0</td>\n",
              "      <td>0.0</td>\n",
              "      <td>0.0</td>\n",
              "      <td>0.0</td>\n",
              "      <td>0.0</td>\n",
              "      <td>0.0</td>\n",
              "      <td>0.0</td>\n",
              "      <td>7.0</td>\n",
              "      <td>7.0</td>\n",
              "      <td>7.0</td>\n",
              "      <td>7.0</td>\n",
              "      <td>1.0</td>\n",
              "      <td>1.0</td>\n",
              "      <td>0.0</td>\n",
              "      <td>1.0</td>\n",
              "      <td>1.0</td>\n",
              "      <td>1.0</td>\n",
              "      <td>0.0</td>\n",
              "      <td>0.0</td>\n",
              "      <td>1.0</td>\n",
              "      <td>NaT</td>\n",
              "      <td>0</td>\n",
              "    </tr>\n",
              "    <tr>\n",
              "      <th>1</th>\n",
              "      <td>1</td>\n",
              "      <td>2015-01-02</td>\n",
              "      <td>S1F01085</td>\n",
              "      <td>0</td>\n",
              "      <td>1650864</td>\n",
              "      <td>56</td>\n",
              "      <td>0</td>\n",
              "      <td>52</td>\n",
              "      <td>6</td>\n",
              "      <td>407438</td>\n",
              "      <td>0</td>\n",
              "      <td>0</td>\n",
              "      <td>7</td>\n",
              "      <td>1.0</td>\n",
              "      <td>1</td>\n",
              "      <td>1650864.0</td>\n",
              "      <td>1650864.0</td>\n",
              "      <td>1650864.0</td>\n",
              "      <td>1650864.0</td>\n",
              "      <td>56.0</td>\n",
              "      <td>56.0</td>\n",
              "      <td>56.0</td>\n",
              "      <td>56.0</td>\n",
              "      <td>0.0</td>\n",
              "      <td>0.0</td>\n",
              "      <td>0.0</td>\n",
              "      <td>0.0</td>\n",
              "      <td>52.0</td>\n",
              "      <td>52.0</td>\n",
              "      <td>52.0</td>\n",
              "      <td>52.0</td>\n",
              "      <td>6.0</td>\n",
              "      <td>6.0</td>\n",
              "      <td>6.0</td>\n",
              "      <td>6.0</td>\n",
              "      <td>407438.0</td>\n",
              "      <td>407438.0</td>\n",
              "      <td>407438.0</td>\n",
              "      <td>407438.0</td>\n",
              "      <td>0.0</td>\n",
              "      <td>0.0</td>\n",
              "      <td>0.0</td>\n",
              "      <td>0.0</td>\n",
              "      <td>0.0</td>\n",
              "      <td>0.0</td>\n",
              "      <td>0.0</td>\n",
              "      <td>0.0</td>\n",
              "      <td>7.0</td>\n",
              "      <td>7.0</td>\n",
              "      <td>7.0</td>\n",
              "      <td>7.0</td>\n",
              "      <td>1.0</td>\n",
              "      <td>1.0</td>\n",
              "      <td>0.0</td>\n",
              "      <td>1.0</td>\n",
              "      <td>1.0</td>\n",
              "      <td>1.0</td>\n",
              "      <td>0.0</td>\n",
              "      <td>0.0</td>\n",
              "      <td>1.0</td>\n",
              "      <td>NaT</td>\n",
              "      <td>0</td>\n",
              "    </tr>\n",
              "    <tr>\n",
              "      <th>2</th>\n",
              "      <td>2</td>\n",
              "      <td>2015-01-03</td>\n",
              "      <td>S1F01085</td>\n",
              "      <td>0</td>\n",
              "      <td>124017368</td>\n",
              "      <td>56</td>\n",
              "      <td>0</td>\n",
              "      <td>52</td>\n",
              "      <td>6</td>\n",
              "      <td>407438</td>\n",
              "      <td>0</td>\n",
              "      <td>0</td>\n",
              "      <td>7</td>\n",
              "      <td>2.0</td>\n",
              "      <td>1</td>\n",
              "      <td>124017368.0</td>\n",
              "      <td>124017368.0</td>\n",
              "      <td>124017368.0</td>\n",
              "      <td>124017368.0</td>\n",
              "      <td>56.0</td>\n",
              "      <td>56.0</td>\n",
              "      <td>56.0</td>\n",
              "      <td>56.0</td>\n",
              "      <td>0.0</td>\n",
              "      <td>0.0</td>\n",
              "      <td>0.0</td>\n",
              "      <td>0.0</td>\n",
              "      <td>52.0</td>\n",
              "      <td>52.0</td>\n",
              "      <td>52.0</td>\n",
              "      <td>52.0</td>\n",
              "      <td>6.0</td>\n",
              "      <td>6.0</td>\n",
              "      <td>6.0</td>\n",
              "      <td>6.0</td>\n",
              "      <td>407438.0</td>\n",
              "      <td>407438.0</td>\n",
              "      <td>407438.0</td>\n",
              "      <td>407438.0</td>\n",
              "      <td>0.0</td>\n",
              "      <td>0.0</td>\n",
              "      <td>0.0</td>\n",
              "      <td>0.0</td>\n",
              "      <td>0.0</td>\n",
              "      <td>0.0</td>\n",
              "      <td>0.0</td>\n",
              "      <td>0.0</td>\n",
              "      <td>7.0</td>\n",
              "      <td>7.0</td>\n",
              "      <td>7.0</td>\n",
              "      <td>7.0</td>\n",
              "      <td>1.0</td>\n",
              "      <td>1.0</td>\n",
              "      <td>0.0</td>\n",
              "      <td>1.0</td>\n",
              "      <td>1.0</td>\n",
              "      <td>1.0</td>\n",
              "      <td>0.0</td>\n",
              "      <td>0.0</td>\n",
              "      <td>1.0</td>\n",
              "      <td>NaT</td>\n",
              "      <td>0</td>\n",
              "    </tr>\n",
              "    <tr>\n",
              "      <th>3</th>\n",
              "      <td>3</td>\n",
              "      <td>2015-01-04</td>\n",
              "      <td>S1F01085</td>\n",
              "      <td>0</td>\n",
              "      <td>128073224</td>\n",
              "      <td>56</td>\n",
              "      <td>0</td>\n",
              "      <td>52</td>\n",
              "      <td>6</td>\n",
              "      <td>407439</td>\n",
              "      <td>0</td>\n",
              "      <td>0</td>\n",
              "      <td>7</td>\n",
              "      <td>3.0</td>\n",
              "      <td>1</td>\n",
              "      <td>128073224.0</td>\n",
              "      <td>128073224.0</td>\n",
              "      <td>128073224.0</td>\n",
              "      <td>128073224.0</td>\n",
              "      <td>56.0</td>\n",
              "      <td>56.0</td>\n",
              "      <td>56.0</td>\n",
              "      <td>56.0</td>\n",
              "      <td>0.0</td>\n",
              "      <td>0.0</td>\n",
              "      <td>0.0</td>\n",
              "      <td>0.0</td>\n",
              "      <td>52.0</td>\n",
              "      <td>52.0</td>\n",
              "      <td>52.0</td>\n",
              "      <td>52.0</td>\n",
              "      <td>6.0</td>\n",
              "      <td>6.0</td>\n",
              "      <td>6.0</td>\n",
              "      <td>6.0</td>\n",
              "      <td>407439.0</td>\n",
              "      <td>407439.0</td>\n",
              "      <td>407439.0</td>\n",
              "      <td>407439.0</td>\n",
              "      <td>0.0</td>\n",
              "      <td>0.0</td>\n",
              "      <td>0.0</td>\n",
              "      <td>0.0</td>\n",
              "      <td>0.0</td>\n",
              "      <td>0.0</td>\n",
              "      <td>0.0</td>\n",
              "      <td>0.0</td>\n",
              "      <td>7.0</td>\n",
              "      <td>7.0</td>\n",
              "      <td>7.0</td>\n",
              "      <td>7.0</td>\n",
              "      <td>1.0</td>\n",
              "      <td>1.0</td>\n",
              "      <td>0.0</td>\n",
              "      <td>1.0</td>\n",
              "      <td>1.0</td>\n",
              "      <td>1.0</td>\n",
              "      <td>0.0</td>\n",
              "      <td>0.0</td>\n",
              "      <td>1.0</td>\n",
              "      <td>NaT</td>\n",
              "      <td>0</td>\n",
              "    </tr>\n",
              "    <tr>\n",
              "      <th>4</th>\n",
              "      <td>4</td>\n",
              "      <td>2015-01-05</td>\n",
              "      <td>S1F01085</td>\n",
              "      <td>0</td>\n",
              "      <td>97393448</td>\n",
              "      <td>56</td>\n",
              "      <td>0</td>\n",
              "      <td>52</td>\n",
              "      <td>6</td>\n",
              "      <td>408114</td>\n",
              "      <td>0</td>\n",
              "      <td>0</td>\n",
              "      <td>7</td>\n",
              "      <td>4.0</td>\n",
              "      <td>1</td>\n",
              "      <td>97393448.0</td>\n",
              "      <td>97393448.0</td>\n",
              "      <td>97393448.0</td>\n",
              "      <td>97393448.0</td>\n",
              "      <td>56.0</td>\n",
              "      <td>56.0</td>\n",
              "      <td>56.0</td>\n",
              "      <td>56.0</td>\n",
              "      <td>0.0</td>\n",
              "      <td>0.0</td>\n",
              "      <td>0.0</td>\n",
              "      <td>0.0</td>\n",
              "      <td>52.0</td>\n",
              "      <td>52.0</td>\n",
              "      <td>52.0</td>\n",
              "      <td>52.0</td>\n",
              "      <td>6.0</td>\n",
              "      <td>6.0</td>\n",
              "      <td>6.0</td>\n",
              "      <td>6.0</td>\n",
              "      <td>408114.0</td>\n",
              "      <td>408114.0</td>\n",
              "      <td>408114.0</td>\n",
              "      <td>408114.0</td>\n",
              "      <td>0.0</td>\n",
              "      <td>0.0</td>\n",
              "      <td>0.0</td>\n",
              "      <td>0.0</td>\n",
              "      <td>0.0</td>\n",
              "      <td>0.0</td>\n",
              "      <td>0.0</td>\n",
              "      <td>0.0</td>\n",
              "      <td>7.0</td>\n",
              "      <td>7.0</td>\n",
              "      <td>7.0</td>\n",
              "      <td>7.0</td>\n",
              "      <td>1.0</td>\n",
              "      <td>1.0</td>\n",
              "      <td>0.0</td>\n",
              "      <td>1.0</td>\n",
              "      <td>1.0</td>\n",
              "      <td>1.0</td>\n",
              "      <td>0.0</td>\n",
              "      <td>0.0</td>\n",
              "      <td>1.0</td>\n",
              "      <td>NaT</td>\n",
              "      <td>0</td>\n",
              "    </tr>\n",
              "  </tbody>\n",
              "</table>\n",
              "</div>"
            ],
            "text/plain": [
              "   index       date    device  ...  metric9_chg  FAILURE_DATE  FAILURE_TARGET\n",
              "0      0 2015-01-01  S1F01085  ...          1.0           NaT               0\n",
              "1      1 2015-01-02  S1F01085  ...          1.0           NaT               0\n",
              "2      2 2015-01-03  S1F01085  ...          1.0           NaT               0\n",
              "3      3 2015-01-04  S1F01085  ...          1.0           NaT               0\n",
              "4      4 2015-01-05  S1F01085  ...          1.0           NaT               0\n",
              "\n",
              "[5 rows x 62 columns]"
            ]
          },
          "metadata": {
            "tags": []
          },
          "execution_count": 58
        }
      ]
    },
    {
      "cell_type": "code",
      "metadata": {
        "colab": {
          "base_uri": "https://localhost:8080/"
        },
        "id": "nZm0TjLVbD5r",
        "outputId": "f892b664-0355-4db7-cdb3-9da2637e5c62"
      },
      "source": [
        "#training_features['date'] = pd.to_numeric(pd.to_datetime(training_features['date']))\n",
        "training_features[:5]"
      ],
      "execution_count": 59,
      "outputs": [
        {
          "output_type": "execute_result",
          "data": {
            "text/plain": [
              "array([[0.00000000e+00, 8.83223757e-01, 8.46570619e-04, 0.00000000e+00,\n",
              "        3.12124850e-02, 5.31914894e-02, 5.91203985e-01, 0.00000000e+00,\n",
              "        0.00000000e+00, 3.74311534e-04, 8.83230558e-01, 8.83230558e-01,\n",
              "        8.83223757e-01, 8.83230558e-01, 8.48975056e-04, 8.48975056e-04,\n",
              "        8.46570619e-04, 8.48975056e-04, 0.00000000e+00, 0.00000000e+00,\n",
              "        0.00000000e+00, 0.00000000e+00, 4.84171322e-02, 4.84171322e-02,\n",
              "        3.12124850e-02, 4.84171322e-02, 5.31914894e-02, 5.31914894e-02,\n",
              "        5.31914894e-02, 5.31914894e-02, 5.91203985e-01, 5.91203985e-01,\n",
              "        5.91203985e-01, 5.91203985e-01, 0.00000000e+00, 0.00000000e+00,\n",
              "        0.00000000e+00, 0.00000000e+00, 0.00000000e+00, 0.00000000e+00,\n",
              "        0.00000000e+00, 0.00000000e+00, 3.74311534e-04, 3.74311534e-04,\n",
              "        3.74311534e-04, 3.74311534e-04, 2.05077762e-01, 4.76190476e-02,\n",
              "        0.00000000e+00, 4.76190476e-02, 4.06164892e-01, 3.04181048e-02,\n",
              "        0.00000000e+00, 0.00000000e+00, 4.76190476e-02],\n",
              "       [0.00000000e+00, 6.76194296e-03, 8.61962812e-04, 0.00000000e+00,\n",
              "        3.12124850e-02, 5.31914894e-02, 5.91203985e-01, 0.00000000e+00,\n",
              "        0.00000000e+00, 3.74311534e-04, 6.76199503e-03, 6.76199503e-03,\n",
              "        6.76194296e-03, 6.76199503e-03, 8.64410966e-04, 8.64410966e-04,\n",
              "        8.61962812e-04, 8.64410966e-04, 0.00000000e+00, 0.00000000e+00,\n",
              "        0.00000000e+00, 0.00000000e+00, 4.84171322e-02, 4.84171322e-02,\n",
              "        3.12124850e-02, 4.84171322e-02, 5.31914894e-02, 5.31914894e-02,\n",
              "        5.31914894e-02, 5.31914894e-02, 5.91203985e-01, 5.91203985e-01,\n",
              "        5.91203985e-01, 5.91203985e-01, 0.00000000e+00, 0.00000000e+00,\n",
              "        0.00000000e+00, 0.00000000e+00, 0.00000000e+00, 0.00000000e+00,\n",
              "        0.00000000e+00, 0.00000000e+00, 3.74311534e-04, 3.74311534e-04,\n",
              "        3.74311534e-04, 3.74311534e-04, 2.05077762e-01, 4.76190476e-02,\n",
              "        0.00000000e+00, 4.76190476e-02, 4.06164892e-01, 3.04181048e-02,\n",
              "        0.00000000e+00, 0.00000000e+00, 4.76190476e-02],\n",
              "       [0.00000000e+00, 5.07975441e-01, 8.61962812e-04, 0.00000000e+00,\n",
              "        3.12124850e-02, 5.31914894e-02, 5.91203985e-01, 0.00000000e+00,\n",
              "        0.00000000e+00, 3.74311534e-04, 5.07979353e-01, 5.07979353e-01,\n",
              "        5.07975441e-01, 5.07979353e-01, 8.64410966e-04, 8.64410966e-04,\n",
              "        8.61962812e-04, 8.64410966e-04, 0.00000000e+00, 0.00000000e+00,\n",
              "        0.00000000e+00, 0.00000000e+00, 4.84171322e-02, 4.84171322e-02,\n",
              "        3.12124850e-02, 4.84171322e-02, 5.31914894e-02, 5.31914894e-02,\n",
              "        5.31914894e-02, 5.31914894e-02, 5.91203985e-01, 5.91203985e-01,\n",
              "        5.91203985e-01, 5.91203985e-01, 0.00000000e+00, 0.00000000e+00,\n",
              "        0.00000000e+00, 0.00000000e+00, 0.00000000e+00, 0.00000000e+00,\n",
              "        0.00000000e+00, 0.00000000e+00, 3.74311534e-04, 3.74311534e-04,\n",
              "        3.74311534e-04, 3.74311534e-04, 2.05077762e-01, 4.76190476e-02,\n",
              "        0.00000000e+00, 4.76190476e-02, 4.06164892e-01, 3.04181048e-02,\n",
              "        0.00000000e+00, 0.00000000e+00, 4.76190476e-02],\n",
              "       [0.00000000e+00, 5.24588237e-01, 8.61962812e-04, 0.00000000e+00,\n",
              "        3.12124850e-02, 5.31914894e-02, 5.91205436e-01, 0.00000000e+00,\n",
              "        0.00000000e+00, 3.74311534e-04, 5.24592277e-01, 5.24592277e-01,\n",
              "        5.24588237e-01, 5.24592277e-01, 8.64410966e-04, 8.64410966e-04,\n",
              "        8.61962812e-04, 8.64410966e-04, 0.00000000e+00, 0.00000000e+00,\n",
              "        0.00000000e+00, 0.00000000e+00, 4.84171322e-02, 4.84171322e-02,\n",
              "        3.12124850e-02, 4.84171322e-02, 5.31914894e-02, 5.31914894e-02,\n",
              "        5.31914894e-02, 5.31914894e-02, 5.91205436e-01, 5.91205436e-01,\n",
              "        5.91205436e-01, 5.91205436e-01, 0.00000000e+00, 0.00000000e+00,\n",
              "        0.00000000e+00, 0.00000000e+00, 0.00000000e+00, 0.00000000e+00,\n",
              "        0.00000000e+00, 0.00000000e+00, 3.74311534e-04, 3.74311534e-04,\n",
              "        3.74311534e-04, 3.74311534e-04, 2.05077762e-01, 4.76190476e-02,\n",
              "        0.00000000e+00, 4.76190476e-02, 4.06164892e-01, 3.04181048e-02,\n",
              "        0.00000000e+00, 0.00000000e+00, 4.76190476e-02],\n",
              "       [0.00000000e+00, 3.98923800e-01, 8.61962812e-04, 0.00000000e+00,\n",
              "        3.12124850e-02, 5.31914894e-02, 5.92184899e-01, 0.00000000e+00,\n",
              "        0.00000000e+00, 3.74311534e-04, 3.98926872e-01, 3.98926872e-01,\n",
              "        3.98923800e-01, 3.98926872e-01, 8.64410966e-04, 8.64410966e-04,\n",
              "        8.61962812e-04, 8.64410966e-04, 0.00000000e+00, 0.00000000e+00,\n",
              "        0.00000000e+00, 0.00000000e+00, 4.84171322e-02, 4.84171322e-02,\n",
              "        3.12124850e-02, 4.84171322e-02, 5.31914894e-02, 5.31914894e-02,\n",
              "        5.31914894e-02, 5.31914894e-02, 5.92184899e-01, 5.92184899e-01,\n",
              "        5.92184899e-01, 5.92184899e-01, 0.00000000e+00, 0.00000000e+00,\n",
              "        0.00000000e+00, 0.00000000e+00, 0.00000000e+00, 0.00000000e+00,\n",
              "        0.00000000e+00, 0.00000000e+00, 3.74311534e-04, 3.74311534e-04,\n",
              "        3.74311534e-04, 3.74311534e-04, 2.05077762e-01, 4.76190476e-02,\n",
              "        0.00000000e+00, 4.76190476e-02, 4.06164892e-01, 3.04181048e-02,\n",
              "        0.00000000e+00, 0.00000000e+00, 4.76190476e-02]])"
            ]
          },
          "metadata": {
            "tags": []
          },
          "execution_count": 59
        }
      ]
    },
    {
      "cell_type": "code",
      "metadata": {
        "colab": {
          "base_uri": "https://localhost:8080/",
          "height": 204
        },
        "id": "280xAzPJQHbK",
        "outputId": "9d44d28d-7e9b-4711-d210-8e583ee87501"
      },
      "source": [
        "from imblearn.over_sampling import SMOTE\n",
        "from imblearn.over_sampling import SMOTENC\n",
        "\n",
        "#smx = SMOTENC(random_state=12,  categorical_features=[2])\n",
        "smx = SMOTE(random_state=12)\n",
        "x_res, y_res = smx.fit_sample(training_features.values, training_target.values.ravel())"
      ],
      "execution_count": 60,
      "outputs": [
        {
          "output_type": "error",
          "ename": "AttributeError",
          "evalue": "ignored",
          "traceback": [
            "\u001b[0;31m---------------------------------------------------------------------------\u001b[0m",
            "\u001b[0;31mAttributeError\u001b[0m                            Traceback (most recent call last)",
            "\u001b[0;32m<ipython-input-60-b665ef72d4c7>\u001b[0m in \u001b[0;36m<module>\u001b[0;34m()\u001b[0m\n\u001b[1;32m      4\u001b[0m \u001b[0;31m#smx = SMOTENC(random_state=12,  categorical_features=[2])\u001b[0m\u001b[0;34m\u001b[0m\u001b[0;34m\u001b[0m\u001b[0;34m\u001b[0m\u001b[0m\n\u001b[1;32m      5\u001b[0m \u001b[0msmx\u001b[0m \u001b[0;34m=\u001b[0m \u001b[0mSMOTE\u001b[0m\u001b[0;34m(\u001b[0m\u001b[0mrandom_state\u001b[0m\u001b[0;34m=\u001b[0m\u001b[0;36m12\u001b[0m\u001b[0;34m)\u001b[0m\u001b[0;34m\u001b[0m\u001b[0;34m\u001b[0m\u001b[0m\n\u001b[0;32m----> 6\u001b[0;31m \u001b[0mx_res\u001b[0m\u001b[0;34m,\u001b[0m \u001b[0my_res\u001b[0m \u001b[0;34m=\u001b[0m \u001b[0msmx\u001b[0m\u001b[0;34m.\u001b[0m\u001b[0mfit_sample\u001b[0m\u001b[0;34m(\u001b[0m\u001b[0mtraining_features\u001b[0m\u001b[0;34m.\u001b[0m\u001b[0mvalues\u001b[0m\u001b[0;34m,\u001b[0m \u001b[0mtraining_target\u001b[0m\u001b[0;34m.\u001b[0m\u001b[0mvalues\u001b[0m\u001b[0;34m.\u001b[0m\u001b[0mravel\u001b[0m\u001b[0;34m(\u001b[0m\u001b[0;34m)\u001b[0m\u001b[0;34m)\u001b[0m\u001b[0;34m\u001b[0m\u001b[0;34m\u001b[0m\u001b[0m\n\u001b[0m",
            "\u001b[0;31mAttributeError\u001b[0m: 'numpy.ndarray' object has no attribute 'values'"
          ]
        }
      ]
    },
    {
      "cell_type": "code",
      "metadata": {
        "id": "qW6zUuHRc3y_"
      },
      "source": [
        "y_res[:5]"
      ],
      "execution_count": null,
      "outputs": []
    },
    {
      "cell_type": "code",
      "metadata": {
        "id": "nZRbM4nLceqA"
      },
      "source": [
        "df_x=pd.DataFrame(x_res)\n",
        "df_x.columns = [\n",
        " 'failure', 'metric1', 'metric2', 'metric3',\n",
        "       'metric4', 'metric5', 'metric6', 'metric7', 'metric8', 'metric9',\n",
        "       'metric1_mean', 'metric1_median',\n",
        "       'metric1_max', 'metric1_min', 'metric2_mean', 'metric2_median',\n",
        "       'metric2_max', 'metric2_min', 'metric3_mean', 'metric3_median',\n",
        "       'metric3_max', 'metric3_min', 'metric4_mean', 'metric4_median',\n",
        "       'metric4_max', 'metric4_min', 'metric5_mean', 'metric5_median',\n",
        "       'metric5_max', 'metric5_min', 'metric6_mean', 'metric6_median',\n",
        "       'metric6_max', 'metric6_min', 'metric7_mean', 'metric7_median',\n",
        "       'metric7_max', 'metric7_min', 'metric8_mean', 'metric8_median',\n",
        "       'metric8_max', 'metric8_min', 'metric9_mean', 'metric9_median',\n",
        "       'metric9_max', 'metric9_min', 'metric1_chg', 'metric2_chg',\n",
        "       'metric3_chg', 'metric4_chg', 'metric5_chg', 'metric6_chg',\n",
        "       'metric7_chg', 'metric8_chg', 'metric9_chg']"
      ],
      "execution_count": null,
      "outputs": []
    },
    {
      "cell_type": "code",
      "metadata": {
        "id": "EDxb7orxcemt"
      },
      "source": [
        "df_y=pd.DataFrame(y_res)\n",
        "df_y.columns = ['FAILURE_TARGET']"
      ],
      "execution_count": null,
      "outputs": []
    },
    {
      "cell_type": "code",
      "metadata": {
        "id": "b9r_aRC-cekE"
      },
      "source": [
        "df_y.mean(axis = 0)"
      ],
      "execution_count": null,
      "outputs": []
    },
    {
      "cell_type": "code",
      "metadata": {
        "id": "GWzlnvntcehQ"
      },
      "source": [
        "df_balanced = pd.concat([df_y, df_x], axis=1)\n",
        "print(df_balanced.shape)\n",
        "df_balanced.head()"
      ],
      "execution_count": null,
      "outputs": []
    },
    {
      "cell_type": "code",
      "metadata": {
        "id": "x2zInXqncedQ"
      },
      "source": [
        "df_balanced=df_balanced.drop(columns=['index'])"
      ],
      "execution_count": null,
      "outputs": []
    },
    {
      "cell_type": "code",
      "metadata": {
        "id": "xMam11WNceZ2"
      },
      "source": [
        "features = [x for x in df_balanced.columns if x not in ['FAILURE_TARGET','EQUIPMENT_FAILURE']]  \n",
        "dependent=pd.DataFrame(df_balanced['FAILURE_TARGET'])\n",
        "independent=df_balanced.drop(columns=['FAILURE_TARGET'])\n",
        "#make sure everything is numeric for simplicity\n",
        "independent = independent.apply(pd.to_numeric) \n",
        "df_balanced = df_balanced.apply(pd.to_numeric)"
      ],
      "execution_count": null,
      "outputs": []
    },
    {
      "cell_type": "code",
      "metadata": {
        "id": "83JyhuKejXZY"
      },
      "source": [
        "import matplotlib.pylab as plt\n",
        "%matplotlib inline\n",
        "def evaluate_model(alg, train, target, predictors,  early_stopping_rounds=1):\n",
        "    \n",
        "   \n",
        "    #Fit the algorithm on the data\n",
        "    alg.fit(train[predictors], target['FAILURE_TARGET'], eval_metric='auc')\n",
        "        \n",
        "    #Predict training set:\n",
        "    dtrain_predictions = alg.predict(train[predictors])\n",
        "    dtrain_predprob = alg.predict_proba(train[predictors])[:,1]\n",
        "    \n",
        "    feat_imp = pd.Series(alg.get_booster().get_fscore()).sort_values(ascending=False) \n",
        "    feat_imp.plot(kind='bar', title='Feature Importance', color='g') \n",
        "    plt.ylabel('Feature Importance Score')\n",
        "        \n",
        "    #Print model report:\n",
        "    print(\"\\nModel Report\")\n",
        "    print(\"Accuracy : %.4g\" % metrics.accuracy_score(target['FAILURE_TARGET'].values, dtrain_predictions))\n",
        "    print(\"AUC Score (Balanced): %f\" % metrics.roc_auc_score(target['FAILURE_TARGET'], dtrain_predprob))"
      ],
      "execution_count": null,
      "outputs": []
    },
    {
      "cell_type": "code",
      "metadata": {
        "id": "yIq8nxyOjXTX"
      },
      "source": [
        "from xgboost.sklearn import XGBClassifier\n",
        "xgb0 = XGBClassifier(\n",
        " objective= 'binary:logistic')"
      ],
      "execution_count": null,
      "outputs": []
    },
    {
      "cell_type": "code",
      "metadata": {
        "id": "xpWhelWBjXN2"
      },
      "source": [
        "evaluate_model(xgb0, independent, dependent,features)"
      ],
      "execution_count": null,
      "outputs": []
    },
    {
      "cell_type": "code",
      "metadata": {
        "id": "cocRuf-ZjXF8"
      },
      "source": [
        "df_testing=df_train_test[df_train_test['MODELING_GROUP'] == 'TESTING'].copy()\n",
        "df_training=df_train_test[df_train_test['MODELING_GROUP'] != 'TESTING'].copy()"
      ],
      "execution_count": null,
      "outputs": []
    },
    {
      "cell_type": "code",
      "metadata": {
        "id": "Pf2-7A8UjW2v"
      },
      "source": [
        "df_training['P_FAIL']= xgb0.predict_proba(df_training[features])[:,1];\n",
        "df_training['Y_FAIL'] = np.where(((df_training.P_FAIL <= .50)), 0, 1)\n",
        "#Print model report:\n",
        "print(\"Accuracy : %.4g\" % metrics.accuracy_score(df_training['FAILURE_TARGET'].values, df_training['Y_FAIL']))\n",
        "print(\"AUC Score (Train): %f\" % metrics.roc_auc_score(df_training['FAILURE_TARGET'], df_training['P_FAIL']))"
      ],
      "execution_count": null,
      "outputs": []
    },
    {
      "cell_type": "code",
      "metadata": {
        "id": "xyTK1Vt0mJt-"
      },
      "source": [
        "df_training['P_FAIL']= xgb0.predict_proba(df_training[features])[:,1];\n",
        "df_training['Y_FAIL'] = np.where(((df_training.P_FAIL <= .67)), 0, 1)\n",
        "#Print model report:\n",
        "print(\"Accuracy : %.4g\" % metrics.accuracy_score(df_training['FAILURE_TARGET'].values, df_training['Y_FAIL']))\n",
        "print(\"AUC Score (Train): %f\" % metrics.roc_auc_score(df_training['FAILURE_TARGET'], df_training['P_FAIL']))"
      ],
      "execution_count": null,
      "outputs": []
    },
    {
      "cell_type": "code",
      "metadata": {
        "id": "I7rZzx25l_aj"
      },
      "source": [
        "df_testing['P_FAIL']= xgb0.predict_proba(df_testing[features])[:,1];\n",
        "df_testing['Y_FAIL'] = np.where(((df_testing.P_FAIL <= .67)), 0, 1)\n",
        "#Print model report:\n",
        "print(\"Accuracy : %.4g\" % metrics.accuracy_score(df_testing['FAILURE_TARGET'].values, df_testing['Y_FAIL']))\n",
        "print(\"AUC Score (Test): %f\" % metrics.roc_auc_score(df_testing['FAILURE_TARGET'], df_testing['P_FAIL']))"
      ],
      "execution_count": null,
      "outputs": []
    },
    {
      "cell_type": "code",
      "metadata": {
        "id": "ikAzXUwLl_Xx"
      },
      "source": [
        "xxxx = pd.DataFrame(pd_data.groupby(['failure'])['device'].agg('count'))\n",
        "xxxx"
      ],
      "execution_count": null,
      "outputs": []
    },
    {
      "cell_type": "code",
      "metadata": {
        "id": "vRNPQaSKl_Un"
      },
      "source": [
        "print(pd.crosstab(df_testing.Y_FAIL, df_testing.failure, dropna=False))"
      ],
      "execution_count": null,
      "outputs": []
    },
    {
      "cell_type": "code",
      "metadata": {
        "id": "sT4s5U82l_R-"
      },
      "source": [
        "print(pd.crosstab(df_testing.Y_FAIL, df_testing.FAILURE_TARGET, dropna=False))"
      ],
      "execution_count": null,
      "outputs": []
    },
    {
      "cell_type": "code",
      "metadata": {
        "id": "E93eRquSnk-U"
      },
      "source": [
        "forecast_window=90"
      ],
      "execution_count": null,
      "outputs": []
    },
    {
      "cell_type": "code",
      "metadata": {
        "id": "FIPP2y-Rl_Po"
      },
      "source": [
        "df_train_test['P_FAIL']= xgb0.predict_proba(df_train_test[features])[:,1];\n",
        "df_train_test['Y_FAIL'] = np.where(((df_train_test.P_FAIL <= .67)), 0, 1)"
      ],
      "execution_count": null,
      "outputs": []
    },
    {
      "cell_type": "code",
      "metadata": {
        "id": "vAYSIvtdl_Ml"
      },
      "source": [
        "#sort the data by id and date.\n",
        "xx=df_train_test\n",
        "xx=xx.sort_values(by=['device','date'], ascending=[True, True])"
      ],
      "execution_count": null,
      "outputs": []
    },
    {
      "cell_type": "code",
      "metadata": {
        "id": "Uh7fpXQZl_J_"
      },
      "source": [
        "#create a unique list of machines\n",
        "aa=xx\n",
        "\n",
        "pd_id=aa.drop_duplicates(subset='device')\n",
        "pd_id=pd_id[['device']]\n",
        "pd_id.shape"
      ],
      "execution_count": null,
      "outputs": []
    },
    {
      "cell_type": "code",
      "metadata": {
        "id": "hQZq6buRl_HE"
      },
      "source": [
        "#label each machine with a sequential number\n",
        "pd_id=pd_id.reset_index(drop=True)\n",
        "pd_id=pd_id.reset_index(drop=False)\n",
        "pd_id=pd_id.rename(columns={\"index\": \"SCOOBYDOO\"})\n",
        "pd_id['SCOOBYDOO']=pd_id['SCOOBYDOO']+1\n",
        "pd_id.head()"
      ],
      "execution_count": null,
      "outputs": []
    },
    {
      "cell_type": "code",
      "metadata": {
        "id": "mOsR8FhFl_DE"
      },
      "source": [
        "#grab the max number of machines +1\n",
        "\n",
        "column = pd_id[\"SCOOBYDOO\"]\n",
        "max_value = column.max()+1\n",
        "max_value"
      ],
      "execution_count": null,
      "outputs": []
    },
    {
      "cell_type": "code",
      "metadata": {
        "id": "tMEii-hLQHYJ"
      },
      "source": [
        "data_df['device'].nunique()\n",
        "len(data_df.device.unique())"
      ],
      "execution_count": null,
      "outputs": []
    },
    {
      "cell_type": "code",
      "metadata": {
        "id": "tuCnmJZapGUn"
      },
      "source": [
        "#append sequential number to main file\n",
        "xx=xx.sort_values(by=['device'], ascending=[True])\n",
        "pd_id=pd_id.sort_values(by=['device'], ascending=[True])\n",
        "xx =xx.merge(pd_id, on=['device'], how='inner')\n",
        "xx.head()"
      ],
      "execution_count": null,
      "outputs": []
    },
    {
      "cell_type": "code",
      "metadata": {
        "id": "Rdv9cj92pGSe"
      },
      "source": [
        "#sort data\n",
        "xx=xx.sort_values(by=['device','date'], ascending=[True,True])\n",
        "\n",
        "#reset index\n",
        "xx=xx.reset_index(drop=True)"
      ],
      "execution_count": null,
      "outputs": []
    },
    {
      "cell_type": "code",
      "metadata": {
        "id": "8dPWAhkdpGQi"
      },
      "source": [
        "#create a null dataframe for the next step\n",
        "df_fred=xx\n",
        "df_fred['Y_FAIL_sumxx']=0\n",
        "df_fred=df_fred[df_fred['SCOOBYDOO'] == max_value+1]\n",
        "df_fred.shape"
      ],
      "execution_count": null,
      "outputs": []
    },
    {
      "cell_type": "code",
      "metadata": {
        "id": "_mRkDuSRpGM7"
      },
      "source": [
        "#sum the number of signals occuring over the last 90 days for each machine individually\n",
        "\n",
        "for x in range(max_value):\n",
        "        dffx=xx[xx['SCOOBYDOO'] ==x]\n",
        "        dff=dffx.copy()\n",
        "        dff['Y_FAIL_sumxx'] =(dff['Y_FAIL'].rolling(min_periods=1, window=(forecast_window)).sum())\n",
        "        df_fred= pd.concat([df_fred,dff])"
      ],
      "execution_count": null,
      "outputs": []
    },
    {
      "cell_type": "code",
      "metadata": {
        "id": "0Z61dS2UpGKq"
      },
      "source": [
        "xx=df_fred\n",
        "xx.head(5)"
      ],
      "execution_count": null,
      "outputs": []
    },
    {
      "cell_type": "code",
      "metadata": {
        "id": "pktM7s7qpGHc"
      },
      "source": [
        "# if a signal has occured in the last 90 days, the signal is 0.\n",
        "xx['Y_FAILZ']=np.where((xx.Y_FAIL_sumxx>1), 0, xx.Y_FAIL)"
      ],
      "execution_count": null,
      "outputs": []
    },
    {
      "cell_type": "code",
      "metadata": {
        "id": "xlhnnTFLpGEO"
      },
      "source": [
        "#sort the data by id and date.\n",
        "\n",
        "xx=xx.sort_values(by=['device','date'], ascending=[True, True])"
      ],
      "execution_count": null,
      "outputs": []
    },
    {
      "cell_type": "code",
      "metadata": {
        "id": "E8ikYUmtqmgE"
      },
      "source": [
        "#create signal id with the cumsum function.\n",
        "xx['SIGNAL_ID'] = xx['Y_FAILZ'].cumsum()"
      ],
      "execution_count": null,
      "outputs": []
    },
    {
      "cell_type": "code",
      "metadata": {
        "id": "VLeOlJ39qnnr"
      },
      "source": [
        "df_signals=xx[xx['Y_FAILZ'] == 1]\n",
        "df_signal_date=df_signals[['SIGNAL_ID','date','device']]\n",
        "df_signal_date=df_signal_date.rename(index=str, columns={\"date\": \"SIGNAL_DATE\"})\n",
        "df_signal_date=df_signal_date.rename(index=str, columns={\"device\": \"ID_OF_SIGNAL\"})"
      ],
      "execution_count": null,
      "outputs": []
    },
    {
      "cell_type": "code",
      "metadata": {
        "id": "6qM8edXaqnky"
      },
      "source": [
        "df_signal_date.shape"
      ],
      "execution_count": null,
      "outputs": []
    },
    {
      "cell_type": "code",
      "metadata": {
        "id": "0cxOIHotqniM"
      },
      "source": [
        "xx =xx.merge(df_signal_date, on=['SIGNAL_ID'], how='outer')"
      ],
      "execution_count": null,
      "outputs": []
    },
    {
      "cell_type": "code",
      "metadata": {
        "id": "M-OC19miqnfZ"
      },
      "source": [
        ""
      ],
      "execution_count": null,
      "outputs": []
    },
    {
      "cell_type": "code",
      "metadata": {
        "id": "3yfcv_Lwqmd2"
      },
      "source": [
        ""
      ],
      "execution_count": null,
      "outputs": []
    },
    {
      "cell_type": "code",
      "metadata": {
        "id": "k4bWQf90qmbf"
      },
      "source": [
        ""
      ],
      "execution_count": null,
      "outputs": []
    },
    {
      "cell_type": "code",
      "metadata": {
        "id": "Ja5crh6nqmYn"
      },
      "source": [
        ""
      ],
      "execution_count": null,
      "outputs": []
    },
    {
      "cell_type": "code",
      "metadata": {
        "id": "Mqw8D-GzqmV5"
      },
      "source": [
        ""
      ],
      "execution_count": null,
      "outputs": []
    },
    {
      "cell_type": "code",
      "metadata": {
        "id": "_xJ81Y0LqmTx"
      },
      "source": [
        ""
      ],
      "execution_count": null,
      "outputs": []
    },
    {
      "cell_type": "code",
      "metadata": {
        "id": "nUC1fhuxqmQZ"
      },
      "source": [
        ""
      ],
      "execution_count": null,
      "outputs": []
    },
    {
      "cell_type": "code",
      "metadata": {
        "id": "9a0pkAMQqmNP"
      },
      "source": [
        ""
      ],
      "execution_count": null,
      "outputs": []
    },
    {
      "cell_type": "code",
      "metadata": {
        "id": "jCGkm5iIpFY5"
      },
      "source": [
        ""
      ],
      "execution_count": null,
      "outputs": []
    }
  ]
}